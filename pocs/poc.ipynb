{
 "cells": [
  {
   "cell_type": "code",
   "execution_count": 35,
   "metadata": {},
   "outputs": [],
   "source": [
    "import wfdb\n",
    "import os\n",
    "from glob import glob"
   ]
  },
  {
   "cell_type": "code",
   "execution_count": 36,
   "metadata": {},
   "outputs": [],
   "source": [
    "def fetch_records(record_name, directory):\n",
    "    record_details = os.path.join(directory, record_name)\n",
    "    record = wfdb.rdrecord(record_details, physical=True)\n",
    "    attributes = wfdb.rdann(record_details, extension='atr')\n",
    "\n",
    "    return record, attributes"
   ]
  },
  {
   "cell_type": "code",
   "execution_count": 37,
   "metadata": {},
   "outputs": [
    {
     "name": "stdout",
     "output_type": "stream",
     "text": [
      "{'100': {'record': <wfdb.io.record.Record object at 0x000002599E1362A0>, 'attribute': <wfdb.io.annotation.Annotation object at 0x000002599EFECC80>}, '101': {'record': <wfdb.io.record.Record object at 0x000002599EFEE780>, 'attribute': <wfdb.io.annotation.Annotation object at 0x000002599EFED8E0>}, '102': {'record': <wfdb.io.record.Record object at 0x000002599EFED790>, 'attribute': <wfdb.io.annotation.Annotation object at 0x000002599EFECA10>}, '103': {'record': <wfdb.io.record.Record object at 0x000002599EFECB30>, 'attribute': <wfdb.io.annotation.Annotation object at 0x000002599ECB4BC0>}, '104': {'record': <wfdb.io.record.Record object at 0x000002599EFED280>, 'attribute': <wfdb.io.annotation.Annotation object at 0x000002599EC9C1D0>}, '105': {'record': <wfdb.io.record.Record object at 0x000002599EC9D6A0>, 'attribute': <wfdb.io.annotation.Annotation object at 0x000002599EC9D9A0>}, '106': {'record': <wfdb.io.record.Record object at 0x000002599E261B50>, 'attribute': <wfdb.io.annotation.Annotation object at 0x000002599EEC1970>}, '107': {'record': <wfdb.io.record.Record object at 0x000002599EEC0BC0>, 'attribute': <wfdb.io.annotation.Annotation object at 0x000002599EEC2360>}, '108': {'record': <wfdb.io.record.Record object at 0x000002599EFEEBA0>, 'attribute': <wfdb.io.annotation.Annotation object at 0x000002599F6A9F70>}, '109': {'record': <wfdb.io.record.Record object at 0x000002599F349010>, 'attribute': <wfdb.io.annotation.Annotation object at 0x000002599F349BB0>}, '111': {'record': <wfdb.io.record.Record object at 0x000002599F34A810>, 'attribute': <wfdb.io.annotation.Annotation object at 0x000002599F34A660>}, '112': {'record': <wfdb.io.record.Record object at 0x000002599F331DF0>, 'attribute': <wfdb.io.annotation.Annotation object at 0x000002599F349220>}, '113': {'record': <wfdb.io.record.Record object at 0x000002599F3301A0>, 'attribute': <wfdb.io.annotation.Annotation object at 0x000002599F331610>}, '114': {'record': <wfdb.io.record.Record object at 0x000002599F3302F0>, 'attribute': <wfdb.io.annotation.Annotation object at 0x000002599F0079B0>}, '115': {'record': <wfdb.io.record.Record object at 0x000002599F004740>, 'attribute': <wfdb.io.annotation.Annotation object at 0x000002599F007770>}, '116': {'record': <wfdb.io.record.Record object at 0x000002599EEA5FA0>, 'attribute': <wfdb.io.annotation.Annotation object at 0x000002599F0043B0>}, '117': {'record': <wfdb.io.record.Record object at 0x000002599EEA66C0>, 'attribute': <wfdb.io.annotation.Annotation object at 0x000002599EEA77A0>}, '118': {'record': <wfdb.io.record.Record object at 0x000002599EEA62D0>, 'attribute': <wfdb.io.annotation.Annotation object at 0x000002599F111700>}, '119': {'record': <wfdb.io.record.Record object at 0x000002599F112E40>, 'attribute': <wfdb.io.annotation.Annotation object at 0x000002599F0443B0>}, '121': {'record': <wfdb.io.record.Record object at 0x000002599F047AD0>, 'attribute': <wfdb.io.annotation.Annotation object at 0x000002599F047110>}, '122': {'record': <wfdb.io.record.Record object at 0x000002599F047A40>, 'attribute': <wfdb.io.annotation.Annotation object at 0x000002599F047350>}, '123': {'record': <wfdb.io.record.Record object at 0x000002599F044CB0>, 'attribute': <wfdb.io.annotation.Annotation object at 0x000002599F047590>}, '124': {'record': <wfdb.io.record.Record object at 0x000002599F0475F0>, 'attribute': <wfdb.io.annotation.Annotation object at 0x000002599F045370>}, '200': {'record': <wfdb.io.record.Record object at 0x000002599F330C50>, 'attribute': <wfdb.io.annotation.Annotation object at 0x000002599F044CE0>}, '201': {'record': <wfdb.io.record.Record object at 0x000002599F044AD0>, 'attribute': <wfdb.io.annotation.Annotation object at 0x000002599F09EC90>}, '202': {'record': <wfdb.io.record.Record object at 0x000002599F09D730>, 'attribute': <wfdb.io.annotation.Annotation object at 0x000002599F0055E0>}, '203': {'record': <wfdb.io.record.Record object at 0x000002599F09FC50>, 'attribute': <wfdb.io.annotation.Annotation object at 0x000002599F09ED20>}, '205': {'record': <wfdb.io.record.Record object at 0x000002599F09E390>, 'attribute': <wfdb.io.annotation.Annotation object at 0x000002599F09EA50>}, '207': {'record': <wfdb.io.record.Record object at 0x000002599F09D400>, 'attribute': <wfdb.io.annotation.Annotation object at 0x000002599F09E420>}, '208': {'record': <wfdb.io.record.Record object at 0x000002599F09F1D0>, 'attribute': <wfdb.io.annotation.Annotation object at 0x000002599F09C500>}, '209': {'record': <wfdb.io.record.Record object at 0x000002599F09C3E0>, 'attribute': <wfdb.io.annotation.Annotation object at 0x000002599F09F140>}, '210': {'record': <wfdb.io.record.Record object at 0x000002599F09F770>, 'attribute': <wfdb.io.annotation.Annotation object at 0x000002599F09C2F0>}, '212': {'record': <wfdb.io.record.Record object at 0x000002599F12D040>, 'attribute': <wfdb.io.annotation.Annotation object at 0x000002599F12C530>}, '213': {'record': <wfdb.io.record.Record object at 0x000002599F12C560>, 'attribute': <wfdb.io.annotation.Annotation object at 0x000002599F12E3F0>}, '214': {'record': <wfdb.io.record.Record object at 0x000002599F12CE90>, 'attribute': <wfdb.io.annotation.Annotation object at 0x000002599F12F740>}, '215': {'record': <wfdb.io.record.Record object at 0x000002599F12FF20>, 'attribute': <wfdb.io.annotation.Annotation object at 0x000002599F12F9B0>}, '217': {'record': <wfdb.io.record.Record object at 0x000002599F12E4E0>, 'attribute': <wfdb.io.annotation.Annotation object at 0x000002599F12D730>}, '219': {'record': <wfdb.io.record.Record object at 0x000002599F12D7C0>, 'attribute': <wfdb.io.annotation.Annotation object at 0x000002599F12C4D0>}, '220': {'record': <wfdb.io.record.Record object at 0x000002599F12CEC0>, 'attribute': <wfdb.io.annotation.Annotation object at 0x000002599F12F6B0>}, '221': {'record': <wfdb.io.record.Record object at 0x000002599F12D2E0>, 'attribute': <wfdb.io.annotation.Annotation object at 0x000002599F12D5B0>}, '222': {'record': <wfdb.io.record.Record object at 0x000002599F12C440>, 'attribute': <wfdb.io.annotation.Annotation object at 0x000002599F03A930>}, '223': {'record': <wfdb.io.record.Record object at 0x000002599F03A900>, 'attribute': <wfdb.io.annotation.Annotation object at 0x000002599F039C70>}, '228': {'record': <wfdb.io.record.Record object at 0x000002599F0393D0>, 'attribute': <wfdb.io.annotation.Annotation object at 0x000002599F038560>}, '230': {'record': <wfdb.io.record.Record object at 0x000002599F039520>, 'attribute': <wfdb.io.annotation.Annotation object at 0x000002599F19FA10>}, '231': {'record': <wfdb.io.record.Record object at 0x000002599F19E960>, 'attribute': <wfdb.io.annotation.Annotation object at 0x000002599F6BECC0>}, '232': {'record': <wfdb.io.record.Record object at 0x000002599F6BED80>, 'attribute': <wfdb.io.annotation.Annotation object at 0x000002599F6BEC60>}, '233': {'record': <wfdb.io.record.Record object at 0x000002599F6BEF90>, 'attribute': <wfdb.io.annotation.Annotation object at 0x000002599F6BFFE0>}, '234': {'record': <wfdb.io.record.Record object at 0x000002599F568260>, 'attribute': <wfdb.io.annotation.Annotation object at 0x000002599F045850>}}\n"
     ]
    }
   ],
   "source": [
    "directory = '../files/mitdb/1.0.0'\n",
    "data = {}\n",
    "\n",
    "records = [os.path.basename(file).split('.')[0] for file in glob(os.path.join(directory, '*.dat'))]\n",
    "\n",
    "for record_detail in records:\n",
    "    record, attributes = fetch_records(record_name=record_detail, directory=directory)\n",
    "    data[record_detail] =  {\n",
    "            \"record\" : record,\n",
    "            \"attribute\": attributes\n",
    "        }\n",
    "\n",
    "print(data)"
   ]
  },
  {
   "cell_type": "code",
   "execution_count": 38,
   "metadata": {},
   "outputs": [
    {
     "name": "stdout",
     "output_type": "stream",
     "text": [
      "['100', '101', '102', '103', '104', '105', '106', '107', '108', '109', '111', '112', '113', '114', '115', '116', '117', '118', '119', '121', '122', '123', '124', '200', '201', '202', '203', '205', '207', '208', '209', '210', '212', '213', '214', '215', '217', '219', '220', '221', '222', '223', '228', '230', '231', '232', '233', '234']\n"
     ]
    }
   ],
   "source": [
    "print(records)"
   ]
  },
  {
   "cell_type": "code",
   "execution_count": 39,
   "metadata": {},
   "outputs": [
    {
     "name": "stdout",
     "output_type": "stream",
     "text": [
      "../files/mitdb/1.0.0\\100.dat\n",
      "../files/mitdb/1.0.0\\101.dat\n",
      "../files/mitdb/1.0.0\\102.dat\n",
      "../files/mitdb/1.0.0\\103.dat\n",
      "../files/mitdb/1.0.0\\104.dat\n",
      "../files/mitdb/1.0.0\\105.dat\n",
      "../files/mitdb/1.0.0\\106.dat\n",
      "../files/mitdb/1.0.0\\107.dat\n",
      "../files/mitdb/1.0.0\\108.dat\n",
      "../files/mitdb/1.0.0\\109.dat\n",
      "../files/mitdb/1.0.0\\111.dat\n",
      "../files/mitdb/1.0.0\\112.dat\n",
      "../files/mitdb/1.0.0\\113.dat\n",
      "../files/mitdb/1.0.0\\114.dat\n",
      "../files/mitdb/1.0.0\\115.dat\n",
      "../files/mitdb/1.0.0\\116.dat\n",
      "../files/mitdb/1.0.0\\117.dat\n",
      "../files/mitdb/1.0.0\\118.dat\n",
      "../files/mitdb/1.0.0\\119.dat\n",
      "../files/mitdb/1.0.0\\121.dat\n",
      "../files/mitdb/1.0.0\\122.dat\n",
      "../files/mitdb/1.0.0\\123.dat\n",
      "../files/mitdb/1.0.0\\124.dat\n",
      "../files/mitdb/1.0.0\\200.dat\n",
      "../files/mitdb/1.0.0\\201.dat\n",
      "../files/mitdb/1.0.0\\202.dat\n",
      "../files/mitdb/1.0.0\\203.dat\n",
      "../files/mitdb/1.0.0\\205.dat\n",
      "../files/mitdb/1.0.0\\207.dat\n",
      "../files/mitdb/1.0.0\\208.dat\n",
      "../files/mitdb/1.0.0\\209.dat\n",
      "../files/mitdb/1.0.0\\210.dat\n",
      "../files/mitdb/1.0.0\\212.dat\n",
      "../files/mitdb/1.0.0\\213.dat\n",
      "../files/mitdb/1.0.0\\214.dat\n",
      "../files/mitdb/1.0.0\\215.dat\n",
      "../files/mitdb/1.0.0\\217.dat\n",
      "../files/mitdb/1.0.0\\219.dat\n",
      "../files/mitdb/1.0.0\\220.dat\n",
      "../files/mitdb/1.0.0\\221.dat\n",
      "../files/mitdb/1.0.0\\222.dat\n",
      "../files/mitdb/1.0.0\\223.dat\n",
      "../files/mitdb/1.0.0\\228.dat\n",
      "../files/mitdb/1.0.0\\230.dat\n",
      "../files/mitdb/1.0.0\\231.dat\n",
      "../files/mitdb/1.0.0\\232.dat\n",
      "../files/mitdb/1.0.0\\233.dat\n",
      "../files/mitdb/1.0.0\\234.dat\n"
     ]
    }
   ],
   "source": [
    "for file in glob(os.path.join(directory, '*.dat')):\n",
    "    print(file)"
   ]
  },
  {
   "cell_type": "markdown",
   "metadata": {},
   "source": [
    "A record can have the following records:\n",
    "\n",
    "> * p_signal: The physical (float) signal values if physical=True\n",
    "> * d_signal: The digital (integer) signal values if physical=False\n",
    "> * fs: Sampling frequency\n",
    "> * sig_len: Signal length\n",
    "> * n_sig: Number of signals\n",
    "> * sig_name: List of signal names\n",
    "> * units: List of signal units\n",
    "> * Other metadata like base_date, base_time, etc.\n",
    "\n",
    "attributes have the following records:\n",
    "\n",
    "> * sample: An Nx1 integer vector containing the annotation locations in samples relative to the beginning of the record.\n",
    "> * symbol: An Nx1 character vector describing the annotation types (e.g., 'N' for normal beat, 'V' for premature ventricular contraction, etc.).\n",
    "> * subtype: An Nx1 integer vector describing annotation subtypes.\n",
    "> * chan: An Nx1 integer vector indicating the channel associated with each annotation.\n",
    "> * num: An Nx1 integer vector containing the annotation numbers.\n",
    "> * aux_note: An Nx1 cell array of strings containing auxiliary information for each annotation.\n",
    "> * fs: The sampling frequency of the record (if available).\n"
   ]
  },
  {
   "cell_type": "code",
   "execution_count": 44,
   "metadata": {},
   "outputs": [
    {
     "data": {
      "text/plain": [
       "array([[-0.145, -0.065],\n",
       "       [-0.145, -0.065],\n",
       "       [-0.145, -0.065],\n",
       "       ...,\n",
       "       [-0.675, -0.365],\n",
       "       [-0.765, -0.335],\n",
       "       [-1.28 ,  0.   ]])"
      ]
     },
     "execution_count": 44,
     "metadata": {},
     "output_type": "execute_result"
    }
   ],
   "source": [
    "data['100']['record'].p_signal"
   ]
  },
  {
   "cell_type": "code",
   "execution_count": null,
   "metadata": {},
   "outputs": [],
   "source": []
  }
 ],
 "metadata": {
  "kernelspec": {
   "display_name": "Python 3",
   "language": "python",
   "name": "python3"
  },
  "language_info": {
   "codemirror_mode": {
    "name": "ipython",
    "version": 3
   },
   "file_extension": ".py",
   "mimetype": "text/x-python",
   "name": "python",
   "nbconvert_exporter": "python",
   "pygments_lexer": "ipython3",
   "version": "3.12.4"
  }
 },
 "nbformat": 4,
 "nbformat_minor": 2
}

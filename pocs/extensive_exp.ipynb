{
 "cells": [
  {
   "cell_type": "code",
   "execution_count": null,
   "id": "f097e9d2-baa1-4170-9e41-e283357894a7",
   "metadata": {},
   "outputs": [
    {
     "name": "stdout",
     "output_type": "stream",
     "text": [
      "Defaulting to user installation because normal site-packages is not writeable\n",
      "Collecting scikit-fuzzy\n",
      "  Downloading scikit_fuzzy-0.5.0-py2.py3-none-any.whl.metadata (2.6 kB)\n",
      "Downloading scikit_fuzzy-0.5.0-py2.py3-none-any.whl (920 kB)\n",
      "\u001b[2K   \u001b[90m━━━━━━━━━━━━━━━━━━━━━━━━━━━━━━━━━━━━━━━━\u001b[0m \u001b[32m920.8/920.8 kB\u001b[0m \u001b[31m11.3 MB/s\u001b[0m eta \u001b[36m0:00:00\u001b[0ma \u001b[36m0:00:01\u001b[0m\n",
      "\u001b[?25hInstalling collected packages: scikit-fuzzy\n",
      "Successfully installed scikit-fuzzy-0.5.0\n"
     ]
    }
   ],
   "source": [
    "!pip install scikit-fuzzy"
   ]
  },
  {
   "cell_type": "code",
   "execution_count": 5,
   "id": "b09fd85f-6138-4751-9fda-da8546607052",
   "metadata": {},
   "outputs": [],
   "source": [
    "from skfuzzy import control as ctrl\n",
    "import numpy as np\n",
    "import skfuzzy as fuzz\n",
    "\n",
    "condition_severity = ctrl.Antecedent(np.arange(0, 101, 1), 'condition_severity')\n",
    "symptom_relevance = ctrl.Antecedent(np.arange(0, 101, 1), 'symptom_relevance')\n",
    "recommendation = ctrl.Consequent(np.arange(0, 101, 1), 'recommendation')\n",
    "\n",
    "condition_severity['low'] = fuzz.trapmf(condition_severity.universe, [0, 0, 30, 50])\n",
    "condition_severity['medium'] = fuzz.trimf(condition_severity.universe, [30, 50, 70])\n",
    "condition_severity['high'] = fuzz.trapmf(condition_severity.universe, [50, 70, 100, 100])\n",
    "\n",
    "symptom_relevance['low'] = fuzz.trapmf(symptom_relevance.universe, [0, 0, 30, 50])\n",
    "symptom_relevance['medium'] = fuzz.trimf(symptom_relevance.universe, [30, 50, 70])\n",
    "symptom_relevance['high'] = fuzz.trapmf(symptom_relevance.universe, [50, 70, 100, 100])\n",
    "\n",
    "recommendation['routine'] = fuzz.trapmf(recommendation.universe, [0, 0, 30, 50])\n",
    "recommendation['priority'] = fuzz.trimf(recommendation.universe, [30, 50, 70])\n",
    "recommendation['urgent'] = fuzz.trapmf(recommendation.universe, [50, 70, 100, 100])\n",
    "\n",
    "rule1 = ctrl.Rule(condition_severity['high'] & symptom_relevance['high'], recommendation['urgent'])\n",
    "rule2 = ctrl.Rule(condition_severity['medium'] & symptom_relevance['medium'], recommendation['priority'])\n",
    "rule3 = ctrl.Rule(condition_severity['low'] & symptom_relevance['low'], recommendation['routine'])\n",
    "\n",
    "recommendation_ctrl = ctrl.ControlSystem([rule1, rule2, rule3])\n",
    "\n",
    "\n"
   ]
  },
  {
   "cell_type": "code",
   "execution_count": 9,
   "id": "9e0eb02e-2dc5-496b-9628-4f7b2ab727ea",
   "metadata": {},
   "outputs": [
    {
     "name": "stdout",
     "output_type": "stream",
     "text": [
      "79.58333333333333\n"
     ]
    }
   ],
   "source": [
    "recommendation_sim = ctrl.ControlSystemSimulation(recommendation_ctrl)\n",
    "recommendation_sim.input['condition_severity'] = 80\n",
    "recommendation_sim.input['symptom_relevance'] = 70\n",
    "recommendation_sim.compute()\n",
    "\n",
    "print(recommendation_sim.output['recommendation'])"
   ]
  },
  {
   "cell_type": "code",
   "execution_count": 13,
   "id": "b89a0137-a8e6-4375-9493-0c64d3423c54",
   "metadata": {},
   "outputs": [
    {
     "name": "stdout",
     "output_type": "stream",
     "text": [
      "Presence of attributes across .hea files:\n",
      "Dx: 38788 files\n",
      "Rx: 0 files\n",
      "Hx: 0 files\n",
      "Sx: 0 files\n",
      "Total .hea files processed: 38788\n"
     ]
    }
   ],
   "source": [
    "import os\n",
    "\n",
    "# Define the path where .hea files are stored\n",
    "hea_files_directory = '../pred_res/input_data/train'\n",
    "attribute_counts = {\"Dx\": 0, \"Rx\": 0, \"Hx\": 0, \"Sx\": 0}\n",
    "\n",
    "# Loop through all .hea files in the directory\n",
    "for filename in os.listdir(hea_files_directory):\n",
    "    if filename.endswith('.hea'):\n",
    "        # Open and read the file\n",
    "        with open(os.path.join(hea_files_directory, filename), 'r') as file:\n",
    "            content = file.read()\n",
    "            \n",
    "            # Check for the presence of each attribute\n",
    "            if \"#Dx: Unknown\" not in content:\n",
    "                attribute_counts[\"Dx\"] += 1\n",
    "            if \"#Rx: Unknown\" not in content:\n",
    "                attribute_counts[\"Rx\"] += 1\n",
    "            if \"#Hx: Unknown\" not in content:\n",
    "                attribute_counts[\"Hx\"] += 1\n",
    "            if \"#Sx: Unknown\" not in content:\n",
    "                attribute_counts[\"Sx\"] += 1\n",
    "\n",
    "# Print the count of files with each attribute\n",
    "print(\"Presence of attributes across .hea files:\")\n",
    "for attribute, count in attribute_counts.items():\n",
    "    print(f\"{attribute}: {count} files\")\n",
    "\n",
    "# Optional: Print total files processed for context\n",
    "total_files = len([f for f in os.listdir(hea_files_directory) if f.endswith('.hea')])\n",
    "print(f\"Total .hea files processed: {total_files}\")"
   ]
  },
  {
   "cell_type": "code",
   "execution_count": 14,
   "id": "8e763124-45f9-4d32-bef1-b80badec721e",
   "metadata": {},
   "outputs": [
    {
     "name": "stdout",
     "output_type": "stream",
     "text": [
      "Sun Oct 27 01:46:43 2024       \n",
      "+---------------------------------------------------------------------------------------+\n",
      "| NVIDIA-SMI 545.23.08              Driver Version: 545.23.08    CUDA Version: 12.3     |\n",
      "|-----------------------------------------+----------------------+----------------------+\n",
      "| GPU  Name                 Persistence-M | Bus-Id        Disp.A | Volatile Uncorr. ECC |\n",
      "| Fan  Temp   Perf          Pwr:Usage/Cap |         Memory-Usage | GPU-Util  Compute M. |\n",
      "|                                         |                      |               MIG M. |\n",
      "|=========================================+======================+======================|\n",
      "|   0  NVIDIA A10                     On  | 00000000:81:00.0 Off |                    0 |\n",
      "|  0%   36C    P0              62W / 150W |  17624MiB / 23028MiB |      8%      Default |\n",
      "|                                         |                      |                  N/A |\n",
      "+-----------------------------------------+----------------------+----------------------+\n",
      "                                                                                         \n",
      "+---------------------------------------------------------------------------------------+\n",
      "| Processes:                                                                            |\n",
      "|  GPU   GI   CI        PID   Type   Process name                            GPU Memory |\n",
      "|        ID   ID                                                             Usage      |\n",
      "|=======================================================================================|\n",
      "|    0   N/A  N/A     21221      C   python                                    17612MiB |\n",
      "+---------------------------------------------------------------------------------------+\n"
     ]
    }
   ],
   "source": [
    "!nvidia-smi"
   ]
  },
  {
   "cell_type": "code",
   "execution_count": 2,
   "id": "27ae7c39",
   "metadata": {},
   "outputs": [
    {
     "name": "stdout",
     "output_type": "stream",
     "text": [
      "Top record from predictions.csv:\n",
      "       filename  10370003_label  111975006_label  164889003_label  \\\n",
      "0    E03065.mat               0                0                0   \n",
      "1    E03604.mat               0                1                0   \n",
      "2   HR15478.mat               0                0                1   \n",
      "3     A3309.mat               0                0                1   \n",
      "4     A2844.mat               0                1                0   \n",
      "5    E08660.mat               0                0                0   \n",
      "6   HR13646.mat               0                0                0   \n",
      "7   HR13474.mat               0                0                0   \n",
      "8     Q0903.mat               0                0                0   \n",
      "9     Q2567.mat               0                0                0   \n",
      "10    A2606.mat               0                0                0   \n",
      "11    A3498.mat               0                0                0   \n",
      "12   E07597.mat               0                1                0   \n",
      "13  HR07524.mat               0                0                0   \n",
      "14    A6850.mat               0                0                1   \n",
      "15  HR09036.mat               0                0                0   \n",
      "16   E03086.mat               0                1                0   \n",
      "17  HR15004.mat               0                0                0   \n",
      "18  HR21689.mat               1                0                0   \n",
      "19   E08166.mat               0                0                0   \n",
      "\n",
      "    164890007_label  164909002_label  164917005_label  164934002_label  \\\n",
      "0                 0                0                0                0   \n",
      "1                 0                0                0                0   \n",
      "2                 0                0                0                1   \n",
      "3                 0                1                0                0   \n",
      "4                 0                0                0                1   \n",
      "5                 0                0                0                0   \n",
      "6                 0                0                0                0   \n",
      "7                 0                0                0                0   \n",
      "8                 0                0                0                0   \n",
      "9                 0                0                0                0   \n",
      "10                0                0                0                0   \n",
      "11                0                0                0                0   \n",
      "12                0                0                0                1   \n",
      "13                0                0                0                0   \n",
      "14                0                0                0                0   \n",
      "15                0                0                0                0   \n",
      "16                0                0                0                0   \n",
      "17                0                0                0                0   \n",
      "18                0                0                0                0   \n",
      "19                0                1                0                0   \n",
      "\n",
      "    164947007_label  251146004_label  ...  426783006_score  427084000_score  \\\n",
      "0                 0                0  ...         0.831326     4.542074e-04   \n",
      "1                 0                0  ...         0.024600     3.448056e-02   \n",
      "2                 0                0  ...         0.335358     3.443676e-03   \n",
      "3                 0                0  ...         0.000006     3.668789e-03   \n",
      "4                 0                0  ...         0.002687     2.715101e-03   \n",
      "5                 0                0  ...         0.020236     2.395943e-04   \n",
      "6                 0                0  ...         0.997337     7.809138e-06   \n",
      "7                 0                0  ...         0.952711     8.696502e-02   \n",
      "8                 0                0  ...         0.791187     2.028900e-04   \n",
      "9                 0                0  ...         0.005244     1.038640e-04   \n",
      "10                0                0  ...         0.125864     1.063024e-04   \n",
      "11                0                0  ...         0.855394     8.069836e-04   \n",
      "12                0                0  ...         0.006436     1.201733e-04   \n",
      "13                0                0  ...         0.920903     3.223729e-04   \n",
      "14                0                0  ...         0.000733     1.537873e-02   \n",
      "15                0                0  ...         0.998618     7.241028e-06   \n",
      "16                0                0  ...         0.009852     1.615161e-03   \n",
      "17                0                0  ...         0.971051     5.855005e-02   \n",
      "18                0                0  ...         0.000004     2.994025e-07   \n",
      "19                0                0  ...         0.012405     2.462776e-03   \n",
      "\n",
      "    427172004_score  427393009_score  445118002_score  47665007_score  \\\n",
      "0          0.003063     3.855290e-02     8.823499e-05    6.513082e-05   \n",
      "1          0.153647     7.609408e-03     3.729396e-01    4.148126e-04   \n",
      "2          0.000210     6.670663e-03     3.134088e-05    4.619677e-06   \n",
      "3          0.106326     3.805247e-05     1.725962e-05    5.749095e-05   \n",
      "4          0.025492     1.120818e-02     4.397985e-03    6.144760e-04   \n",
      "5          0.003981     8.567864e-02     1.346284e-05    8.200962e-04   \n",
      "6          0.000003     5.269261e-02     2.605693e-08    4.288699e-05   \n",
      "7          0.000102     1.759051e-02     3.233217e-06    7.043774e-05   \n",
      "8          0.003101     4.913146e-02     5.574237e-07    1.525989e-06   \n",
      "9          0.058783     3.055738e-03     5.891931e-07    8.875832e-05   \n",
      "10         0.002799     2.872175e-03     8.522068e-06    8.049061e-06   \n",
      "11         0.008946     5.617492e-03     2.035087e-08    1.124911e-06   \n",
      "12         0.027290     3.740733e-02     7.230183e-04    1.917051e-02   \n",
      "13         0.000201     5.410402e-02     8.680150e-01    1.317040e-04   \n",
      "14         0.008095     8.975308e-07     1.321148e-06    1.203968e-07   \n",
      "15         0.000001     1.114663e-02     2.412508e-06    1.785662e-06   \n",
      "16         0.467930     2.177749e-02     1.728769e-02    4.589262e-04   \n",
      "17         0.000601     1.800832e-02     1.426872e-05    1.560628e-06   \n",
      "18         0.000054     2.937371e-05     1.132478e-08    7.907053e-06   \n",
      "19         0.019814     1.562674e-02     3.654542e-03    2.642362e-03   \n",
      "\n",
      "    59931005_score  698252002_score  713426002_score  713427006_score  \n",
      "0         0.019980         0.000392         0.000002     1.213798e-07  \n",
      "1         0.159822         0.022923         0.012094     5.291733e-03  \n",
      "2         0.001214         0.080944         0.000016     5.518724e-08  \n",
      "3         0.009764         0.037547         0.001573     1.452977e-04  \n",
      "4         0.251264         0.004477         0.108220     4.581886e-01  \n",
      "5         0.079964         0.010451         0.000474     6.584128e-05  \n",
      "6         0.001203         0.006556         0.002058     3.540253e-06  \n",
      "7         0.000798         0.120328         0.000871     8.544607e-07  \n",
      "8         0.023304         0.001450         0.000481     1.781946e-02  \n",
      "9         0.034125         0.006309         0.000065     6.500640e-03  \n",
      "10        0.002656         0.001989         0.000068     2.387543e-03  \n",
      "11        0.002985         0.000194         0.000002     1.183235e-02  \n",
      "12        0.128337         0.009571         0.570272     1.042896e-01  \n",
      "13        0.002030         0.007870         0.001401     4.665569e-06  \n",
      "14        0.000067         0.000008         0.000295     6.146492e-02  \n",
      "15        0.000055         0.005332         0.000547     1.849117e-07  \n",
      "16        0.030667         0.007108         0.021230     7.189276e-01  \n",
      "17        0.001906         0.010268         0.014463     1.721694e-04  \n",
      "18        0.000181         0.000019         0.000099     2.582385e-06  \n",
      "19        0.017903         0.007438         0.001676     5.886198e-03  \n",
      "\n",
      "[20 rows x 49 columns]\n"
     ]
    }
   ],
   "source": [
    "import pandas as pd\n",
    "# Get top record from predictions.csv\n",
    "top_record = pd.read_csv('predictions_2.csv', header=0, nrows=20)\n",
    "print(\"Top record from predictions.csv:\")\n",
    "print(top_record)"
   ]
  },
  {
   "cell_type": "code",
   "execution_count": 3,
   "id": "210905d7",
   "metadata": {},
   "outputs": [],
   "source": [
    "from collections import defaultdict\n",
    "record_dict = defaultdict(dict)\n",
    "record_dict1 = defaultdict(lambda:defaultdict(dict))"
   ]
  },
  {
   "cell_type": "code",
   "execution_count": 4,
   "id": "2df9f9ac",
   "metadata": {},
   "outputs": [
    {
     "data": {
      "text/plain": [
       "defaultdict(<function __main__.<lambda>()>,\n",
       "            {'E03065.mat': defaultdict(dict,\n",
       "                         {'10370003': {'label': 0, 'score': 1.5029952e-05},\n",
       "                          '111975006': {'label': 0, 'score': 0.039709084},\n",
       "                          '164889003': {'label': 0, 'score': 0.00019273772},\n",
       "                          '164890007': {'label': 0, 'score': 3.030816e-05},\n",
       "                          '164909002': {'label': 0, 'score': 2.0280431e-05},\n",
       "                          '164917005': {'label': 0, 'score': 0.014078175},\n",
       "                          '164934002': {'label': 0, 'score': 0.00031337465},\n",
       "                          '164947007': {'label': 0, 'score': 3.7260636e-06},\n",
       "                          '251146004': {'label': 0, 'score': 0.017095322},\n",
       "                          '270492004': {'label': 0, 'score': 0.00013251675},\n",
       "                          '284470004': {'label': 0, 'score': 0.0029167107},\n",
       "                          '39732003': {'label': 0, 'score': 0.044964742},\n",
       "                          '426177001': {'label': 0, 'score': 0.0023904901},\n",
       "                          '426627000': {'label': 0, 'score': 3.15866e-06},\n",
       "                          '426783006': {'label': 1, 'score': 0.8313262},\n",
       "                          '427084000': {'label': 0, 'score': 0.00045420745},\n",
       "                          '427172004': {'label': 0, 'score': 0.0030625372},\n",
       "                          '427393009': {'label': 0, 'score': 0.0385529},\n",
       "                          '445118002': {'label': 0, 'score': 8.823499e-05},\n",
       "                          '47665007': {'label': 0, 'score': 6.5130815e-05},\n",
       "                          '59931005': {'label': 0, 'score': 0.019980287},\n",
       "                          '698252002': {'label': 0, 'score': 0.0003924041},\n",
       "                          '713426002': {'label': 0, 'score': 2.073263e-06},\n",
       "                          '713427006': {'label': 0, 'score': 1.2137981e-07}}),\n",
       "             'E03604.mat': defaultdict(dict,\n",
       "                         {'10370003': {'label': 0, 'score': 0.00013717911},\n",
       "                          '111975006': {'label': 1, 'score': 0.7922746},\n",
       "                          '164889003': {'label': 0, 'score': 0.0028743835},\n",
       "                          '164890007': {'label': 0, 'score': 0.021495484},\n",
       "                          '164909002': {'label': 0, 'score': 0.007963023},\n",
       "                          '164917005': {'label': 0, 'score': 0.0127345845},\n",
       "                          '164934002': {'label': 0, 'score': 0.18108292},\n",
       "                          '164947007': {'label': 0, 'score': 1.9189814e-05},\n",
       "                          '251146004': {'label': 0, 'score': 0.00073260313},\n",
       "                          '270492004': {'label': 0, 'score': 0.0025009697},\n",
       "                          '284470004': {'label': 0, 'score': 0.15673049},\n",
       "                          '39732003': {'label': 1, 'score': 0.40127948},\n",
       "                          '426177001': {'label': 0, 'score': 0.00010496782},\n",
       "                          '426627000': {'label': 0, 'score': 0.000119176},\n",
       "                          '426783006': {'label': 0, 'score': 0.024599956},\n",
       "                          '427084000': {'label': 0, 'score': 0.034480557},\n",
       "                          '427172004': {'label': 0, 'score': 0.15364726},\n",
       "                          '427393009': {'label': 0, 'score': 0.0076094083},\n",
       "                          '445118002': {'label': 1, 'score': 0.3729396},\n",
       "                          '47665007': {'label': 0, 'score': 0.00041481265},\n",
       "                          '59931005': {'label': 1, 'score': 0.15982188},\n",
       "                          '698252002': {'label': 0, 'score': 0.022922829},\n",
       "                          '713426002': {'label': 0, 'score': 0.012094043},\n",
       "                          '713427006': {'label': 0, 'score': 0.0052917325}}),\n",
       "             'HR15478.mat': defaultdict(dict,\n",
       "                         {'10370003': {'label': 0, 'score': 0.0011563783},\n",
       "                          '111975006': {'label': 0, 'score': 0.014245863},\n",
       "                          '164889003': {'label': 1, 'score': 0.31505743},\n",
       "                          '164890007': {'label': 0, 'score': 0.023361696},\n",
       "                          '164909002': {'label': 0, 'score': 4.1907424e-05},\n",
       "                          '164917005': {'label': 0, 'score': 0.0031143436},\n",
       "                          '164934002': {'label': 1, 'score': 0.5618153},\n",
       "                          '164947007': {'label': 0, 'score': 0.002115476},\n",
       "                          '251146004': {'label': 0, 'score': 0.005068215},\n",
       "                          '270492004': {'label': 1, 'score': 0.12668228},\n",
       "                          '284470004': {'label': 0, 'score': 0.0062640253},\n",
       "                          '39732003': {'label': 1, 'score': 0.29797614},\n",
       "                          '426177001': {'label': 0, 'score': 0.00010642674},\n",
       "                          '426627000': {'label': 0, 'score': 1.0228386e-05},\n",
       "                          '426783006': {'label': 1, 'score': 0.33535838},\n",
       "                          '427084000': {'label': 0, 'score': 0.0034436765},\n",
       "                          '427172004': {'label': 0, 'score': 0.00021019952},\n",
       "                          '427393009': {'label': 0, 'score': 0.0066706627},\n",
       "                          '445118002': {'label': 0, 'score': 3.134088e-05},\n",
       "                          '47665007': {'label': 0, 'score': 4.619677e-06},\n",
       "                          '59931005': {'label': 0, 'score': 0.0012144396},\n",
       "                          '698252002': {'label': 0, 'score': 0.08094373},\n",
       "                          '713426002': {'label': 0, 'score': 1.6043408e-05},\n",
       "                          '713427006': {'label': 0, 'score': 5.5187236e-08}}),\n",
       "             'A3309.mat': defaultdict(dict,\n",
       "                         {'10370003': {'label': 0, 'score': 5.2248633e-05},\n",
       "                          '111975006': {'label': 0, 'score': 0.00066783576},\n",
       "                          '164889003': {'label': 1, 'score': 0.9441366},\n",
       "                          '164890007': {'label': 0, 'score': 0.03397418},\n",
       "                          '164909002': {'label': 1, 'score': 0.74918616},\n",
       "                          '164917005': {'label': 0, 'score': 0.00054340134},\n",
       "                          '164934002': {'label': 0, 'score': 0.008255675},\n",
       "                          '164947007': {'label': 0, 'score': 8.96631e-06},\n",
       "                          '251146004': {'label': 0, 'score': 0.002834442},\n",
       "                          '270492004': {'label': 0, 'score': 0.0024281098},\n",
       "                          '284470004': {'label': 0, 'score': 0.0015062697},\n",
       "                          '39732003': {'label': 0, 'score': 4.9357797e-05},\n",
       "                          '426177001': {'label': 0, 'score': 9.4118036e-07},\n",
       "                          '426627000': {'label': 0, 'score': 0.0026272032},\n",
       "                          '426783006': {'label': 0, 'score': 5.6946874e-06},\n",
       "                          '427084000': {'label': 0, 'score': 0.0036687888},\n",
       "                          '427172004': {'label': 0, 'score': 0.10632631},\n",
       "                          '427393009': {'label': 0, 'score': 3.8052473e-05},\n",
       "                          '445118002': {'label': 0, 'score': 1.725962e-05},\n",
       "                          '47665007': {'label': 0, 'score': 5.749095e-05},\n",
       "                          '59931005': {'label': 0, 'score': 0.00976353},\n",
       "                          '698252002': {'label': 0, 'score': 0.037547395},\n",
       "                          '713426002': {'label': 0, 'score': 0.0015726036},\n",
       "                          '713427006': {'label': 0, 'score': 0.00014529774}}),\n",
       "             'A2844.mat': defaultdict(dict,\n",
       "                         {'10370003': {'label': 0, 'score': 8.317419e-05},\n",
       "                          '111975006': {'label': 1, 'score': 0.5404605},\n",
       "                          '164889003': {'label': 0, 'score': 0.0035573735},\n",
       "                          '164890007': {'label': 0, 'score': 0.002125845},\n",
       "                          '164909002': {'label': 0, 'score': 0.004982759},\n",
       "                          '164917005': {'label': 0, 'score': 0.053038415},\n",
       "                          '164934002': {'label': 1, 'score': 0.4141913},\n",
       "                          '164947007': {'label': 0, 'score': 1.0136349e-05},\n",
       "                          '251146004': {'label': 0, 'score': 0.000104558334},\n",
       "                          '270492004': {'label': 0, 'score': 0.001819446},\n",
       "                          '284470004': {'label': 0, 'score': 0.048709616},\n",
       "                          '39732003': {'label': 0, 'score': 0.12667751},\n",
       "                          '426177001': {'label': 0, 'score': 0.0026150194},\n",
       "                          '426627000': {'label': 0, 'score': 0.00016379297},\n",
       "                          '426783006': {'label': 0, 'score': 0.0026866347},\n",
       "                          '427084000': {'label': 0, 'score': 0.0027151015},\n",
       "                          '427172004': {'label': 0, 'score': 0.025491988},\n",
       "                          '427393009': {'label': 0, 'score': 0.011208177},\n",
       "                          '445118002': {'label': 0, 'score': 0.004397985},\n",
       "                          '47665007': {'label': 0, 'score': 0.00061447604},\n",
       "                          '59931005': {'label': 1, 'score': 0.25126424},\n",
       "                          '698252002': {'label': 0, 'score': 0.0044771405},\n",
       "                          '713426002': {'label': 0, 'score': 0.108220175},\n",
       "                          '713427006': {'label': 1, 'score': 0.45818862}}),\n",
       "             'E08660.mat': defaultdict(dict,\n",
       "                         {'10370003': {'label': 0, 'score': 0.00010935738},\n",
       "                          '111975006': {'label': 0, 'score': 0.006257502},\n",
       "                          '164889003': {'label': 0, 'score': 0.0010151998},\n",
       "                          '164890007': {'label': 0, 'score': 0.0029438874},\n",
       "                          '164909002': {'label': 0, 'score': 0.0001637808},\n",
       "                          '164917005': {'label': 0, 'score': 0.02971122},\n",
       "                          '164934002': {'label': 0, 'score': 0.07964019},\n",
       "                          '164947007': {'label': 0, 'score': 0.0018464696},\n",
       "                          '251146004': {'label': 0, 'score': 0.016093705},\n",
       "                          '270492004': {'label': 1, 'score': 0.4238969},\n",
       "                          '284470004': {'label': 0, 'score': 0.0069996407},\n",
       "                          '39732003': {'label': 0, 'score': 0.00034508124},\n",
       "                          '426177001': {'label': 1, 'score': 0.948188},\n",
       "                          '426627000': {'label': 0, 'score': 0.0016723027},\n",
       "                          '426783006': {'label': 0, 'score': 0.020235939},\n",
       "                          '427084000': {'label': 0, 'score': 0.00023959432},\n",
       "                          '427172004': {'label': 0, 'score': 0.003981041},\n",
       "                          '427393009': {'label': 0, 'score': 0.085678644},\n",
       "                          '445118002': {'label': 0, 'score': 1.346284e-05},\n",
       "                          '47665007': {'label': 0, 'score': 0.0008200962},\n",
       "                          '59931005': {'label': 0, 'score': 0.07996368},\n",
       "                          '698252002': {'label': 0, 'score': 0.010450849},\n",
       "                          '713426002': {'label': 0, 'score': 0.0004741643},\n",
       "                          '713427006': {'label': 0, 'score': 6.584128e-05}}),\n",
       "             'HR13646.mat': defaultdict(dict,\n",
       "                         {'10370003': {'label': 0, 'score': 0.00010808387},\n",
       "                          '111975006': {'label': 0, 'score': 5.803907e-06},\n",
       "                          '164889003': {'label': 0, 'score': 1.800715e-05},\n",
       "                          '164890007': {'label': 0, 'score': 7.5873766e-07},\n",
       "                          '164909002': {'label': 0, 'score': 2.1311057e-06},\n",
       "                          '164917005': {'label': 0, 'score': 0.011859864},\n",
       "                          '164934002': {'label': 0, 'score': 0.013668312},\n",
       "                          '164947007': {'label': 0, 'score': 8.284289e-06},\n",
       "                          '251146004': {'label': 0, 'score': 1.2242108e-07},\n",
       "                          '270492004': {'label': 0, 'score': 4.981018e-06},\n",
       "                          '284470004': {'label': 0, 'score': 0.00045309545},\n",
       "                          '39732003': {'label': 0, 'score': 9.466648e-06},\n",
       "                          '426177001': {'label': 0, 'score': 7.06586e-05},\n",
       "                          '426627000': {'label': 0, 'score': 1.6229624e-06},\n",
       "                          '426783006': {'label': 1, 'score': 0.9973367},\n",
       "                          '427084000': {'label': 0, 'score': 7.809138e-06},\n",
       "                          '427172004': {'label': 0, 'score': 2.9656971e-06},\n",
       "                          '427393009': {'label': 0, 'score': 0.052692614},\n",
       "                          '445118002': {'label': 0, 'score': 2.6056926e-08},\n",
       "                          '47665007': {'label': 0, 'score': 4.2886993e-05},\n",
       "                          '59931005': {'label': 0, 'score': 0.0012026465},\n",
       "                          '698252002': {'label': 0, 'score': 0.006555707},\n",
       "                          '713426002': {'label': 0, 'score': 0.002058246},\n",
       "                          '713427006': {'label': 0, 'score': 3.5402534e-06}}),\n",
       "             'HR13474.mat': defaultdict(dict,\n",
       "                         {'10370003': {'label': 0, 'score': 0.000120591336},\n",
       "                          '111975006': {'label': 0, 'score': 0.0032984726},\n",
       "                          '164889003': {'label': 0, 'score': 0.0021071776},\n",
       "                          '164890007': {'label': 0, 'score': 0.00012761356},\n",
       "                          '164909002': {'label': 0, 'score': 6.0051374e-05},\n",
       "                          '164917005': {'label': 0, 'score': 0.0012673838},\n",
       "                          '164934002': {'label': 0, 'score': 0.033847883},\n",
       "                          '164947007': {'label': 0, 'score': 0.0015655207},\n",
       "                          '251146004': {'label': 0, 'score': 0.0006025565},\n",
       "                          '270492004': {'label': 1, 'score': 0.36529538},\n",
       "                          '284470004': {'label': 0, 'score': 0.0015903884},\n",
       "                          '39732003': {'label': 0, 'score': 0.019341161},\n",
       "                          '426177001': {'label': 0, 'score': 0.00014084212},\n",
       "                          '426627000': {'label': 0, 'score': 4.455237e-05},\n",
       "                          '426783006': {'label': 1, 'score': 0.95271146},\n",
       "                          '427084000': {'label': 0, 'score': 0.08696502},\n",
       "                          '427172004': {'label': 0, 'score': 0.00010166298},\n",
       "                          '427393009': {'label': 0, 'score': 0.017590506},\n",
       "                          '445118002': {'label': 0, 'score': 3.2332168e-06},\n",
       "                          '47665007': {'label': 0, 'score': 7.043774e-05},\n",
       "                          '59931005': {'label': 0, 'score': 0.00079843815},\n",
       "                          '698252002': {'label': 0, 'score': 0.1203276},\n",
       "                          '713426002': {'label': 0, 'score': 0.0008713657},\n",
       "                          '713427006': {'label': 0, 'score': 8.5446067e-07}}),\n",
       "             'Q0903.mat': defaultdict(dict,\n",
       "                         {'10370003': {'label': 0, 'score': 2.4158806e-05},\n",
       "                          '111975006': {'label': 0, 'score': 0.0004952109},\n",
       "                          '164889003': {'label': 0, 'score': 0.00079962215},\n",
       "                          '164890007': {'label': 0, 'score': 7.441807e-05},\n",
       "                          '164909002': {'label': 0, 'score': 7.752325e-05},\n",
       "                          '164917005': {'label': 0, 'score': 0.028234905},\n",
       "                          '164934002': {'label': 0, 'score': 0.009783733},\n",
       "                          '164947007': {'label': 0, 'score': 8.102549e-05},\n",
       "                          '251146004': {'label': 0, 'score': 1.0642651e-05},\n",
       "                          '270492004': {'label': 0, 'score': 0.0029984303},\n",
       "                          '284470004': {'label': 0, 'score': 0.006732749},\n",
       "                          '39732003': {'label': 0, 'score': 0.002717256},\n",
       "                          '426177001': {'label': 0, 'score': 0.00022335075},\n",
       "                          '426627000': {'label': 0, 'score': 0.00010190991},\n",
       "                          '426783006': {'label': 1, 'score': 0.7911874},\n",
       "                          '427084000': {'label': 0, 'score': 0.00020289002},\n",
       "                          '427172004': {'label': 0, 'score': 0.0031012944},\n",
       "                          '427393009': {'label': 0, 'score': 0.049131457},\n",
       "                          '445118002': {'label': 0, 'score': 5.5742373e-07},\n",
       "                          '47665007': {'label': 0, 'score': 1.5259892e-06},\n",
       "                          '59931005': {'label': 0, 'score': 0.023304284},\n",
       "                          '698252002': {'label': 0, 'score': 0.0014501715},\n",
       "                          '713426002': {'label': 0, 'score': 0.00048058556},\n",
       "                          '713427006': {'label': 0, 'score': 0.017819455}}),\n",
       "             'Q2567.mat': defaultdict(dict,\n",
       "                         {'10370003': {'label': 0, 'score': 1.7915409e-05},\n",
       "                          '111975006': {'label': 0, 'score': 0.004362428},\n",
       "                          '164889003': {'label': 0, 'score': 0.001141414},\n",
       "                          '164890007': {'label': 0, 'score': 0.00012853731},\n",
       "                          '164909002': {'label': 0, 'score': 0.11543864},\n",
       "                          '164917005': {'label': 0, 'score': 0.01301096},\n",
       "                          '164934002': {'label': 0, 'score': 0.049634453},\n",
       "                          '164947007': {'label': 0, 'score': 9.562533e-08},\n",
       "                          '251146004': {'label': 0, 'score': 0.0009875421},\n",
       "                          '270492004': {'label': 0, 'score': 0.0006385575},\n",
       "                          '284470004': {'label': 0, 'score': 0.06042272},\n",
       "                          '39732003': {'label': 0, 'score': 1.4245802e-06},\n",
       "                          '426177001': {'label': 0, 'score': 0.0034708935},\n",
       "                          '426627000': {'label': 1, 'score': 0.83780265},\n",
       "                          '426783006': {'label': 0, 'score': 0.0052435696},\n",
       "                          '427084000': {'label': 0, 'score': 0.00010386399},\n",
       "                          '427172004': {'label': 0, 'score': 0.058782518},\n",
       "                          '427393009': {'label': 0, 'score': 0.003055738},\n",
       "                          '445118002': {'label': 0, 'score': 5.8919306e-07},\n",
       "                          '47665007': {'label': 0, 'score': 8.875832e-05},\n",
       "                          '59931005': {'label': 0, 'score': 0.03412515},\n",
       "                          '698252002': {'label': 0, 'score': 0.0063086795},\n",
       "                          '713426002': {'label': 0, 'score': 6.515226e-05},\n",
       "                          '713427006': {'label': 0, 'score': 0.0065006404}}),\n",
       "             'A2606.mat': defaultdict(dict,\n",
       "                         {'10370003': {'label': 0, 'score': 1.6353546e-05},\n",
       "                          '111975006': {'label': 0, 'score': 0.00021149157},\n",
       "                          '164889003': {'label': 0, 'score': 0.0003072904},\n",
       "                          '164890007': {'label': 0, 'score': 0.00010799744},\n",
       "                          '164909002': {'label': 0, 'score': 0.00041068761},\n",
       "                          '164917005': {'label': 0, 'score': 0.0010254332},\n",
       "                          '164934002': {'label': 0, 'score': 0.00013156088},\n",
       "                          '164947007': {'label': 0, 'score': 0.0021237521},\n",
       "                          '251146004': {'label': 0, 'score': 0.00078043295},\n",
       "                          '270492004': {'label': 1, 'score': 0.9335431},\n",
       "                          '284470004': {'label': 0, 'score': 0.0042190943},\n",
       "                          '39732003': {'label': 0, 'score': 0.0027232661},\n",
       "                          '426177001': {'label': 0, 'score': 0.08022837},\n",
       "                          '426627000': {'label': 0, 'score': 0.0038812342},\n",
       "                          '426783006': {'label': 0, 'score': 0.125864},\n",
       "                          '427084000': {'label': 0, 'score': 0.00010630238},\n",
       "                          '427172004': {'label': 0, 'score': 0.0027985387},\n",
       "                          '427393009': {'label': 0, 'score': 0.0028721755},\n",
       "                          '445118002': {'label': 0, 'score': 8.522068e-06},\n",
       "                          '47665007': {'label': 0, 'score': 8.049061e-06},\n",
       "                          '59931005': {'label': 0, 'score': 0.002656106},\n",
       "                          '698252002': {'label': 0, 'score': 0.0019886333},\n",
       "                          '713426002': {'label': 0, 'score': 6.756305e-05},\n",
       "                          '713427006': {'label': 0, 'score': 0.0023875432}}),\n",
       "             'A3498.mat': defaultdict(dict,\n",
       "                         {'10370003': {'label': 0, 'score': 1.8583833e-06},\n",
       "                          '111975006': {'label': 0, 'score': 5.3931875e-05},\n",
       "                          '164889003': {'label': 0, 'score': 0.00065861054},\n",
       "                          '164890007': {'label': 0, 'score': 5.7988777e-06},\n",
       "                          '164909002': {'label': 0, 'score': 0.0014798942},\n",
       "                          '164917005': {'label': 0, 'score': 0.00042289248},\n",
       "                          '164934002': {'label': 0, 'score': 0.0034913535},\n",
       "                          '164947007': {'label': 0, 'score': 4.058196e-07},\n",
       "                          '251146004': {'label': 0, 'score': 0.0010733191},\n",
       "                          '270492004': {'label': 0, 'score': 0.0006198785},\n",
       "                          '284470004': {'label': 0, 'score': 0.08847105},\n",
       "                          '39732003': {'label': 0, 'score': 3.6114802e-06},\n",
       "                          '426177001': {'label': 0, 'score': 7.203381e-06},\n",
       "                          '426627000': {'label': 0, 'score': 0.01133598},\n",
       "                          '426783006': {'label': 1, 'score': 0.85539377},\n",
       "                          '427084000': {'label': 0, 'score': 0.0008069836},\n",
       "                          '427172004': {'label': 0, 'score': 0.008945991},\n",
       "                          '427393009': {'label': 0, 'score': 0.005617492},\n",
       "                          '445118002': {'label': 0, 'score': 2.035087e-08},\n",
       "                          '47665007': {'label': 0, 'score': 1.1249113e-06},\n",
       "                          '59931005': {'label': 0, 'score': 0.0029845184},\n",
       "                          '698252002': {'label': 0, 'score': 0.00019413818},\n",
       "                          '713426002': {'label': 0, 'score': 2.3080902e-06},\n",
       "                          '713427006': {'label': 0, 'score': 0.011832351}}),\n",
       "             'E07597.mat': defaultdict(dict,\n",
       "                         {'10370003': {'label': 0, 'score': 4.864147e-05},\n",
       "                          '111975006': {'label': 1, 'score': 0.78562665},\n",
       "                          '164889003': {'label': 0, 'score': 0.0030169755},\n",
       "                          '164890007': {'label': 0, 'score': 0.00017083628},\n",
       "                          '164909002': {'label': 0, 'score': 0.00032808376},\n",
       "                          '164917005': {'label': 0, 'score': 0.08137964},\n",
       "                          '164934002': {'label': 1, 'score': 0.6466053},\n",
       "                          '164947007': {'label': 0, 'score': 1.5264272e-06},\n",
       "                          '251146004': {'label': 0, 'score': 0.00019504751},\n",
       "                          '270492004': {'label': 0, 'score': 0.00033784076},\n",
       "                          '284470004': {'label': 0, 'score': 0.028659068},\n",
       "                          '39732003': {'label': 0, 'score': 0.0020570995},\n",
       "                          '426177001': {'label': 0, 'score': 0.00050343585},\n",
       "                          '426627000': {'label': 0, 'score': 2.3353763e-05},\n",
       "                          '426783006': {'label': 0, 'score': 0.0064364923},\n",
       "                          '427084000': {'label': 0, 'score': 0.00012017327},\n",
       "                          '427172004': {'label': 0, 'score': 0.027290054},\n",
       "                          '427393009': {'label': 0, 'score': 0.03740733},\n",
       "                          '445118002': {'label': 0, 'score': 0.00072301825},\n",
       "                          '47665007': {'label': 0, 'score': 0.019170515},\n",
       "                          '59931005': {'label': 1, 'score': 0.1283371},\n",
       "                          '698252002': {'label': 0, 'score': 0.009570946},\n",
       "                          '713426002': {'label': 1, 'score': 0.5702718},\n",
       "                          '713427006': {'label': 0, 'score': 0.104289606}}),\n",
       "             'HR07524.mat': defaultdict(dict,\n",
       "                         {'10370003': {'label': 0, 'score': 0.0005753743},\n",
       "                          '111975006': {'label': 0, 'score': 0.0036082924},\n",
       "                          '164889003': {'label': 0, 'score': 0.0025495454},\n",
       "                          '164890007': {'label': 0, 'score': 2.8817189e-05},\n",
       "                          '164909002': {'label': 0, 'score': 0.00032176706},\n",
       "                          '164917005': {'label': 0, 'score': 0.01776692},\n",
       "                          '164934002': {'label': 0, 'score': 0.117726095},\n",
       "                          '164947007': {'label': 0, 'score': 4.8656453e-05},\n",
       "                          '251146004': {'label': 0, 'score': 0.004508044},\n",
       "                          '270492004': {'label': 0, 'score': 0.00022288233},\n",
       "                          '284470004': {'label': 0, 'score': 0.027368156},\n",
       "                          '39732003': {'label': 1, 'score': 0.9937604},\n",
       "                          '426177001': {'label': 0, 'score': 0.0012209865},\n",
       "                          '426627000': {'label': 0, 'score': 1.9582518e-05},\n",
       "                          '426783006': {'label': 1, 'score': 0.92090327},\n",
       "                          '427084000': {'label': 0, 'score': 0.00032237289},\n",
       "                          '427172004': {'label': 0, 'score': 0.00020118384},\n",
       "                          '427393009': {'label': 0, 'score': 0.05410402},\n",
       "                          '445118002': {'label': 1, 'score': 0.868015},\n",
       "                          '47665007': {'label': 0, 'score': 0.00013170397},\n",
       "                          '59931005': {'label': 0, 'score': 0.0020301098},\n",
       "                          '698252002': {'label': 0, 'score': 0.007869976},\n",
       "                          '713426002': {'label': 0, 'score': 0.0014007384},\n",
       "                          '713427006': {'label': 0, 'score': 4.6655687e-06}}),\n",
       "             'A6850.mat': defaultdict(dict,\n",
       "                         {'10370003': {'label': 0, 'score': 2.1911026e-06},\n",
       "                          '111975006': {'label': 0, 'score': 8.188431e-07},\n",
       "                          '164889003': {'label': 1, 'score': 0.5744587},\n",
       "                          '164890007': {'label': 0, 'score': 0.032650884},\n",
       "                          '164909002': {'label': 0, 'score': 0.18605135},\n",
       "                          '164917005': {'label': 0, 'score': 2.172568e-06},\n",
       "                          '164934002': {'label': 0, 'score': 1.5257291e-06},\n",
       "                          '164947007': {'label': 0, 'score': 1.4872633e-06},\n",
       "                          '251146004': {'label': 0, 'score': 6.252851e-06},\n",
       "                          '270492004': {'label': 0, 'score': 0.0014609277},\n",
       "                          '284470004': {'label': 0, 'score': 0.11800077},\n",
       "                          '39732003': {'label': 0, 'score': 5.7350724e-07},\n",
       "                          '426177001': {'label': 0, 'score': 3.6004707e-07},\n",
       "                          '426627000': {'label': 0, 'score': 0.03250241},\n",
       "                          '426783006': {'label': 0, 'score': 0.0007332104},\n",
       "                          '427084000': {'label': 0, 'score': 0.015378731},\n",
       "                          '427172004': {'label': 0, 'score': 0.008095211},\n",
       "                          '427393009': {'label': 0, 'score': 8.9753075e-07},\n",
       "                          '445118002': {'label': 0, 'score': 1.3211483e-06},\n",
       "                          '47665007': {'label': 0, 'score': 1.2039679e-07},\n",
       "                          '59931005': {'label': 0, 'score': 6.664942e-05},\n",
       "                          '698252002': {'label': 0, 'score': 7.5846788e-06},\n",
       "                          '713426002': {'label': 0, 'score': 0.0002953798},\n",
       "                          '713427006': {'label': 0, 'score': 0.061464917}}),\n",
       "             'HR09036.mat': defaultdict(dict,\n",
       "                         {'10370003': {'label': 0, 'score': 4.8765018e-05},\n",
       "                          '111975006': {'label': 0, 'score': 3.7403483e-05},\n",
       "                          '164889003': {'label': 0, 'score': 1.3416148e-05},\n",
       "                          '164890007': {'label': 0, 'score': 1.0925454e-06},\n",
       "                          '164909002': {'label': 0, 'score': 7.1398114e-07},\n",
       "                          '164917005': {'label': 0, 'score': 0.0018492673},\n",
       "                          '164934002': {'label': 0, 'score': 0.0034791564},\n",
       "                          '164947007': {'label': 0, 'score': 9.750571e-07},\n",
       "                          '251146004': {'label': 0, 'score': 0.00013920016},\n",
       "                          '270492004': {'label': 0, 'score': 2.1175867e-06},\n",
       "                          '284470004': {'label': 0, 'score': 0.00025268877},\n",
       "                          '39732003': {'label': 0, 'score': 0.06651404},\n",
       "                          '426177001': {'label': 0, 'score': 0.025608005},\n",
       "                          '426627000': {'label': 0, 'score': 8.972512e-06},\n",
       "                          '426783006': {'label': 1, 'score': 0.99861825},\n",
       "                          '427084000': {'label': 0, 'score': 7.241028e-06},\n",
       "                          '427172004': {'label': 0, 'score': 1.2098991e-06},\n",
       "                          '427393009': {'label': 0, 'score': 0.0111466255},\n",
       "                          '445118002': {'label': 0, 'score': 2.4125084e-06},\n",
       "                          '47665007': {'label': 0, 'score': 1.7856619e-06},\n",
       "                          '59931005': {'label': 0, 'score': 5.5371896e-05},\n",
       "                          '698252002': {'label': 0, 'score': 0.0053322357},\n",
       "                          '713426002': {'label': 0, 'score': 0.0005465952},\n",
       "                          '713427006': {'label': 0, 'score': 1.8491166e-07}}),\n",
       "             'E03086.mat': defaultdict(dict,\n",
       "                         {'10370003': {'label': 0, 'score': 0.00038395062},\n",
       "                          '111975006': {'label': 1, 'score': 0.24607107},\n",
       "                          '164889003': {'label': 0, 'score': 0.02819137},\n",
       "                          '164890007': {'label': 0, 'score': 0.00017887558},\n",
       "                          '164909002': {'label': 0, 'score': 0.0099386005},\n",
       "                          '164917005': {'label': 0, 'score': 0.012335374},\n",
       "                          '164934002': {'label': 0, 'score': 0.14106652},\n",
       "                          '164947007': {'label': 0, 'score': 7.901309e-05},\n",
       "                          '251146004': {'label': 0, 'score': 0.00018716638},\n",
       "                          '270492004': {'label': 0, 'score': 0.031441446},\n",
       "                          '284470004': {'label': 0, 'score': 0.02242875},\n",
       "                          '39732003': {'label': 1, 'score': 0.5799668},\n",
       "                          '426177001': {'label': 0, 'score': 0.0033075977},\n",
       "                          '426627000': {'label': 0, 'score': 0.006412699},\n",
       "                          '426783006': {'label': 0, 'score': 0.009851638},\n",
       "                          '427084000': {'label': 0, 'score': 0.0016151614},\n",
       "                          '427172004': {'label': 1, 'score': 0.46792993},\n",
       "                          '427393009': {'label': 0, 'score': 0.021777492},\n",
       "                          '445118002': {'label': 0, 'score': 0.017287688},\n",
       "                          '47665007': {'label': 0, 'score': 0.00045892622},\n",
       "                          '59931005': {'label': 0, 'score': 0.030667402},\n",
       "                          '698252002': {'label': 0, 'score': 0.007108211},\n",
       "                          '713426002': {'label': 0, 'score': 0.02123002},\n",
       "                          '713427006': {'label': 1, 'score': 0.71892756}}),\n",
       "             'HR15004.mat': defaultdict(dict,\n",
       "                         {'10370003': {'label': 0, 'score': 3.8214966e-05},\n",
       "                          '111975006': {'label': 0, 'score': 0.009802002},\n",
       "                          '164889003': {'label': 0, 'score': 0.00021535395},\n",
       "                          '164890007': {'label': 0, 'score': 0.00052346825},\n",
       "                          '164909002': {'label': 0, 'score': 4.1178806e-05},\n",
       "                          '164917005': {'label': 0, 'score': 0.014727894},\n",
       "                          '164934002': {'label': 0, 'score': 0.0032291831},\n",
       "                          '164947007': {'label': 0, 'score': 0.017648423},\n",
       "                          '251146004': {'label': 0, 'score': 5.3296364e-05},\n",
       "                          '270492004': {'label': 1, 'score': 0.22192729},\n",
       "                          '284470004': {'label': 0, 'score': 0.00480579},\n",
       "                          '39732003': {'label': 0, 'score': 0.0898163},\n",
       "                          '426177001': {'label': 0, 'score': 0.00038555218},\n",
       "                          '426627000': {'label': 0, 'score': 2.6287606e-05},\n",
       "                          '426783006': {'label': 1, 'score': 0.97105104},\n",
       "                          '427084000': {'label': 0, 'score': 0.05855005},\n",
       "                          '427172004': {'label': 0, 'score': 0.0006013535},\n",
       "                          '427393009': {'label': 0, 'score': 0.018008323},\n",
       "                          '445118002': {'label': 0, 'score': 1.4268716e-05},\n",
       "                          '47665007': {'label': 0, 'score': 1.5606283e-06},\n",
       "                          '59931005': {'label': 0, 'score': 0.0019056087},\n",
       "                          '698252002': {'label': 0, 'score': 0.0102678025},\n",
       "                          '713426002': {'label': 0, 'score': 0.014463164},\n",
       "                          '713427006': {'label': 0, 'score': 0.00017216937}}),\n",
       "             'HR21689.mat': defaultdict(dict,\n",
       "                         {'10370003': {'label': 1, 'score': 1.0},\n",
       "                          '111975006': {'label': 0, 'score': 1.1038722e-05},\n",
       "                          '164889003': {'label': 0, 'score': 5.252632e-07},\n",
       "                          '164890007': {'label': 0, 'score': 1.4019238e-05},\n",
       "                          '164909002': {'label': 0, 'score': 1.1727736e-05},\n",
       "                          '164917005': {'label': 0, 'score': 3.182573e-05},\n",
       "                          '164934002': {'label': 0, 'score': 6.217601e-05},\n",
       "                          '164947007': {'label': 0, 'score': 8.325423e-08},\n",
       "                          '251146004': {'label': 0, 'score': 2.4036995e-10},\n",
       "                          '270492004': {'label': 0, 'score': 8.428353e-06},\n",
       "                          '284470004': {'label': 0, 'score': 0.000117163756},\n",
       "                          '39732003': {'label': 0, 'score': 1.0630986e-07},\n",
       "                          '426177001': {'label': 0, 'score': 8.039495e-06},\n",
       "                          '426627000': {'label': 0, 'score': 7.1843306e-07},\n",
       "                          '426783006': {'label': 0, 'score': 3.8671574e-06},\n",
       "                          '427084000': {'label': 0, 'score': 2.994025e-07},\n",
       "                          '427172004': {'label': 0, 'score': 5.4360233e-05},\n",
       "                          '427393009': {'label': 0, 'score': 2.9373714e-05},\n",
       "                          '445118002': {'label': 0, 'score': 1.1324783e-08},\n",
       "                          '47665007': {'label': 0, 'score': 7.907053e-06},\n",
       "                          '59931005': {'label': 0, 'score': 0.00018073316},\n",
       "                          '698252002': {'label': 0, 'score': 1.871407e-05},\n",
       "                          '713426002': {'label': 0, 'score': 9.874201e-05},\n",
       "                          '713427006': {'label': 0, 'score': 2.582385e-06}}),\n",
       "             'E08166.mat': defaultdict(dict,\n",
       "                         {'10370003': {'label': 0, 'score': 0.011731573},\n",
       "                          '111975006': {'label': 0, 'score': 0.0021032488},\n",
       "                          '164889003': {'label': 0, 'score': 0.047944352},\n",
       "                          '164890007': {'label': 0, 'score': 0.063171625},\n",
       "                          '164909002': {'label': 1, 'score': 0.73922104},\n",
       "                          '164917005': {'label': 0, 'score': 0.007861853},\n",
       "                          '164934002': {'label': 0, 'score': 0.0074030464},\n",
       "                          '164947007': {'label': 0, 'score': 0.0014871683},\n",
       "                          '251146004': {'label': 0, 'score': 0.0014734905},\n",
       "                          '270492004': {'label': 1, 'score': 0.40861923},\n",
       "                          '284470004': {'label': 0, 'score': 0.029176988},\n",
       "                          '39732003': {'label': 1, 'score': 0.41276863},\n",
       "                          '426177001': {'label': 0, 'score': 0.002487502},\n",
       "                          '426627000': {'label': 0, 'score': 0.002673849},\n",
       "                          '426783006': {'label': 0, 'score': 0.0124051245},\n",
       "                          '427084000': {'label': 0, 'score': 0.0024627761},\n",
       "                          '427172004': {'label': 0, 'score': 0.019814137},\n",
       "                          '427393009': {'label': 0, 'score': 0.015626742},\n",
       "                          '445118002': {'label': 0, 'score': 0.003654542},\n",
       "                          '47665007': {'label': 0, 'score': 0.0026423617},\n",
       "                          '59931005': {'label': 0, 'score': 0.017902909},\n",
       "                          '698252002': {'label': 0, 'score': 0.007437906},\n",
       "                          '713426002': {'label': 0, 'score': 0.0016760399},\n",
       "                          '713427006': {'label': 0, 'score': 0.0058861976}})})"
      ]
     },
     "execution_count": 4,
     "metadata": {},
     "output_type": "execute_result"
    }
   ],
   "source": [
    "for _, row in top_record.iterrows():\n",
    "    filename = row['filename']\n",
    "    for key, value in row.items():\n",
    "        if key != 'filename':\n",
    "            record_key = key.split('_')\n",
    "            record_dict1[filename][record_key[0]][record_key[1]] = value\n",
    "    # record_dict1[filename] = row\n",
    "\n",
    "record_dict1"
   ]
  },
  {
   "cell_type": "code",
   "execution_count": 5,
   "id": "21075d47",
   "metadata": {},
   "outputs": [
    {
     "data": {
      "text/plain": [
       "defaultdict(dict,\n",
       "            {'filename': 'E03065.mat',\n",
       "             '10370003': {'label': 0, 'score': 1.5029952e-05},\n",
       "             '111975006': {'label': 0, 'score': 0.039709084},\n",
       "             '164889003': {'label': 0, 'score': 0.00019273772},\n",
       "             '164890007': {'label': 0, 'score': 3.030816e-05},\n",
       "             '164909002': {'label': 0, 'score': 2.0280431e-05},\n",
       "             '164917005': {'label': 0, 'score': 0.014078175},\n",
       "             '164934002': {'label': 0, 'score': 0.00031337465},\n",
       "             '164947007': {'label': 0, 'score': 3.7260636e-06},\n",
       "             '251146004': {'label': 0, 'score': 0.017095322},\n",
       "             '270492004': {'label': 0, 'score': 0.00013251675},\n",
       "             '284470004': {'label': 0, 'score': 0.0029167107},\n",
       "             '39732003': {'label': 0, 'score': 0.044964742},\n",
       "             '426177001': {'label': 0, 'score': 0.0023904901},\n",
       "             '426627000': {'label': 0, 'score': 3.15866e-06},\n",
       "             '426783006': {'label': 1, 'score': 0.8313262},\n",
       "             '427084000': {'label': 0, 'score': 0.00045420745},\n",
       "             '427172004': {'label': 0, 'score': 0.0030625372},\n",
       "             '427393009': {'label': 0, 'score': 0.0385529},\n",
       "             '445118002': {'label': 0, 'score': 8.823499e-05},\n",
       "             '47665007': {'label': 0, 'score': 6.5130815e-05},\n",
       "             '59931005': {'label': 0, 'score': 0.019980287},\n",
       "             '698252002': {'label': 0, 'score': 0.0003924041},\n",
       "             '713426002': {'label': 0, 'score': 2.073263e-06},\n",
       "             '713427006': {'label': 0, 'score': 1.2137981e-07}})"
      ]
     },
     "execution_count": 5,
     "metadata": {},
     "output_type": "execute_result"
    }
   ],
   "source": [
    "for key, value in top_record.iloc[0].items():\n",
    "    if key != 'filename':\n",
    "        record_key = key.split('_')\n",
    "        record_dict[record_key[0]][record_key[1]] = value\n",
    "    else:\n",
    "        record_dict[key] = value\n",
    "\n",
    "record_dict"
   ]
  },
  {
   "cell_type": "markdown",
   "id": "ca3e3c8c",
   "metadata": {},
   "source": [
    "Good enough metric"
   ]
  },
  {
   "cell_type": "code",
   "execution_count": 37,
   "id": "2659ea97",
   "metadata": {},
   "outputs": [
    {
     "data": {
      "text/plain": [
       "defaultdict(dict,\n",
       "            {'filename': 'E03065.mat',\n",
       "             '10370003': {'label': 0,\n",
       "              'score': 1.5029952e-05,\n",
       "              'strength': 0.9997163266376311},\n",
       "             '111975006': {'label': 0,\n",
       "              'score': 0.039709084,\n",
       "              'strength': 0.7481286867111653},\n",
       "             '164889003': {'label': 0,\n",
       "              'score': 0.00019273772,\n",
       "              'strength': 0.9977230768337799},\n",
       "             '164890007': {'label': 0,\n",
       "              'score': 3.030816e-05,\n",
       "              'strength': 0.9994990322338348},\n",
       "             '164909002': {'label': 0,\n",
       "              'score': 2.0280431e-05,\n",
       "              'strength': 0.9996384107814735},\n",
       "             '164917005': {'label': 0,\n",
       "              'score': 0.014078175,\n",
       "              'strength': 0.9059927221170447},\n",
       "             '164934002': {'label': 0,\n",
       "              'score': 0.00031337465,\n",
       "              'strength': 0.9965935913898872},\n",
       "             '164947007': {'label': 0,\n",
       "              'score': 3.7260636e-06,\n",
       "              'strength': 0.9999079800138314},\n",
       "             '251146004': {'label': 0,\n",
       "              'score': 0.017095322,\n",
       "              'strength': 0.88726482887331},\n",
       "             '270492004': {'label': 0,\n",
       "              'score': 0.00013251675,\n",
       "              'strength': 0.9983279398361059},\n",
       "             '284470004': {'label': 0,\n",
       "              'score': 0.0029167107,\n",
       "              'strength': 0.9772787458636798},\n",
       "             '39732003': {'label': 0,\n",
       "              'score': 0.044964742,\n",
       "              'strength': 0.7160215686711634},\n",
       "             '426177001': {'label': 0,\n",
       "              'score': 0.0023904901,\n",
       "              'strength': 0.9809011021689172},\n",
       "             '426627000': {'label': 0,\n",
       "              'score': 3.15866e-06,\n",
       "              'strength': 0.9999194417411977},\n",
       "             '426783006': {'label': 1,\n",
       "              'score': 0.8313262,\n",
       "              'strength': 0.9883055127589591},\n",
       "             '427084000': {'label': 0,\n",
       "              'score': 0.00045420745,\n",
       "              'strength': 0.9953576137377966},\n",
       "             '427172004': {'label': 0,\n",
       "              'score': 0.0030625372,\n",
       "              'strength': 0.9762861827970578},\n",
       "             '427393009': {'label': 0,\n",
       "              'score': 0.0385529,\n",
       "              'strength': 0.7552054692953887},\n",
       "             '445118002': {'label': 0,\n",
       "              'score': 8.823499e-05,\n",
       "              'strength': 0.998802468370657},\n",
       "             '47665007': {'label': 0,\n",
       "              'score': 6.5130815e-05,\n",
       "              'strength': 0.9990658151062136},\n",
       "             '59931005': {'label': 0,\n",
       "              'score': 0.019980287,\n",
       "              'strength': 0.869417604188061},\n",
       "             '698252002': {'label': 0,\n",
       "              'score': 0.0003924041,\n",
       "              'strength': 0.9958916883596515},\n",
       "             '713426002': {'label': 0,\n",
       "              'score': 2.073263e-06,\n",
       "              'strength': 0.9999425906927103},\n",
       "             '713427006': {'label': 0,\n",
       "              'score': 1.2137981e-07,\n",
       "              'strength': 0.9999941138041264}})"
      ]
     },
     "execution_count": 37,
     "metadata": {},
     "output_type": "execute_result"
    }
   ],
   "source": [
    "from math import log, tanh\n",
    "for key, value in record_dict.items():\n",
    "    if key != 'filename':\n",
    "        try:\n",
    "            label = value.get('label')\n",
    "            score = value.get('score')\n",
    "            score = max(min(score, 1 - 1e-15), 1e-15)\n",
    "            score = score ** 0.4\n",
    "            log_odds = log(score / (1 - score))\n",
    "            record_dict[key][\"strength\"] = tanh(log_odds) if label == 1 else tanh(-log_odds)\n",
    "        except KeyError:\n",
    "            print(f\"{key}: {value}\")\n",
    "\n",
    "record_dict"
   ]
  },
  {
   "cell_type": "code",
   "execution_count": 15,
   "id": "31cb74b3",
   "metadata": {},
   "outputs": [
    {
     "data": {
      "text/plain": [
       "defaultdict(dict,\n",
       "            {'filename': 'E03065.mat',\n",
       "             '10370003': {'label': 0,\n",
       "              'score': 1.5029952e-05,\n",
       "              'strength': 0.9999697061170598},\n",
       "             '111975006': {'label': 0,\n",
       "              'score': 0.039709084,\n",
       "              'strength': 0.8833587353599633},\n",
       "             '164889003': {'label': 0,\n",
       "              'score': 0.00019273772,\n",
       "              'strength': 0.9996036729156481},\n",
       "             '164890007': {'label': 0,\n",
       "              'score': 3.030816e-05,\n",
       "              'strength': 0.9999387125856847},\n",
       "             '164909002': {'label': 0,\n",
       "              'score': 2.0280431e-05,\n",
       "              'strength': 0.9999590721709382},\n",
       "             '164917005': {'label': 0,\n",
       "              'score': 0.014078175,\n",
       "              'strength': 0.9643975093939728},\n",
       "             '164934002': {'label': 0,\n",
       "              'score': 0.00031337465,\n",
       "              'strength': 0.9993506682179448},\n",
       "             '164947007': {'label': 0,\n",
       "              'score': 3.7260636e-06,\n",
       "              'strength': 0.9999925190475627},\n",
       "             '251146004': {'label': 0,\n",
       "              'score': 0.017095322,\n",
       "              'strength': 0.9557512920925635},\n",
       "             '270492004': {'label': 0,\n",
       "              'score': 0.00013251675,\n",
       "              'strength': 0.999728794361266},\n",
       "             '284470004': {'label': 0,\n",
       "              'score': 0.0029167107,\n",
       "              'strength': 0.9935026846098202},\n",
       "             '39732003': {'label': 0,\n",
       "              'score': 0.044964742,\n",
       "              'strength': 0.8649366048683468},\n",
       "             '426177001': {'label': 0,\n",
       "              'score': 0.0023904901,\n",
       "              'strength': 0.9947287730435912},\n",
       "             '426627000': {'label': 0,\n",
       "              'score': 3.15866e-06,\n",
       "              'strength': 0.9999936601850269},\n",
       "             '426783006': {'label': 1,\n",
       "              'score': 0.8313262,\n",
       "              'strength': 0.9814461363187824},\n",
       "             '427084000': {'label': 0,\n",
       "              'score': 0.00045420745,\n",
       "              'strength': 0.9990520401276803},\n",
       "             '427172004': {'label': 0,\n",
       "              'score': 0.0030625372,\n",
       "              'strength': 0.9931597400611628},\n",
       "             '427393009': {'label': 0,\n",
       "              'score': 0.0385529,\n",
       "              'strength': 0.8873394153297762},\n",
       "             '445118002': {'label': 0,\n",
       "              'score': 8.823499e-05,\n",
       "              'strength': 0.9998201835960157},\n",
       "             '47665007': {'label': 0,\n",
       "              'score': 6.5130815e-05,\n",
       "              'strength': 0.9998676188859712},\n",
       "             '59931005': {'label': 0,\n",
       "              'score': 0.019980287,\n",
       "              'strength': 0.9472298588060407},\n",
       "             '698252002': {'label': 0,\n",
       "              'score': 0.0003924041,\n",
       "              'strength': 0.9991834835458797},\n",
       "             '713426002': {'label': 0,\n",
       "              'score': 2.073263e-06,\n",
       "              'strength': 0.9999958415157819},\n",
       "             '713427006': {'label': 0,\n",
       "              'score': 1.2137981e-07,\n",
       "              'strength': 0.9999997570711681}})"
      ]
     },
     "execution_count": 15,
     "metadata": {},
     "output_type": "execute_result"
    }
   ],
   "source": [
    "record_dict"
   ]
  },
  {
   "cell_type": "code",
   "execution_count": 1,
   "id": "da174d35",
   "metadata": {},
   "outputs": [
    {
     "name": "stderr",
     "output_type": "stream",
     "text": [
      "\n",
      "Warning: SQLite3 version 3.40.0 and 3.41.2 have huge performance regressions; please install version 3.41.1 or 3.42!\n",
      "\n"
     ]
    }
   ],
   "source": [
    "from owlready2 import *\n",
    "from owlready2.pymedtermino2 import *\n",
    "from owlready2.pymedtermino2.umls import *\n",
    "\n",
    "default_world.set_backend(filename=\"pym.sqlite3\")"
   ]
  },
  {
   "cell_type": "code",
   "execution_count": 49,
   "id": "20ca476b",
   "metadata": {},
   "outputs": [
    {
     "name": "stdout",
     "output_type": "stream",
     "text": [
      "Importing UMLS from umls-2024AA-metathesaurus-full.zip with Python version 3.11.7 and Owlready version 2-0.47...\n",
      "  Parsing 2024AA/META/MRRANK.RRF as MRRANK\n",
      "  Parsing 2024AA/META/MRCONSO.RRF as MRCONSO\n",
      "  Parsing 2024AA/META/MRDEF.RRF as MRDEF\n",
      "  Parsing 2024AA/META/MRREL.RRF as MRREL\n",
      "  Parsing 2024AA/META/MRSAT.RRF as MRSAT\n",
      "Breaking ORIG cycles...\n",
      "    SNOMEDCT_US : 0 cycles found: \n",
      "    SRC : 0 cycles found: \n",
      "Finalizing only properties and restrictions...\n",
      "Finalizing CUI - ORIG mapping...\n",
      "FTS Indexing...\n"
     ]
    }
   ],
   "source": [
    "import_umls(\"umls-2024AA-metathesaurus-full.zip\", terminologies=[\"SNOMEDCT_US\"])\n",
    "default_world.save()"
   ]
  },
  {
   "cell_type": "code",
   "execution_count": 2,
   "id": "69221931",
   "metadata": {},
   "outputs": [],
   "source": [
    "PYM = get_ontology(\"http://PYM/\").load()\n",
    "SNOMEDCT = PYM[\"SNOMEDCT_US\"]"
   ]
  },
  {
   "cell_type": "code",
   "execution_count": 3,
   "id": "f21543eb",
   "metadata": {},
   "outputs": [],
   "source": [
    "concept = SNOMEDCT[164917005]"
   ]
  },
  {
   "cell_type": "code",
   "execution_count": 4,
   "id": "1811b64a",
   "metadata": {},
   "outputs": [
    {
     "data": {
      "text/plain": [
       "SNOMEDCT_US[\"164917005\"] # EKG: Q wave abnormal"
      ]
     },
     "execution_count": 4,
     "metadata": {},
     "output_type": "execute_result"
    }
   ],
   "source": [
    "concept"
   ]
  },
  {
   "cell_type": "code",
   "execution_count": 5,
   "id": "46e27a42",
   "metadata": {},
   "outputs": [
    {
     "data": {
      "text/plain": [
       "'164917005'"
      ]
     },
     "execution_count": 5,
     "metadata": {},
     "output_type": "execute_result"
    }
   ],
   "source": [
    "concept.name"
   ]
  },
  {
   "cell_type": "code",
   "execution_count": null,
   "id": "b5e9772b",
   "metadata": {},
   "outputs": [
    {
     "data": {
      "text/plain": [
       "'Q wave abnormal'"
      ]
     },
     "execution_count": 66,
     "metadata": {},
     "output_type": "execute_result"
    }
   ],
   "source": [
    "concept.label.first().split(\":\")[1].strip()"
   ]
  },
  {
   "cell_type": "code",
   "execution_count": 6,
   "id": "2a5ffe30",
   "metadata": {},
   "outputs": [
    {
     "data": {
      "text/plain": [
       "[locstr('ECG: Q wave abnormal', 'en'),\n",
       " locstr('Electrocardiographic Q wave abnormal', 'en'),\n",
       " locstr('Electrocardiographic Q wave abnormal (finding)', 'en')]"
      ]
     },
     "execution_count": 6,
     "metadata": {},
     "output_type": "execute_result"
    }
   ],
   "source": [
    "concept.synonyms"
   ]
  },
  {
   "cell_type": "code",
   "execution_count": 13,
   "id": "0012a324",
   "metadata": {},
   "outputs": [
    {
     "data": {
      "text/plain": [
       "['ECG: Q wave abnormal',\n",
       " 'Electrocardiographic Q wave abnormal',\n",
       " 'Electrocardiographic Q wave abnormal (finding)']"
      ]
     },
     "execution_count": 13,
     "metadata": {},
     "output_type": "execute_result"
    }
   ],
   "source": [
    "[str(label).strip() for label in concept.synonyms]"
   ]
  },
  {
   "cell_type": "code",
   "execution_count": 67,
   "id": "ab25677a",
   "metadata": {},
   "outputs": [
    {
     "data": {
      "text/plain": [
       "PYM[\"SNOMEDCT_US\"] # US Edition of SNOMED CT"
      ]
     },
     "execution_count": 67,
     "metadata": {},
     "output_type": "execute_result"
    }
   ],
   "source": [
    "concept.terminology"
   ]
  },
  {
   "cell_type": "code",
   "execution_count": 19,
   "id": "8254b214",
   "metadata": {},
   "outputs": [
    {
     "data": {
      "text/plain": [
       "['Electrocardiogram abnormal', 'Electrocardiogram finding']"
      ]
     },
     "execution_count": 19,
     "metadata": {},
     "output_type": "execute_result"
    }
   ],
   "source": [
    "[str(label).split('#')[1].strip() for label in concept.ancestor_concepts()[:3]][1:]"
   ]
  },
  {
   "cell_type": "code",
   "execution_count": 69,
   "id": "abeb0e3e",
   "metadata": {},
   "outputs": [
    {
     "data": {
      "text/plain": [
       "[SNOMEDCT_US[\"164917005\"] # EKG: Q wave abnormal\n",
       "]"
      ]
     },
     "execution_count": 69,
     "metadata": {},
     "output_type": "execute_result"
    }
   ],
   "source": [
    "concept.descendant_concepts()"
   ]
  },
  {
   "cell_type": "code",
   "execution_count": 71,
   "id": "2480c2aa",
   "metadata": {},
   "outputs": [
    {
     "data": {
      "text/plain": [
       "['INDIRECT_get_properties',\n",
       " '__children',\n",
       " '__class__',\n",
       " '__classcell__',\n",
       " '__delattr__',\n",
       " '__dict__',\n",
       " '__dir__',\n",
       " '__doc__',\n",
       " '__eq__',\n",
       " '__format__',\n",
       " '__ge__',\n",
       " '__getattr__',\n",
       " '__getattribute__',\n",
       " '__getstate__',\n",
       " '__gt__',\n",
       " '__hash__',\n",
       " '__init__',\n",
       " '__init_subclass__',\n",
       " '__label',\n",
       " '__le__',\n",
       " '__lt__',\n",
       " '__module__',\n",
       " '__ne__',\n",
       " '__new__',\n",
       " '__parents',\n",
       " '__reduce__',\n",
       " '__reduce_ex__',\n",
       " '__repr__',\n",
       " '__setattr__',\n",
       " '__sizeof__',\n",
       " '__str__',\n",
       " '__subclasshook__',\n",
       " '__synonyms',\n",
       " '__terminology',\n",
       " '__weakref__',\n",
       " '_equivalent_to',\n",
       " '_get_instance_possible_relations',\n",
       " '_get_is_instance_of',\n",
       " '_instance_equivalent_to_changed',\n",
       " '_instance_is_a_changed',\n",
       " '_name',\n",
       " '_set_is_instance_of',\n",
       " 'differents',\n",
       " 'entity_class',\n",
       " 'generate_default_name',\n",
       " 'get_equivalent_to',\n",
       " 'get_inverse_properties',\n",
       " 'get_iri',\n",
       " 'get_name',\n",
       " 'get_properties',\n",
       " 'iri',\n",
       " 'is_a',\n",
       " 'is_instance_of',\n",
       " 'name',\n",
       " 'namespace',\n",
       " 'reload',\n",
       " 'set_equivalent_to',\n",
       " 'set_iri',\n",
       " 'set_name',\n",
       " 'storid']"
      ]
     },
     "execution_count": 71,
     "metadata": {},
     "output_type": "execute_result"
    }
   ],
   "source": [
    "dir(concept)"
   ]
  },
  {
   "cell_type": "code",
   "execution_count": 73,
   "id": "7f47c1a5",
   "metadata": {},
   "outputs": [
    {
     "data": {
      "text/plain": [
       "SRC.snomedct_us1"
      ]
     },
     "execution_count": 73,
     "metadata": {},
     "output_type": "execute_result"
    }
   ],
   "source": [
    "concept.__terminology()"
   ]
  },
  {
   "cell_type": "code",
   "execution_count": 77,
   "id": "660bc423",
   "metadata": {},
   "outputs": [
    {
     "data": {
      "text/plain": [
       "get_ontology(\"http://PYM/\").get_namespace(\"http://PYM/SNOMEDCT_US/\")"
      ]
     },
     "execution_count": 77,
     "metadata": {},
     "output_type": "execute_result"
    }
   ],
   "source": [
    "concept.namespace"
   ]
  },
  {
   "cell_type": "code",
   "execution_count": 83,
   "id": "27692aab",
   "metadata": {},
   "outputs": [
    {
     "data": {
      "text/plain": [
       "{PYM.has_interpretation,\n",
       " PYM.ctv3id,\n",
       " PYM.groups,\n",
       " PYM.synonyms,\n",
       " PYM.definition_status_id,\n",
       " PYM.subset_member,\n",
       " PYM.interprets,\n",
       " PYM.term_type,\n",
       " PYM.terminology,\n",
       " PYM.type_id,\n",
       " rdf-schema.label,\n",
       " PYM.case_significance_id,\n",
       " PYM.active,\n",
       " PYM.effective_time}"
      ]
     },
     "execution_count": 83,
     "metadata": {},
     "output_type": "execute_result"
    }
   ],
   "source": [
    "concept.get_class_properties()"
   ]
  },
  {
   "cell_type": "code",
   "execution_count": 118,
   "id": "92d6411d",
   "metadata": {},
   "outputs": [
    {
     "data": {
      "text/plain": [
       "'Electrocardiographic procedure'"
      ]
     },
     "execution_count": 118,
     "metadata": {},
     "output_type": "execute_result"
    }
   ],
   "source": [
    "list(concept.interprets)[0].label.first().split(\":\")[0].strip()"
   ]
  },
  {
   "cell_type": "code",
   "execution_count": 102,
   "id": "76a24551",
   "metadata": {},
   "outputs": [
    {
     "data": {
      "text/plain": [
       "['PT', 'SY', 'FN']"
      ]
     },
     "execution_count": 102,
     "metadata": {},
     "output_type": "execute_result"
    }
   ],
   "source": [
    "concept.term_type"
   ]
  },
  {
   "cell_type": "code",
   "execution_count": 104,
   "id": "bd9d7c3c",
   "metadata": {},
   "outputs": [
    {
     "data": {
      "text/plain": [
       "['900000000000074008']"
      ]
     },
     "execution_count": 104,
     "metadata": {},
     "output_type": "execute_result"
    }
   ],
   "source": [
    "concept.definition_status_id"
   ]
  },
  {
   "cell_type": "code",
   "execution_count": 106,
   "id": "d3d1eb85",
   "metadata": {},
   "outputs": [
    {
     "data": {
      "text/plain": [
       "[<Group 129964_1> # interprets=Electrocardiographic procedure ; has_interpretation=Abnormal,\n",
       " <Group 129964_2> # interprets=Q wave feature]"
      ]
     },
     "execution_count": 106,
     "metadata": {},
     "output_type": "execute_result"
    }
   ],
   "source": [
    "concept.groups"
   ]
  },
  {
   "cell_type": "code",
   "execution_count": 107,
   "id": "62cd41ad",
   "metadata": {},
   "outputs": [
    {
     "data": {
      "text/plain": [
       "[locstr('EKG: Q wave abnormal', 'en')]"
      ]
     },
     "execution_count": 107,
     "metadata": {},
     "output_type": "execute_result"
    }
   ],
   "source": [
    "concept.label"
   ]
  },
  {
   "cell_type": "code",
   "execution_count": 119,
   "id": "5cb3d4c2",
   "metadata": {},
   "outputs": [
    {
     "ename": "AttributeError",
     "evalue": "'fsn' property is not defined.",
     "output_type": "error",
     "traceback": [
      "\u001b[0;31m---------------------------------------------------------------------------\u001b[0m",
      "\u001b[0;31mAttributeError\u001b[0m                            Traceback (most recent call last)",
      "Cell \u001b[0;32mIn[119], line 1\u001b[0m\n\u001b[0;32m----> 1\u001b[0m fsn \u001b[38;5;241m=\u001b[39m concept\u001b[38;5;241m.\u001b[39mfsn[\u001b[38;5;241m0\u001b[39m]\u001b[38;5;241m.\u001b[39mname\n",
      "File \u001b[0;32m~/.local/lib/python3.11/site-packages/owlready2/pymedtermino2/model.py:222\u001b[0m, in \u001b[0;36mMetaConcept.__getattr__\u001b[0;34m(Class, attr)\u001b[0m\n\u001b[1;32m    219\u001b[0m   \u001b[38;5;28mtype\u001b[39m\u001b[38;5;241m.\u001b[39m\u001b[38;5;21m__setattr__\u001b[39m(Class, \u001b[38;5;124m\"\u001b[39m\u001b[38;5;124m__terminology\u001b[39m\u001b[38;5;124m\"\u001b[39m, r)\n\u001b[1;32m    220\u001b[0m   \u001b[38;5;28;01mreturn\u001b[39;00m r\n\u001b[0;32m--> 222\u001b[0m \u001b[38;5;28;01mreturn\u001b[39;00m ThingClass\u001b[38;5;241m.\u001b[39m\u001b[38;5;21m__getattr__\u001b[39m(Class, attr)\n",
      "File \u001b[0;32m~/.local/lib/python3.11/site-packages/owlready2/entity.py:611\u001b[0m, in \u001b[0;36mThingClass.__getattr__\u001b[0;34m(Class, attr)\u001b[0m\n\u001b[1;32m    609\u001b[0m \u001b[38;5;28;01melse\u001b[39;00m:\n\u001b[1;32m    610\u001b[0m   Prop \u001b[38;5;241m=\u001b[39m Class\u001b[38;5;241m.\u001b[39mnamespace\u001b[38;5;241m.\u001b[39mworld\u001b[38;5;241m.\u001b[39m_props\u001b[38;5;241m.\u001b[39mget(attr)\n\u001b[0;32m--> 611\u001b[0m   \u001b[38;5;28;01mif\u001b[39;00m \u001b[38;5;129;01mnot\u001b[39;00m Prop: \u001b[38;5;28;01mraise\u001b[39;00m \u001b[38;5;167;01mAttributeError\u001b[39;00m(\u001b[38;5;124m\"\u001b[39m\u001b[38;5;124m'\u001b[39m\u001b[38;5;132;01m%s\u001b[39;00m\u001b[38;5;124m'\u001b[39m\u001b[38;5;124m property is not defined.\u001b[39m\u001b[38;5;124m\"\u001b[39m \u001b[38;5;241m%\u001b[39m attr)\n\u001b[1;32m    612\u001b[0m   \u001b[38;5;28;01mif\u001b[39;00m issubclass_python(Prop, AnnotationProperty):\n\u001b[1;32m    613\u001b[0m     attr \u001b[38;5;241m=\u001b[39m \u001b[38;5;124m\"\u001b[39m\u001b[38;5;124m__\u001b[39m\u001b[38;5;132;01m%s\u001b[39;00m\u001b[38;5;124m\"\u001b[39m \u001b[38;5;241m%\u001b[39m attr \u001b[38;5;66;03m# Do NOT cache as such in __dict__, to avoid inheriting annotations\u001b[39;00m\n",
      "\u001b[0;31mAttributeError\u001b[0m: 'fsn' property is not defined."
     ]
    }
   ],
   "source": [
    "fsn = concept.fsn[0].name"
   ]
  },
  {
   "cell_type": "code",
   "execution_count": 124,
   "id": "be38aaac",
   "metadata": {},
   "outputs": [
    {
     "data": {
      "text/plain": [
       "{PYM.ctv3id,\n",
       " rdf-schema.label,\n",
       " PYM.synonyms,\n",
       " PYM.definition_status_id,\n",
       " PYM.subset_member,\n",
       " PYM.term_type,\n",
       " PYM.terminology,\n",
       " PYM.type_id,\n",
       " PYM.case_significance_id,\n",
       " PYM.active,\n",
       " PYM.effective_time}"
      ]
     },
     "execution_count": 124,
     "metadata": {},
     "output_type": "execute_result"
    }
   ],
   "source": [
    "concept.get_properties(concept)"
   ]
  },
  {
   "cell_type": "code",
   "execution_count": 140,
   "id": "96392949",
   "metadata": {},
   "outputs": [
    {
     "name": "stdout",
     "output_type": "stream",
     "text": [
      "PYM.effective_time\n",
      "PYM.effective_time: 20020131\n",
      "PYM.active\n",
      "PYM.active: 1\n",
      "PYM.case_significance_id\n",
      "PYM.case_significance_id: 900000000000017005\n",
      "PYM.case_significance_id: 900000000000020002\n",
      "PYM.type_id\n",
      "PYM.type_id: 900000000000013009\n",
      "PYM.type_id: 900000000000003001\n",
      "PYM.terminology\n",
      "PYM.terminology: PYM[\"SNOMEDCT_US\"] # US Edition of SNOMED CT\n",
      "\n",
      "PYM.term_type\n",
      "PYM.term_type: PT\n",
      "PYM.term_type: SY\n",
      "PYM.term_type: FN\n",
      "PYM.subset_member\n",
      "PYM.subset_member: 900000000000508004~ACCEPTABILITYID~900000000000548007\n",
      "PYM.subset_member: 900000000000509007~ACCEPTABILITYID~900000000000549004\n",
      "PYM.subset_member: 900000000000509007~ACCEPTABILITYID~900000000000548007\n",
      "PYM.subset_member: 900000000000508004~ACCEPTABILITYID~900000000000549004\n",
      "PYM.subset_member: 900000000000497000~MAPTARGET~32B2.\n",
      "PYM.subset_member: 6011000124106~MAPGROUP~1\n",
      "PYM.subset_member: 6011000124106~MAPCATEGORYID~447637006\n",
      "PYM.subset_member: 6011000124106~MAPPRIORITY~1\n",
      "PYM.subset_member: 6011000124106~MAPADVICE~ALWAYS R94.31\n",
      "PYM.subset_member: 6011000124106~CORRELATIONID~447561005\n",
      "PYM.subset_member: 6011000124106~MAPRULE~TRUE\n",
      "PYM.subset_member: 6011000124106~MAPTARGET~R94.31\n",
      "PYM.subset_member: 447562003~MAPGROUP~1\n",
      "PYM.subset_member: 447562003~CORRELATIONID~447561005\n",
      "PYM.subset_member: 447562003~MAPTARGET~R94.3\n",
      "PYM.subset_member: 447562003~MAPADVICE~ALWAYS R94.3\n",
      "PYM.subset_member: 447562003~MAPCATEGORYID~447637006\n",
      "PYM.subset_member: 447562003~MAPRULE~TRUE\n",
      "PYM.subset_member: 447562003~MAPPRIORITY~1\n",
      "PYM.definition_status_id\n",
      "PYM.definition_status_id: 900000000000074008\n",
      "PYM.synonyms\n",
      "PYM.synonyms: ECG: Q wave abnormal\n",
      "PYM.synonyms: Electrocardiographic Q wave abnormal\n",
      "PYM.synonyms: Electrocardiographic Q wave abnormal (finding)\n",
      "rdf-schema.label\n",
      "rdf-schema.label: EKG: Q wave abnormal\n",
      "PYM.ctv3id\n",
      "PYM.ctv3id: 32B2.\n"
     ]
    }
   ],
   "source": [
    "for rel in concept.get_properties(concept):\n",
    "    print(rel)\n",
    "    for value in rel[concept]:\n",
    "        print(f\"{rel}: {value}\")"
   ]
  },
  {
   "cell_type": "code",
   "execution_count": 128,
   "id": "8c6154a9",
   "metadata": {},
   "outputs": [
    {
     "name": "stdout",
     "output_type": "stream",
     "text": [
      "Defaulting to user installation because normal site-packages is not writeable\n",
      "Collecting wikipedia\n",
      "  Downloading wikipedia-1.4.0.tar.gz (27 kB)\n",
      "  Preparing metadata (setup.py) ... \u001b[?25ldone\n",
      "\u001b[?25hRequirement already satisfied: beautifulsoup4 in /apps/cent7/anaconda/2024.02/lib/python3.11/site-packages (from wikipedia) (4.12.2)\n",
      "Requirement already satisfied: requests<3.0.0,>=2.0.0 in /home/kmallick/.local/lib/python3.11/site-packages (from wikipedia) (2.32.3)\n",
      "Requirement already satisfied: charset-normalizer<4,>=2 in /apps/cent7/anaconda/2024.02/lib/python3.11/site-packages (from requests<3.0.0,>=2.0.0->wikipedia) (2.0.4)\n",
      "Requirement already satisfied: idna<4,>=2.5 in /apps/cent7/anaconda/2024.02/lib/python3.11/site-packages (from requests<3.0.0,>=2.0.0->wikipedia) (3.4)\n",
      "Requirement already satisfied: urllib3<3,>=1.21.1 in /apps/cent7/anaconda/2024.02/lib/python3.11/site-packages (from requests<3.0.0,>=2.0.0->wikipedia) (2.0.7)\n",
      "Requirement already satisfied: certifi>=2017.4.17 in /apps/cent7/anaconda/2024.02/lib/python3.11/site-packages (from requests<3.0.0,>=2.0.0->wikipedia) (2024.2.2)\n",
      "Requirement already satisfied: soupsieve>1.2 in /apps/cent7/anaconda/2024.02/lib/python3.11/site-packages (from beautifulsoup4->wikipedia) (2.5)\n",
      "Building wheels for collected packages: wikipedia\n",
      "  Building wheel for wikipedia (setup.py) ... \u001b[?25ldone\n",
      "\u001b[?25h  Created wheel for wikipedia: filename=wikipedia-1.4.0-py3-none-any.whl size=11678 sha256=ba21422284e30e45a352ad125294ad86195dab4de5500fac6fbcd63c3515d957\n",
      "  Stored in directory: /home/kmallick/.cache/pip/wheels/8f/ab/cb/45ccc40522d3a1c41e1d2ad53b8f33a62f394011ec38cd71c6\n",
      "Successfully built wikipedia\n",
      "Installing collected packages: wikipedia\n",
      "Successfully installed wikipedia-1.4.0\n"
     ]
    }
   ],
   "source": [
    "!pip install wikipedia"
   ]
  },
  {
   "cell_type": "code",
   "execution_count": 129,
   "id": "c259f0d1",
   "metadata": {},
   "outputs": [],
   "source": [
    "import wikipedia"
   ]
  },
  {
   "cell_type": "code",
   "execution_count": 141,
   "id": "36d09265",
   "metadata": {},
   "outputs": [
    {
     "data": {
      "text/plain": [
       "['20020131']"
      ]
     },
     "execution_count": 141,
     "metadata": {},
     "output_type": "execute_result"
    }
   ],
   "source": [
    "PYM.effective_time[concept]"
   ]
  },
  {
   "cell_type": "code",
   "execution_count": 144,
   "id": "a4eecefa",
   "metadata": {},
   "outputs": [],
   "source": [
    "summary = wikipedia.summary(concept.label.first().split(\":\")[1].strip())"
   ]
  },
  {
   "cell_type": "code",
   "execution_count": 134,
   "id": "83328255",
   "metadata": {},
   "outputs": [
    {
     "data": {
      "text/plain": [
       "'The QRS complex is the combination of three of the graphical deflections seen on a typical electrocardiogram (ECG or EKG). It is usually the central and most visually obvious part of the tracing. It corresponds to the depolarization of the right and left ventricles of the heart and contraction of the large ventricular muscles.\\nIn adults, the QRS complex normally lasts 80 to 100 ms; in children it may be shorter. The Q, R, and S waves occur in rapid succession, do not all appear in all leads, and reflect a single event and thus are usually considered together. A Q wave is any downward deflection immediately following the P wave. An R wave follows as an upward deflection, and the S wave is any downward deflection after the R wave. The T wave follows the S wave, and in some cases, an additional U wave follows the T wave.\\nTo measure the QRS interval start at the end of the PR interval (or beginning of the Q wave) to the end of the S wave. Normally this interval is 0.08 to 0.10 seconds. When the duration is longer it is considered a wide QRS complex.'"
      ]
     },
     "execution_count": 134,
     "metadata": {},
     "output_type": "execute_result"
    }
   ],
   "source": [
    "summary"
   ]
  },
  {
   "cell_type": "code",
   "execution_count": 7,
   "id": "4a91a06f",
   "metadata": {},
   "outputs": [],
   "source": [
    "import os\n",
    "def ls_dir(rootdir=\"\", suffix=\".png\"):\n",
    "    \"\"\"\n",
    "    List all files in a directory with a given suffix.\n",
    "\n",
    "    Args:\n",
    "        rootdir (str): The root directory to search in.\n",
    "        suffix (str): The suffix of the files to search for.\n",
    "\n",
    "    Returns:\n",
    "        list: A list of file paths.\n",
    "    \"\"\"\n",
    "    file_list = []\n",
    "    assert os.path.exists(rootdir)\n",
    "    for r, y, names in os.walk(rootdir):\n",
    "        for name in names:\n",
    "            if str(name).endswith(suffix):\n",
    "                file_list.append(os.path.join(r, name))\n",
    "    return file_list"
   ]
  },
  {
   "cell_type": "code",
   "execution_count": 9,
   "id": "cb37fb77",
   "metadata": {},
   "outputs": [],
   "source": [
    "model_list = ls_dir(rootdir='../pred_res/model_repo', suffix=\".pth\")"
   ]
  },
  {
   "cell_type": "code",
   "execution_count": 10,
   "id": "570960ca",
   "metadata": {},
   "outputs": [
    {
     "data": {
      "text/plain": [
       "['../pred_res/model_repo/zhao-48-0.684.pth',\n",
       " '../pred_res/model_repo/54-81-0.5748.pth',\n",
       " '../pred_res/model_repo/23-14-0.5524.pth']"
      ]
     },
     "execution_count": 10,
     "metadata": {},
     "output_type": "execute_result"
    }
   ],
   "source": [
    "model_list"
   ]
  },
  {
   "cell_type": "code",
   "execution_count": 16,
   "id": "54b515d6",
   "metadata": {},
   "outputs": [],
   "source": [
    "import numpy as np\n",
    "accuracy = np.array([float(i.split('-')[-1].replace('.pth', '')) for i in model_list])"
   ]
  },
  {
   "cell_type": "code",
   "execution_count": 17,
   "id": "237c6295",
   "metadata": {},
   "outputs": [
    {
     "data": {
      "text/plain": [
       "array([0.684 , 0.5748, 0.5524])"
      ]
     },
     "execution_count": 17,
     "metadata": {},
     "output_type": "execute_result"
    }
   ],
   "source": [
    "accuracy"
   ]
  },
  {
   "cell_type": "code",
   "execution_count": 18,
   "id": "e06a03c6",
   "metadata": {},
   "outputs": [],
   "source": [
    "resumes = [model_list[int(np.argmax(accuracy))]]"
   ]
  },
  {
   "cell_type": "code",
   "execution_count": 19,
   "id": "0be91531",
   "metadata": {},
   "outputs": [
    {
     "data": {
      "text/plain": [
       "['../pred_res/model_repo/zhao-48-0.684.pth']"
      ]
     },
     "execution_count": 19,
     "metadata": {},
     "output_type": "execute_result"
    }
   ],
   "source": [
    "resumes"
   ]
  },
  {
   "cell_type": "code",
   "execution_count": 3,
   "id": "a953ebc6",
   "metadata": {},
   "outputs": [],
   "source": [
    "import skfuzzy as fuzz\n",
    "from skfuzzy import control as ctrl\n",
    "import numpy as np"
   ]
  },
  {
   "cell_type": "code",
   "execution_count": 21,
   "id": "f250f3a7",
   "metadata": {},
   "outputs": [],
   "source": [
    "cluster = ctrl.Consequent(np.arange(0, 1.01, 0.01), 'cluster')\n",
    "strength = ctrl.Antecedent(np.arange(0, 1.01, 0.01), 'strength')"
   ]
  },
  {
   "cell_type": "code",
   "execution_count": 22,
   "id": "33259067",
   "metadata": {},
   "outputs": [],
   "source": [
    "strength['low'] = fuzz.trapmf(strength.universe, [0, 0, 0.79, 0.79])\n",
    "strength['medium'] = fuzz.trimf(strength.universe, [0.79, 0.9, 0.9])\n",
    "strength['high'] = fuzz.trapmf(strength.universe, [0.9, 0.9, 1.0, 1.0])"
   ]
  },
  {
   "cell_type": "code",
   "execution_count": 30,
   "id": "8c99bf0c",
   "metadata": {},
   "outputs": [],
   "source": [
    "cluster['negligible'] = fuzz.trapmf(cluster.universe, [0, 0, 0.2, 0.2])\n",
    "cluster['low'] = fuzz.trapmf(cluster.universe, [0.2, 0.2, 0.4, 0.4])\n",
    "cluster['medium'] = fuzz.trapmf(cluster.universe, [0.4, 0.4, 0.6, 0.6])\n",
    "cluster['high'] = fuzz.trapmf(cluster.universe, [0.6, 0.6, 0.8, 0.8])\n",
    "cluster['severe'] = fuzz.trapmf(cluster.universe, [0.8, 0.8, 1.0, 1.0])"
   ]
  },
  {
   "cell_type": "code",
   "execution_count": 31,
   "id": "eeb152e5",
   "metadata": {},
   "outputs": [],
   "source": [
    "rule_severe = ctrl.Rule(strength['high'], cluster['severe'])\n",
    "rule_high = ctrl.Rule(strength['medium'], cluster['high'])\n",
    "rule_medium = ctrl.Rule(strength['low'], cluster['medium'])\n",
    "rule_low = ctrl.Rule(strength['medium'], cluster['low'])\n",
    "rule_negligible = ctrl.Rule(strength['high'], cluster['negligible'])"
   ]
  },
  {
   "cell_type": "code",
   "execution_count": 32,
   "id": "52138a5e",
   "metadata": {},
   "outputs": [],
   "source": [
    "clustering_ctrl = ctrl.ControlSystem([rule_severe, rule_high, rule_medium, rule_low, rule_negligible])\n",
    "clustering_sim = ctrl.ControlSystemSimulation(clustering_ctrl)"
   ]
  },
  {
   "cell_type": "code",
   "execution_count": 41,
   "id": "873d1d16",
   "metadata": {},
   "outputs": [
    {
     "name": "stdout",
     "output_type": "stream",
     "text": [
      "Severe Cluster: ['426783006']\n",
      "High Cluster: []\n",
      "Medium Cluster: ['111975006', '39732003', '427393009']\n",
      "Low Cluster: ['251146004', '59931005']\n",
      "Negligible Cluster: ['10370003', '164889003', '164890007', '164909002', '164917005', '164934002', '164947007', '270492004', '284470004', '426177001', '426627000', '427084000', '427172004', '445118002', '47665007', '698252002', '713426002', '713427006']\n"
     ]
    }
   ],
   "source": [
    "severe = []\n",
    "high = []\n",
    "medium = []\n",
    "low = []\n",
    "negligible = []\n",
    "\n",
    "# Define classification logic\n",
    "def classify_condition(label, strength):\n",
    "    if strength >= 0.9:\n",
    "        if label == 1:\n",
    "            return \"severe\"\n",
    "        elif label == 0:\n",
    "            return \"negligible\"\n",
    "    elif 0.79 <= strength < 0.9:\n",
    "        if label == 1:\n",
    "            return \"high\"\n",
    "        elif label == 0:\n",
    "            return \"low\"\n",
    "    elif strength < 0.79:\n",
    "        if label == 1 or label == 0:\n",
    "            return \"medium\"\n",
    "    return None\n",
    "\n",
    "# Classify each condition in record_dict\n",
    "for condition_id, data in record_dict.items():\n",
    "    if isinstance(data, dict):  # Ensure valid data\n",
    "        label = data['label']\n",
    "        strength = data['strength']\n",
    "        # print(f\"Condition: {condition_id}, Label: {label}, Strength: {strength}\")\n",
    "        cluster = classify_condition(label, strength)\n",
    "        # print(f\"Cluster: {cluster}\")\n",
    "\n",
    "        # Append condition to the appropriate cluster\n",
    "        if cluster == \"severe\":\n",
    "            severe.append(condition_id)\n",
    "        elif cluster == \"high\":\n",
    "            high.append(condition_id)\n",
    "        elif cluster == \"medium\":\n",
    "            medium.append(condition_id)\n",
    "        elif cluster == \"low\":\n",
    "            low.append(condition_id)\n",
    "        elif cluster == \"negligible\":\n",
    "            negligible.append(condition_id)\n",
    "\n",
    "# Print results\n",
    "print(\"Severe Cluster:\", severe)\n",
    "print(\"High Cluster:\", high)\n",
    "print(\"Medium Cluster:\", medium)\n",
    "print(\"Low Cluster:\", low)\n",
    "print(\"Negligible Cluster:\", negligible)\n",
    "\n",
    "clusters = {\n",
    "    \"severe\": severe,\n",
    "    \"high\": high,\n",
    "    \"medium\": medium,\n",
    "    \"low\": low,\n",
    "    \"negligible\": negligible\n",
    "}"
   ]
  },
  {
   "cell_type": "code",
   "execution_count": 47,
   "id": "536598c5",
   "metadata": {},
   "outputs": [],
   "source": [
    "knowledge_base = {\n",
    "    (\"426783006\", \"111975006\"): \"Perform cardiac evaluation and monitor QT interval.\",\n",
    "    (\"426783006\", \"39732003\"): \"Refer to cardiology for ischemic evaluation.\",\n",
    "    (\"111975006\", \"59931005\"): \"Adjust medications to avoid QT prolongation.\",\n",
    "    (\"426783006\",): \"Immediate cardiac intervention required for severe sinus rhythm.\",\n",
    "    (\"59931005\",): \"Monitor T-wave inversion; consider ischemia.\"\n",
    "}"
   ]
  },
  {
   "cell_type": "code",
   "execution_count": 42,
   "id": "b97983ae",
   "metadata": {},
   "outputs": [],
   "source": [
    "def generate_rules(clusters, knowledge_base):\n",
    "    rules = []\n",
    "    \n",
    "    # Iterate through cluster pairs and match with knowledge base\n",
    "    for severe_condition in clusters[\"severe\"]:\n",
    "        for medium_condition in clusters[\"medium\"]:\n",
    "            if (severe_condition, medium_condition) in knowledge_base:\n",
    "                rules.append({\n",
    "                    \"conditions\": (severe_condition, medium_condition),\n",
    "                    \"action\": knowledge_base[(severe_condition, medium_condition)]\n",
    "                })\n",
    "    \n",
    "    # Add rules for individual clusters or combinations\n",
    "    for condition in clusters[\"negligible\"]:\n",
    "        if (condition,) in knowledge_base:\n",
    "            rules.append({\n",
    "                \"conditions\": (condition,),\n",
    "                \"action\": knowledge_base[(condition,)]\n",
    "            })\n",
    "    \n",
    "    return rules"
   ]
  },
  {
   "cell_type": "code",
   "execution_count": 43,
   "id": "51151d26",
   "metadata": {},
   "outputs": [],
   "source": [
    "generated_rules = generate_rules(clusters, knowledge_base)"
   ]
  },
  {
   "cell_type": "code",
   "execution_count": 44,
   "id": "1b03545e",
   "metadata": {},
   "outputs": [
    {
     "name": "stdout",
     "output_type": "stream",
     "text": [
      "If conditions ('426783006', '111975006') are present, then: Perform detailed cardiac evaluation.\n",
      "If conditions ('426783006', '39732003') are present, then: Monitor for ischemic changes and refer to cardiology.\n",
      "If conditions ('10370003',) are present, then: No immediate action; continue routine monitoring.\n"
     ]
    }
   ],
   "source": [
    "for rule in generated_rules:\n",
    "    print(f\"If conditions {rule['conditions']} are present, then: {rule['action']}\")"
   ]
  },
  {
   "cell_type": "code",
   "execution_count": 48,
   "id": "cb33094c",
   "metadata": {},
   "outputs": [],
   "source": [
    "def derive_solutions(clusters, knowledge_base):\n",
    "    solutions = []\n",
    "    \n",
    "    # Generate combinations of conditions across clusters\n",
    "    for severe_condition in clusters[\"severe\"]:\n",
    "        for medium_condition in clusters[\"medium\"]:\n",
    "            combination = (severe_condition, medium_condition)\n",
    "            if combination in knowledge_base:\n",
    "                solutions.append(knowledge_base[combination])\n",
    "    \n",
    "    # Include single-condition solutions (e.g., for severe or negligible clusters)\n",
    "    for condition in clusters[\"severe\"] + clusters[\"medium\"] + clusters[\"low\"] + clusters[\"negligible\"]:\n",
    "        if (condition,) in knowledge_base:\n",
    "            solutions.append(knowledge_base[(condition,)])\n",
    "    \n",
    "    return solutions"
   ]
  },
  {
   "cell_type": "code",
   "execution_count": 49,
   "id": "218558bc",
   "metadata": {},
   "outputs": [
    {
     "name": "stdout",
     "output_type": "stream",
     "text": [
      "Solutions:\n",
      "- Perform cardiac evaluation and monitor QT interval.\n",
      "- Refer to cardiology for ischemic evaluation.\n",
      "- Immediate cardiac intervention required for severe sinus rhythm.\n",
      "- Monitor T-wave inversion; consider ischemia.\n"
     ]
    }
   ],
   "source": [
    "solutions = derive_solutions(clusters, knowledge_base)\n",
    "\n",
    "# Output the solutions\n",
    "print(\"Solutions:\")\n",
    "for solution in solutions:\n",
    "    print(f\"- {solution}\")"
   ]
  },
  {
   "cell_type": "code",
   "execution_count": null,
   "id": "7a2e5a93",
   "metadata": {},
   "outputs": [],
   "source": [
    "class TreeNode:\n",
    "    def __init__(self, condition=None, action=None):\n",
    "        self.condition = condition\n",
    "        self.action = action\n",
    "        self.edges = {}\n",
    "\n",
    "# Function to build the tree\n",
    "def build_tree_with_classifications(knowledge_base):\n",
    "    root = TreeNode()\n",
    "    for rule in knowledge_base:\n",
    "        current_node = root\n",
    "        for classification, conditions in rule[\"rule\"].items():\n",
    "            for condition in conditions:\n",
    "                if classification not in current_node.edges:\n",
    "                    current_node.edges[classification] = {}\n",
    "                if condition not in current_node.edges[classification]:\n",
    "                    current_node.edges[classification][condition] = TreeNode(condition)\n",
    "                current_node = current_node.edges[classification][condition]\n",
    "        current_node.action = rule[\"action\"]\n",
    "    return root\n"
   ]
  },
  {
   "cell_type": "code",
   "execution_count": 63,
   "id": "8f0fe628",
   "metadata": {},
   "outputs": [],
   "source": [
    "def traverse_tree(tree, classified_conditions):\n",
    "    solutions = []\n",
    "\n",
    "    def dfs(node, path):\n",
    "        if node.action:\n",
    "            solutions.append((path, node.action))\n",
    "            return\n",
    "        for classification, edges in node.edges.items():\n",
    "            for condition, child_node in edges.items():\n",
    "                if condition in classified_conditions.get(classification, []):\n",
    "                    dfs(child_node, path + [(classification, condition)])\n",
    "\n",
    "    dfs(tree, [])\n",
    "    return solutions\n"
   ]
  },
  {
   "cell_type": "code",
   "execution_count": 58,
   "id": "2383eb9f",
   "metadata": {},
   "outputs": [],
   "source": [
    "knowledge_base = [\n",
    "    {\"rule\": {\"severe\": [\"426783006\"], \"high\": [\"111975006\"]},\n",
    "     \"action\": \"Perform cardiac evaluation and monitor QT interval.\"},\n",
    "    {\"rule\": {\"severe\": [\"426783006\"], \"medium\": [\"39732003\"]},\n",
    "     \"action\": \"Refer to cardiology for ischemic evaluation.\"},\n",
    "    {\"rule\": {\"medium\": [\"111975006\"], \"low\": [\"59931005\"]},\n",
    "     \"action\": \"Adjust medications to avoid QT prolongation.\"},\n",
    "    {\"rule\": {\"severe\": [\"426783006\"]},\n",
    "     \"action\": \"Immediate cardiac intervention required for severe sinus rhythm.\"},\n",
    "    {\"rule\": {\"low\": [\"59931005\"]},\n",
    "     \"action\": \"Monitor T-wave inversion; consider ischemia.\"}\n",
    "]"
   ]
  },
  {
   "cell_type": "code",
   "execution_count": 59,
   "id": "3d7547f0",
   "metadata": {},
   "outputs": [],
   "source": [
    "# Classification thresholds\n",
    "def classify_condition(label, strength):\n",
    "    if strength >= 0.9:\n",
    "        return \"severe\" if label == 1 else \"negligible\"\n",
    "    elif 0.79 <= strength < 0.9:\n",
    "        return \"high\" if label == 1 else \"low\"\n",
    "    else:\n",
    "        return \"medium\"\n"
   ]
  },
  {
   "cell_type": "code",
   "execution_count": 60,
   "id": "e5cec07e",
   "metadata": {},
   "outputs": [],
   "source": [
    "classified_conditions = {\"severe\": [], \"high\": [], \"medium\": [], \"low\": [], \"negligible\": []}\n",
    "\n",
    "for condition_id, data in record_dict.items():\n",
    "    if isinstance(data, dict):\n",
    "        classification = classify_condition(data['label'], data['strength'])\n",
    "        classified_conditions[classification].append(condition_id)\n"
   ]
  },
  {
   "cell_type": "code",
   "execution_count": 62,
   "id": "99f86aba",
   "metadata": {},
   "outputs": [],
   "source": [
    "tree = build_tree_with_classifications(knowledge_base)"
   ]
  },
  {
   "cell_type": "code",
   "execution_count": 64,
   "id": "97811729",
   "metadata": {},
   "outputs": [],
   "source": [
    "solutions = traverse_tree(tree, classified_conditions)"
   ]
  },
  {
   "cell_type": "code",
   "execution_count": 65,
   "id": "3c3aa614",
   "metadata": {},
   "outputs": [
    {
     "name": "stdout",
     "output_type": "stream",
     "text": [
      "\n",
      "Classified Conditions:\n",
      "Severe Cluster: ['426783006']\n",
      "High Cluster: []\n",
      "Medium Cluster: ['111975006', '39732003', '427393009']\n",
      "Low Cluster: ['251146004', '59931005']\n",
      "Negligible Cluster: ['10370003', '164889003', '164890007', '164909002', '164917005', '164934002', '164947007', '270492004', '284470004', '426177001', '426627000', '427084000', '427172004', '445118002', '47665007', '698252002', '713426002', '713427006']\n",
      "\n",
      "Derived Solutions:\n",
      "Path: [('severe', '426783006')]\n",
      "Action: Immediate cardiac intervention required for severe sinus rhythm.\n",
      "Path: [('medium', '111975006'), ('low', '59931005')]\n",
      "Action: Adjust medications to avoid QT prolongation.\n",
      "Path: [('low', '59931005')]\n",
      "Action: Monitor T-wave inversion; consider ischemia.\n"
     ]
    }
   ],
   "source": [
    "print(\"\\nClassified Conditions:\")\n",
    "for classification, conditions in classified_conditions.items():\n",
    "    print(f\"{classification.capitalize()} Cluster: {conditions}\")\n",
    "\n",
    "print(\"\\nDerived Solutions:\")\n",
    "for path, action in solutions:\n",
    "    print(f\"Path: {path}\")\n",
    "    print(f\"Action: {action}\")"
   ]
  },
  {
   "cell_type": "code",
   "execution_count": null,
   "id": "66a860f0",
   "metadata": {},
   "outputs": [],
   "source": [
    "class TreeNode:\n",
    "    def __init__(self, name=None):\n",
    "        self.name = name\n",
    "        self.conditions = []  # Conditions at this node\n",
    "        self.children = {}  # Child nodes\n",
    "        self.rule = None\n",
    "\n",
    "def build_tree(severity_levels, max_conditions=3):\n",
    "    \"\"\"\n",
    "    Construct the tree for the given severity levels.\n",
    "    Each node represents a severity level, and its children represent the next severity level.\n",
    "    \"\"\"\n",
    "    root = TreeNode(\"root\")\n",
    "    current_level = [root]\n",
    "    for severity in severity_levels:\n",
    "        next_level = []\n",
    "        for parent in current_level:\n",
    "            # Add branches for the current severity\n",
    "            parent.children[severity] = TreeNode(name=severity)\n",
    "            parent.children[severity].conditions = conditions[:max_conditions]\n",
    "            next_level.append(parent.children[severity])\n",
    "        current_level = next_level\n",
    "    return root\n",
    "\n",
    "def assign_rules_to_leaves(node, path=None):\n",
    "    \"\"\"\n",
    "    Assign detailed rules at the leaf nodes based on the path.\n",
    "    \"\"\"\n",
    "    if path is None:\n",
    "        path = []\n",
    "    # If leaf node, assign a detailed action\n",
    "    if not node.children:\n",
    "        action_conditions = {level: \", \".join(child.conditions) for level, child in path}\n",
    "        # Refine actions based on conditions\n",
    "        node.rule = f\"\"\"\n",
    "        Action:\n",
    "        - Severe Conditions: {action_conditions.get('severe', 'None')}\n",
    "        - High Conditions: {action_conditions.get('high', 'None')}\n",
    "        - Medium Conditions: {action_conditions.get('medium', 'None')}\n",
    "        - Low Conditions: {action_conditions.get('low', 'None')}\n",
    "        - Recommendation: Immediate cardiac evaluation and management plan tailored to above conditions.\n",
    "        \"\"\"\n",
    "        return\n",
    "    # Traverse children\n",
    "    for severity, child in node.children.items():\n",
    "        assign_rules_to_leaves(child, path + [(severity, child)])\n",
    "\n",
    "def traverse_tree(node, clusters, path=None):\n",
    "    \"\"\"\n",
    "    Traverse the tree using the input clusters to find the rule at the matching leaf.\n",
    "    Handles multiple conditions per severity level.\n",
    "    \"\"\"\n",
    "    if path is None:\n",
    "        path = []\n",
    "    # If leaf node, return the rule\n",
    "    if not node.children:\n",
    "        return node.rule\n",
    "\n",
    "    # Check each severity level and traverse if conditions match\n",
    "    for severity, conditions in clusters.items():\n",
    "        if severity in node.children:\n",
    "            # Check if any input condition matches the node's conditions\n",
    "            matching_conditions = [cond for cond in conditions if cond in node.children[severity].conditions]\n",
    "            if matching_conditions:\n",
    "                # Add matching conditions to the path and traverse\n",
    "                return traverse_tree(node.children[severity], clusters, path + [(severity, node.children[severity])])\n",
    "    \n",
    "    # If no matching rule is found\n",
    "    return \"No matching rule found.\"\n"
   ]
  },
  {
   "cell_type": "code",
   "execution_count": 77,
   "id": "5268c50c",
   "metadata": {},
   "outputs": [],
   "source": [
    "severity_levels = [\"severe\", \"high\", \"medium\", \"low\"]\n",
    "conditions = [\n",
    "    \"426783006\",  # Severe Sinus Rhythm Issue\n",
    "    \"111975006\",  # Prolonged QT Interval\n",
    "    \"39732003\",   # Left Axis Deviation\n",
    "    \"59931005\",   # Inverted T Wave\n",
    "    \"164889003\"   # Atrial Fibrillation\n",
    "]\n",
    "clusters = {\n",
    "    \"severe\": [\"426783006\"],\n",
    "    \"high\": [],\n",
    "    \"medium\": [\"111975006\", \"39732003\"],\n",
    "    \"low\": [\"59931005\"]\n",
    "}"
   ]
  },
  {
   "cell_type": "code",
   "execution_count": 88,
   "id": "06a1b756",
   "metadata": {},
   "outputs": [],
   "source": [
    "tree = build_tree(severity_levels)\n",
    "assign_rules_to_leaves(tree)"
   ]
  },
  {
   "cell_type": "code",
   "execution_count": 71,
   "id": "628f0533",
   "metadata": {},
   "outputs": [],
   "source": [
    "clusters_1 = {\"severe\": [\"426783006\"], \"high\": [], \"medium\": [\"111975006\", \"39732003\"], \"low\": [\"59931005\"]}\n"
   ]
  },
  {
   "cell_type": "code",
   "execution_count": 82,
   "id": "b38bf930",
   "metadata": {},
   "outputs": [],
   "source": [
    "action = traverse_tree(tree, clusters)"
   ]
  },
  {
   "cell_type": "code",
   "execution_count": 83,
   "id": "931bc1d5",
   "metadata": {},
   "outputs": [
    {
     "data": {
      "text/plain": [
       "'No matching rule found.'"
      ]
     },
     "execution_count": 83,
     "metadata": {},
     "output_type": "execute_result"
    }
   ],
   "source": [
    "action"
   ]
  },
  {
   "cell_type": "code",
   "execution_count": 89,
   "id": "8b34e433",
   "metadata": {},
   "outputs": [
    {
     "name": "stdout",
     "output_type": "stream",
     "text": [
      "Test Case 1:\n",
      "No matching rule found.\n",
      "==================================================\n",
      "Test Case 2:\n",
      "No matching rule found.\n",
      "==================================================\n",
      "Test Case 3:\n",
      "No matching rule found.\n",
      "==================================================\n"
     ]
    }
   ],
   "source": [
    "test_clusters = [\n",
    "    {\"severe\": [\"426783006\"], \"high\": [], \"medium\": [\"111975006\", \"39732003\"], \"low\": [\"59931005\"]},\n",
    "    {\"severe\": [\"426783006\"], \"high\": [\"111975006\"], \"medium\": [], \"low\": [\"39732003\", \"59931005\"]},\n",
    "    {\"severe\": [], \"high\": [\"39732003\"], \"medium\": [\"111975006\"], \"low\": [\"59931005\"]},\n",
    "]\n",
    "\n",
    "# Traverse and test\n",
    "for i, clusters in enumerate(test_clusters, 1):\n",
    "    print(f\"Test Case {i}:\")\n",
    "    action = traverse_tree(tree, clusters)\n",
    "    print(action)\n",
    "    print(\"=\" * 50)"
   ]
  },
  {
   "cell_type": "code",
   "execution_count": 85,
   "id": "bad55b1c",
   "metadata": {},
   "outputs": [
    {
     "data": {
      "image/png": "[encoded data removed]",
      "text/plain": [
       "<Figure size 1200x800 with 1 Axes>"
      ]
     },
     "metadata": {},
     "output_type": "display_data"
    }
   ],
   "source": [
    "import matplotlib.pyplot as plt\n",
    "import networkx as nx\n",
    "\n",
    "# Visualize the tree\n",
    "def visualize_tree(node, graph=None, parent=None):\n",
    "    \"\"\"\n",
    "    Visualize the tree structure using NetworkX and Matplotlib.\n",
    "    \"\"\"\n",
    "    if graph is None:\n",
    "        graph = nx.DiGraph()\n",
    "    if parent:\n",
    "        graph.add_edge(parent.name, node.name)\n",
    "    for child in node.children.values():\n",
    "        visualize_tree(child, graph, parent=node)\n",
    "    return graph\n",
    "\n",
    "# Plot the tree\n",
    "def plot_tree(graph):\n",
    "    pos = nx.spring_layout(graph)\n",
    "    plt.figure(figsize=(12, 8))\n",
    "    nx.draw(graph, pos, with_labels=True, node_size=3000, font_size=10, font_weight=\"bold\")\n",
    "    plt.show()\n",
    "\n",
    "# Visualize the decision tree\n",
    "tree_graph = visualize_tree(tree)\n",
    "plot_tree(tree_graph)\n"
   ]
  },
  {
   "cell_type": "code",
   "execution_count": 93,
   "id": "e5b07b29",
   "metadata": {},
   "outputs": [],
   "source": [
    "import matplotlib.pyplot as plt\n",
    "import networkx as nx\n",
    "\n",
    "# Tree Node Definition\n",
    "class TreeNode:\n",
    "    def __init__(self, name=None, conditions=None):\n",
    "        self.name = name\n",
    "        self.conditions = conditions if conditions else []\n",
    "        self.children = {}\n",
    "        self.rule = None  # Rule (action) at the leaf node\n",
    "\n",
    "# Build the Tree\n",
    "def build_tree(severity_levels, condition_map):\n",
    "    \"\"\"\n",
    "    Construct the tree for the given severity levels and conditions.\n",
    "    Each node represents a severity level, and its children represent the next severity level.\n",
    "    \"\"\"\n",
    "    root = TreeNode(\"root\")\n",
    "    current_level = [root]\n",
    "    for severity in severity_levels:\n",
    "        next_level = []\n",
    "        for parent in current_level:\n",
    "            # Create a child node for each severity level\n",
    "            child = TreeNode(name=severity, conditions=condition_map.get(severity, []))\n",
    "            parent.children[severity] = child\n",
    "            next_level.append(child)\n",
    "        current_level = next_level\n",
    "    return root\n",
    "\n",
    "# Assign Rules to Leaves\n",
    "def assign_rules_to_leaves(node, path=None):\n",
    "    \"\"\"\n",
    "    Assign detailed rules at the leaf nodes based on the path.\n",
    "    \"\"\"\n",
    "    if path is None:\n",
    "        path = []\n",
    "    # If leaf node, assign a detailed action\n",
    "    if not node.children:\n",
    "        action_conditions = {level: \", \".join(child.conditions) for level, child in path}\n",
    "        node.rule = f\"\"\"\n",
    "        Action:\n",
    "        - Severe Conditions: {action_conditions.get('severe', 'None')}\n",
    "        - High Conditions: {action_conditions.get('high', 'None')}\n",
    "        - Medium Conditions: {action_conditions.get('medium', 'None')}\n",
    "        - Low Conditions: {action_conditions.get('low', 'None')}\n",
    "        - Recommendation: Tailor management based on above conditions.\n",
    "        \"\"\"\n",
    "        return\n",
    "    # Traverse children\n",
    "    for severity, child in node.children.items():\n",
    "        assign_rules_to_leaves(child, path + [(severity, child)])\n",
    "\n",
    "# Traverse the Tree\n",
    "def traverse_tree(node, clusters, path=None):\n",
    "    \"\"\"\n",
    "    Traverse the tree using the input clusters to find the rule at the matching leaf.\n",
    "    Handles multiple conditions per severity level.\n",
    "    \"\"\"\n",
    "    if path is None:\n",
    "        path = []\n",
    "    # If leaf node, return the rule\n",
    "    if not node.children:\n",
    "        return node.rule\n",
    "\n",
    "    # Check each severity level and traverse if conditions match\n",
    "    for severity, conditions in clusters.items():\n",
    "        if severity in node.children:\n",
    "            # Check if any input condition matches the node's conditions\n",
    "            matching_conditions = [cond for cond in conditions if cond in node.children[severity].conditions]\n",
    "            if matching_conditions:\n",
    "                # Add matching conditions to the path and traverse\n",
    "                return traverse_tree(node.children[severity], clusters, path + [(severity, node.children[severity])])\n",
    "    \n",
    "    # If no matching rule is found\n",
    "    return \"No matching rule found.\"\n",
    "\n",
    "# Visualize the Tree\n",
    "def visualize_tree(node, graph=None, parent=None):\n",
    "    \"\"\"\n",
    "    Visualize the tree structure using NetworkX and Matplotlib.\n",
    "    \"\"\"\n",
    "    if graph is None:\n",
    "        graph = nx.DiGraph()\n",
    "    if parent:\n",
    "        graph.add_edge(parent.name, node.name)\n",
    "    for child in node.children.values():\n",
    "        visualize_tree(child, graph, parent=node)\n",
    "    return graph\n",
    "\n",
    "# Plot the Tree\n",
    "def plot_tree(graph):\n",
    "    pos = nx.spring_layout(graph)\n",
    "    plt.figure(figsize=(12, 8))\n",
    "    nx.draw(graph, pos, with_labels=True, node_size=3000, font_size=10, font_weight=\"bold\")\n",
    "    plt.show()\n",
    "\n",
    "# Define severity levels and condition map\n",
    "severity_levels = [\"severe\", \"high\", \"medium\", \"low\"]\n",
    "condition_map = {\n",
    "    \"severe\": [\"426783006\"],\n",
    "    \"high\": [\"111975006\"],\n",
    "    \"medium\": [\"39732003\", \"59931005\"],\n",
    "    \"low\": [\"164889003\"]\n",
    "}\n",
    "\n",
    "# Define input clusters for testing\n",
    "test_clusters = [\n",
    "    {\"severe\": [\"426783006\"], \"high\": [], \"medium\": [\"39732003\", \"59931005\"], \"low\": [\"164889003\"]},\n",
    "    {\"severe\": [\"426783006\"], \"high\": [\"111975006\"], \"medium\": [], \"low\": [\"59931005\"]},\n",
    "    {\"severe\": [], \"high\": [\"111975006\"], \"medium\": [\"39732003\"], \"low\": [\"164889003\"]},\n",
    "]\n",
    "\n",
    "# Build the tree\n",
    "tree = build_tree(severity_levels, condition_map)\n",
    "\n",
    "# Assign rules to the leaf nodes\n",
    "assign_rules_to_leaves(tree)"
   ]
  },
  {
   "cell_type": "code",
   "execution_count": 94,
   "id": "0a4cb076",
   "metadata": {},
   "outputs": [
    {
     "name": "stdout",
     "output_type": "stream",
     "text": [
      "Test Case 1:\n",
      "No matching rule found.\n",
      "==================================================\n",
      "Test Case 2:\n",
      "No matching rule found.\n",
      "==================================================\n",
      "Test Case 3:\n",
      "No matching rule found.\n",
      "==================================================\n"
     ]
    }
   ],
   "source": [
    "for i, clusters in enumerate(test_clusters, 1):\n",
    "    print(f\"Test Case {i}:\")\n",
    "    action = traverse_tree(tree, clusters)\n",
    "    print(action)\n",
    "    print(\"=\" * 50)"
   ]
  },
  {
   "cell_type": "code",
   "execution_count": 95,
   "id": "c9cfec80",
   "metadata": {},
   "outputs": [
    {
     "data": {
      "image/png": "[encoded data removed]",
      "text/plain": [
       "<Figure size 1200x800 with 1 Axes>"
      ]
     },
     "metadata": {},
     "output_type": "display_data"
    }
   ],
   "source": [
    "tree_graph = visualize_tree(tree)\n",
    "plot_tree(tree_graph)"
   ]
  },
  {
   "cell_type": "code",
   "execution_count": 96,
   "id": "cf80148b",
   "metadata": {},
   "outputs": [],
   "source": [
    "knowledge_base = {\n",
    "    \"10370003\": {\n",
    "        \"name\": \"Rhythm from artificial pacing\",\n",
    "        \"description\": \"An EKG rhythm resulting from an artificial pacemaker.\",\n",
    "        \"confidence_threshold\": 0.7,\n",
    "        \"recommendations\": {\n",
    "            \"severe\": \"Monitor pacemaker settings\",\n",
    "            \"medium\": \"Assess patient symptoms\"\n",
    "        }\n",
    "    },\n",
    "    \"164889003\": {\n",
    "        \"name\": \"ECG: Atrial Fibrillation\",\n",
    "        \"description\": \"A common arrhythmia characterized by rapid and irregular beating of the atria.\",\n",
    "        \"confidence_threshold\": 0.8,\n",
    "        \"recommendations\": {\n",
    "            \"severe\": \"Consider anticoagulants\",\n",
    "            \"medium\": \"Rate control medications\",\n",
    "            \"low\": \"Consult cardiology\"\n",
    "        }\n",
    "    }\n",
    "}\n"
   ]
  },
  {
   "cell_type": "code",
   "execution_count": 97,
   "id": "c72f32cf",
   "metadata": {},
   "outputs": [],
   "source": [
    "input_cluster = {\n",
    "    \"severe\": [\"10370003\"],\n",
    "    \"medium\": [\"164889003\"],\n",
    "    \"low\": []\n",
    "}\n"
   ]
  },
  {
   "cell_type": "code",
   "execution_count": 98,
   "id": "bfce04d4",
   "metadata": {},
   "outputs": [
    {
     "name": "stdout",
     "output_type": "stream",
     "text": [
      "Condition: Rhythm from artificial pacing\n",
      "Severity: severe\n",
      "Recommendation: Monitor pacemaker settings\n",
      "==================================================\n",
      "Condition: ECG: Atrial Fibrillation\n",
      "Severity: medium\n",
      "Recommendation: Rate control medications\n",
      "==================================================\n"
     ]
    }
   ],
   "source": [
    "def get_recommendations(input_cluster, knowledge_base):\n",
    "    \"\"\"\n",
    "    Retrieve recommendations based on input cluster and knowledge base.\n",
    "    \"\"\"\n",
    "    recommendations = []\n",
    "\n",
    "    # Iterate through severity levels in the input cluster\n",
    "    for severity, conditions in input_cluster.items():\n",
    "        for condition in conditions:\n",
    "            # Lookup condition in the knowledge base\n",
    "            if condition in knowledge_base:\n",
    "                condition_info = knowledge_base[condition]\n",
    "                # Retrieve recommendation for the severity level\n",
    "                severity_rec = condition_info[\"recommendations\"].get(severity)\n",
    "                if severity_rec:\n",
    "                    recommendations.append({\n",
    "                        \"condition\": condition_info[\"name\"],\n",
    "                        \"severity\": severity,\n",
    "                        \"recommendation\": severity_rec\n",
    "                    })\n",
    "    return recommendations\n",
    "\n",
    "# Retrieve recommendations\n",
    "recommendations = get_recommendations(input_cluster, knowledge_base)\n",
    "\n",
    "# Print the results\n",
    "for rec in recommendations:\n",
    "    print(f\"Condition: {rec['condition']}\")\n",
    "    print(f\"Severity: {rec['severity']}\")\n",
    "    print(f\"Recommendation: {rec['recommendation']}\")\n",
    "    print(\"=\" * 50)\n"
   ]
  },
  {
   "cell_type": "code",
   "execution_count": 99,
   "id": "bdff3747",
   "metadata": {},
   "outputs": [
    {
     "name": "stdout",
     "output_type": "stream",
     "text": [
      "{'severe': ['Monitor pacemaker settings'], 'medium': ['Rate control medications']}\n"
     ]
    }
   ],
   "source": [
    "def summarize_recommendations(recommendations):\n",
    "    summary = {}\n",
    "    for rec in recommendations:\n",
    "        if rec[\"severity\"] not in summary:\n",
    "            summary[rec[\"severity\"]] = []\n",
    "        summary[rec[\"severity\"]].append(rec[\"recommendation\"])\n",
    "    return summary\n",
    "\n",
    "# Generate a summary\n",
    "summary = summarize_recommendations(recommendations)\n",
    "print(summary)\n"
   ]
  },
  {
   "cell_type": "code",
   "execution_count": 6,
   "id": "03769290",
   "metadata": {},
   "outputs": [
    {
     "ename": "TypeError",
     "evalue": "Object of type int64 is not JSON serializable",
     "output_type": "error",
     "traceback": [
      "\u001b[0;31m---------------------------------------------------------------------------\u001b[0m",
      "\u001b[0;31mTypeError\u001b[0m                                 Traceback (most recent call last)",
      "Cell \u001b[0;32mIn[6], line 4\u001b[0m\n\u001b[1;32m      1\u001b[0m \u001b[38;5;28;01mimport\u001b[39;00m \u001b[38;5;21;01mjson\u001b[39;00m\n\u001b[1;32m      3\u001b[0m \u001b[38;5;28;01mwith\u001b[39;00m \u001b[38;5;28mopen\u001b[39m(\u001b[38;5;124m'\u001b[39m\u001b[38;5;124mrecord_dict.json\u001b[39m\u001b[38;5;124m'\u001b[39m, \u001b[38;5;124m'\u001b[39m\u001b[38;5;124mw\u001b[39m\u001b[38;5;124m'\u001b[39m) \u001b[38;5;28;01mas\u001b[39;00m fp:\n\u001b[0;32m----> 4\u001b[0m     json\u001b[38;5;241m.\u001b[39mdump(record_dict, fp)\n",
      "File \u001b[0;32m~/.conda/envs/cent7/2024.02-py311/kmallick/lib/python3.11/json/__init__.py:179\u001b[0m, in \u001b[0;36mdump\u001b[0;34m(obj, fp, skipkeys, ensure_ascii, check_circular, allow_nan, cls, indent, separators, default, sort_keys, **kw)\u001b[0m\n\u001b[1;32m    173\u001b[0m     iterable \u001b[38;5;241m=\u001b[39m \u001b[38;5;28mcls\u001b[39m(skipkeys\u001b[38;5;241m=\u001b[39mskipkeys, ensure_ascii\u001b[38;5;241m=\u001b[39mensure_ascii,\n\u001b[1;32m    174\u001b[0m         check_circular\u001b[38;5;241m=\u001b[39mcheck_circular, allow_nan\u001b[38;5;241m=\u001b[39mallow_nan, indent\u001b[38;5;241m=\u001b[39mindent,\n\u001b[1;32m    175\u001b[0m         separators\u001b[38;5;241m=\u001b[39mseparators,\n\u001b[1;32m    176\u001b[0m         default\u001b[38;5;241m=\u001b[39mdefault, sort_keys\u001b[38;5;241m=\u001b[39msort_keys, \u001b[38;5;241m*\u001b[39m\u001b[38;5;241m*\u001b[39mkw)\u001b[38;5;241m.\u001b[39miterencode(obj)\n\u001b[1;32m    177\u001b[0m \u001b[38;5;66;03m# could accelerate with writelines in some versions of Python, at\u001b[39;00m\n\u001b[1;32m    178\u001b[0m \u001b[38;5;66;03m# a debuggability cost\u001b[39;00m\n\u001b[0;32m--> 179\u001b[0m \u001b[38;5;28;01mfor\u001b[39;00m chunk \u001b[38;5;129;01min\u001b[39;00m iterable:\n\u001b[1;32m    180\u001b[0m     fp\u001b[38;5;241m.\u001b[39mwrite(chunk)\n",
      "File \u001b[0;32m~/.conda/envs/cent7/2024.02-py311/kmallick/lib/python3.11/json/encoder.py:432\u001b[0m, in \u001b[0;36m_make_iterencode.<locals>._iterencode\u001b[0;34m(o, _current_indent_level)\u001b[0m\n\u001b[1;32m    430\u001b[0m     \u001b[38;5;28;01myield from\u001b[39;00m _iterencode_list(o, _current_indent_level)\n\u001b[1;32m    431\u001b[0m \u001b[38;5;28;01melif\u001b[39;00m \u001b[38;5;28misinstance\u001b[39m(o, \u001b[38;5;28mdict\u001b[39m):\n\u001b[0;32m--> 432\u001b[0m     \u001b[38;5;28;01myield from\u001b[39;00m _iterencode_dict(o, _current_indent_level)\n\u001b[1;32m    433\u001b[0m \u001b[38;5;28;01melse\u001b[39;00m:\n\u001b[1;32m    434\u001b[0m     \u001b[38;5;28;01mif\u001b[39;00m markers \u001b[38;5;129;01mis\u001b[39;00m \u001b[38;5;129;01mnot\u001b[39;00m \u001b[38;5;28;01mNone\u001b[39;00m:\n",
      "File \u001b[0;32m~/.conda/envs/cent7/2024.02-py311/kmallick/lib/python3.11/json/encoder.py:406\u001b[0m, in \u001b[0;36m_make_iterencode.<locals>._iterencode_dict\u001b[0;34m(dct, _current_indent_level)\u001b[0m\n\u001b[1;32m    404\u001b[0m         \u001b[38;5;28;01melse\u001b[39;00m:\n\u001b[1;32m    405\u001b[0m             chunks \u001b[38;5;241m=\u001b[39m _iterencode(value, _current_indent_level)\n\u001b[0;32m--> 406\u001b[0m         \u001b[38;5;28;01myield from\u001b[39;00m chunks\n\u001b[1;32m    407\u001b[0m \u001b[38;5;28;01mif\u001b[39;00m newline_indent \u001b[38;5;129;01mis\u001b[39;00m \u001b[38;5;129;01mnot\u001b[39;00m \u001b[38;5;28;01mNone\u001b[39;00m:\n\u001b[1;32m    408\u001b[0m     _current_indent_level \u001b[38;5;241m-\u001b[39m\u001b[38;5;241m=\u001b[39m \u001b[38;5;241m1\u001b[39m\n",
      "File \u001b[0;32m~/.conda/envs/cent7/2024.02-py311/kmallick/lib/python3.11/json/encoder.py:406\u001b[0m, in \u001b[0;36m_make_iterencode.<locals>._iterencode_dict\u001b[0;34m(dct, _current_indent_level)\u001b[0m\n\u001b[1;32m    404\u001b[0m         \u001b[38;5;28;01melse\u001b[39;00m:\n\u001b[1;32m    405\u001b[0m             chunks \u001b[38;5;241m=\u001b[39m _iterencode(value, _current_indent_level)\n\u001b[0;32m--> 406\u001b[0m         \u001b[38;5;28;01myield from\u001b[39;00m chunks\n\u001b[1;32m    407\u001b[0m \u001b[38;5;28;01mif\u001b[39;00m newline_indent \u001b[38;5;129;01mis\u001b[39;00m \u001b[38;5;129;01mnot\u001b[39;00m \u001b[38;5;28;01mNone\u001b[39;00m:\n\u001b[1;32m    408\u001b[0m     _current_indent_level \u001b[38;5;241m-\u001b[39m\u001b[38;5;241m=\u001b[39m \u001b[38;5;241m1\u001b[39m\n",
      "File \u001b[0;32m~/.conda/envs/cent7/2024.02-py311/kmallick/lib/python3.11/json/encoder.py:439\u001b[0m, in \u001b[0;36m_make_iterencode.<locals>._iterencode\u001b[0;34m(o, _current_indent_level)\u001b[0m\n\u001b[1;32m    437\u001b[0m         \u001b[38;5;28;01mraise\u001b[39;00m \u001b[38;5;167;01mValueError\u001b[39;00m(\u001b[38;5;124m\"\u001b[39m\u001b[38;5;124mCircular reference detected\u001b[39m\u001b[38;5;124m\"\u001b[39m)\n\u001b[1;32m    438\u001b[0m     markers[markerid] \u001b[38;5;241m=\u001b[39m o\n\u001b[0;32m--> 439\u001b[0m o \u001b[38;5;241m=\u001b[39m _default(o)\n\u001b[1;32m    440\u001b[0m \u001b[38;5;28;01myield from\u001b[39;00m _iterencode(o, _current_indent_level)\n\u001b[1;32m    441\u001b[0m \u001b[38;5;28;01mif\u001b[39;00m markers \u001b[38;5;129;01mis\u001b[39;00m \u001b[38;5;129;01mnot\u001b[39;00m \u001b[38;5;28;01mNone\u001b[39;00m:\n",
      "File \u001b[0;32m~/.conda/envs/cent7/2024.02-py311/kmallick/lib/python3.11/json/encoder.py:180\u001b[0m, in \u001b[0;36mJSONEncoder.default\u001b[0;34m(self, o)\u001b[0m\n\u001b[1;32m    161\u001b[0m \u001b[38;5;28;01mdef\u001b[39;00m \u001b[38;5;21mdefault\u001b[39m(\u001b[38;5;28mself\u001b[39m, o):\n\u001b[1;32m    162\u001b[0m \u001b[38;5;250m    \u001b[39m\u001b[38;5;124;03m\"\"\"Implement this method in a subclass such that it returns\u001b[39;00m\n\u001b[1;32m    163\u001b[0m \u001b[38;5;124;03m    a serializable object for ``o``, or calls the base implementation\u001b[39;00m\n\u001b[1;32m    164\u001b[0m \u001b[38;5;124;03m    (to raise a ``TypeError``).\u001b[39;00m\n\u001b[0;32m   (...)\u001b[0m\n\u001b[1;32m    178\u001b[0m \n\u001b[1;32m    179\u001b[0m \u001b[38;5;124;03m    \"\"\"\u001b[39;00m\n\u001b[0;32m--> 180\u001b[0m     \u001b[38;5;28;01mraise\u001b[39;00m \u001b[38;5;167;01mTypeError\u001b[39;00m(\u001b[38;5;124mf\u001b[39m\u001b[38;5;124m'\u001b[39m\u001b[38;5;124mObject of type \u001b[39m\u001b[38;5;132;01m{\u001b[39;00mo\u001b[38;5;241m.\u001b[39m\u001b[38;5;18m__class__\u001b[39m\u001b[38;5;241m.\u001b[39m\u001b[38;5;18m__name__\u001b[39m\u001b[38;5;132;01m}\u001b[39;00m\u001b[38;5;124m \u001b[39m\u001b[38;5;124m'\u001b[39m\n\u001b[1;32m    181\u001b[0m                     \u001b[38;5;124mf\u001b[39m\u001b[38;5;124m'\u001b[39m\u001b[38;5;124mis not JSON serializable\u001b[39m\u001b[38;5;124m'\u001b[39m)\n",
      "\u001b[0;31mTypeError\u001b[0m: Object of type int64 is not JSON serializable"
     ]
    }
   ],
   "source": [
    "import json\n",
    "\n",
    "with open('record_dict.json', 'w') as fp:\n",
    "    json.dump(record_dict, fp)"
   ]
  }
 ],
 "metadata": {
  "kernelspec": {
   "display_name": "kmallick",
   "language": "python",
   "name": "python3"
  },
  "language_info": {
   "codemirror_mode": {
    "name": "ipython",
    "version": 3
   },
   "file_extension": ".py",
   "mimetype": "text/x-python",
   "name": "python",
   "nbconvert_exporter": "python",
   "pygments_lexer": "ipython3",
   "version": "3.11.7"
  }
 },
 "nbformat": 4,
 "nbformat_minor": 5
}

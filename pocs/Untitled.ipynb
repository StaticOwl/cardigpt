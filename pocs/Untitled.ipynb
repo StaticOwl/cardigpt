{
 "cells": [
  {
   "cell_type": "code",
   "execution_count": null,
   "id": "f097e9d2-baa1-4170-9e41-e283357894a7",
   "metadata": {},
   "outputs": [
    {
     "name": "stdout",
     "output_type": "stream",
     "text": [
      "Defaulting to user installation because normal site-packages is not writeable\n",
      "Collecting scikit-fuzzy\n",
      "  Downloading scikit_fuzzy-0.5.0-py2.py3-none-any.whl.metadata (2.6 kB)\n",
      "Downloading scikit_fuzzy-0.5.0-py2.py3-none-any.whl (920 kB)\n",
      "\u001b[2K   \u001b[90m━━━━━━━━━━━━━━━━━━━━━━━━━━━━━━━━━━━━━━━━\u001b[0m \u001b[32m920.8/920.8 kB\u001b[0m \u001b[31m11.3 MB/s\u001b[0m eta \u001b[36m0:00:00\u001b[0ma \u001b[36m0:00:01\u001b[0m\n",
      "\u001b[?25hInstalling collected packages: scikit-fuzzy\n",
      "Successfully installed scikit-fuzzy-0.5.0\n"
     ]
    }
   ],
   "source": [
    "!pip install scikit-fuzzy"
   ]
  },
  {
   "cell_type": "code",
   "execution_count": 5,
   "id": "b09fd85f-6138-4751-9fda-da8546607052",
   "metadata": {},
   "outputs": [],
   "source": [
    "from skfuzzy import control as ctrl\n",
    "import numpy as np\n",
    "import skfuzzy as fuzz\n",
    "\n",
    "condition_severity = ctrl.Antecedent(np.arange(0, 101, 1), 'condition_severity')\n",
    "symptom_relevance = ctrl.Antecedent(np.arange(0, 101, 1), 'symptom_relevance')\n",
    "recommendation = ctrl.Consequent(np.arange(0, 101, 1), 'recommendation')\n",
    "\n",
    "condition_severity['low'] = fuzz.trapmf(condition_severity.universe, [0, 0, 30, 50])\n",
    "condition_severity['medium'] = fuzz.trimf(condition_severity.universe, [30, 50, 70])\n",
    "condition_severity['high'] = fuzz.trapmf(condition_severity.universe, [50, 70, 100, 100])\n",
    "\n",
    "symptom_relevance['low'] = fuzz.trapmf(symptom_relevance.universe, [0, 0, 30, 50])\n",
    "symptom_relevance['medium'] = fuzz.trimf(symptom_relevance.universe, [30, 50, 70])\n",
    "symptom_relevance['high'] = fuzz.trapmf(symptom_relevance.universe, [50, 70, 100, 100])\n",
    "\n",
    "recommendation['routine'] = fuzz.trapmf(recommendation.universe, [0, 0, 30, 50])\n",
    "recommendation['priority'] = fuzz.trimf(recommendation.universe, [30, 50, 70])\n",
    "recommendation['urgent'] = fuzz.trapmf(recommendation.universe, [50, 70, 100, 100])\n",
    "\n",
    "rule1 = ctrl.Rule(condition_severity['high'] & symptom_relevance['high'], recommendation['urgent'])\n",
    "rule2 = ctrl.Rule(condition_severity['medium'] & symptom_relevance['medium'], recommendation['priority'])\n",
    "rule3 = ctrl.Rule(condition_severity['low'] & symptom_relevance['low'], recommendation['routine'])\n",
    "\n",
    "recommendation_ctrl = ctrl.ControlSystem([rule1, rule2, rule3])\n",
    "\n",
    "\n"
   ]
  },
  {
   "cell_type": "code",
   "execution_count": 9,
   "id": "9e0eb02e-2dc5-496b-9628-4f7b2ab727ea",
   "metadata": {},
   "outputs": [
    {
     "name": "stdout",
     "output_type": "stream",
     "text": [
      "79.58333333333333\n"
     ]
    }
   ],
   "source": [
    "recommendation_sim = ctrl.ControlSystemSimulation(recommendation_ctrl)\n",
    "recommendation_sim.input['condition_severity'] = 80\n",
    "recommendation_sim.input['symptom_relevance'] = 70\n",
    "recommendation_sim.compute()\n",
    "\n",
    "print(recommendation_sim.output['recommendation'])"
   ]
  },
  {
   "cell_type": "code",
   "execution_count": 13,
   "id": "b89a0137-a8e6-4375-9493-0c64d3423c54",
   "metadata": {},
   "outputs": [
    {
     "name": "stdout",
     "output_type": "stream",
     "text": [
      "Presence of attributes across .hea files:\n",
      "Dx: 38788 files\n",
      "Rx: 0 files\n",
      "Hx: 0 files\n",
      "Sx: 0 files\n",
      "Total .hea files processed: 38788\n"
     ]
    }
   ],
   "source": [
    "import os\n",
    "\n",
    "# Define the path where .hea files are stored\n",
    "hea_files_directory = '../pred_res/input_data/train'\n",
    "attribute_counts = {\"Dx\": 0, \"Rx\": 0, \"Hx\": 0, \"Sx\": 0}\n",
    "\n",
    "# Loop through all .hea files in the directory\n",
    "for filename in os.listdir(hea_files_directory):\n",
    "    if filename.endswith('.hea'):\n",
    "        # Open and read the file\n",
    "        with open(os.path.join(hea_files_directory, filename), 'r') as file:\n",
    "            content = file.read()\n",
    "            \n",
    "            # Check for the presence of each attribute\n",
    "            if \"#Dx: Unknown\" not in content:\n",
    "                attribute_counts[\"Dx\"] += 1\n",
    "            if \"#Rx: Unknown\" not in content:\n",
    "                attribute_counts[\"Rx\"] += 1\n",
    "            if \"#Hx: Unknown\" not in content:\n",
    "                attribute_counts[\"Hx\"] += 1\n",
    "            if \"#Sx: Unknown\" not in content:\n",
    "                attribute_counts[\"Sx\"] += 1\n",
    "\n",
    "# Print the count of files with each attribute\n",
    "print(\"Presence of attributes across .hea files:\")\n",
    "for attribute, count in attribute_counts.items():\n",
    "    print(f\"{attribute}: {count} files\")\n",
    "\n",
    "# Optional: Print total files processed for context\n",
    "total_files = len([f for f in os.listdir(hea_files_directory) if f.endswith('.hea')])\n",
    "print(f\"Total .hea files processed: {total_files}\")"
   ]
  },
  {
   "cell_type": "code",
   "execution_count": 14,
   "id": "8e763124-45f9-4d32-bef1-b80badec721e",
   "metadata": {},
   "outputs": [
    {
     "name": "stdout",
     "output_type": "stream",
     "text": [
      "Sun Oct 27 01:46:43 2024       \n",
      "+---------------------------------------------------------------------------------------+\n",
      "| NVIDIA-SMI 545.23.08              Driver Version: 545.23.08    CUDA Version: 12.3     |\n",
      "|-----------------------------------------+----------------------+----------------------+\n",
      "| GPU  Name                 Persistence-M | Bus-Id        Disp.A | Volatile Uncorr. ECC |\n",
      "| Fan  Temp   Perf          Pwr:Usage/Cap |         Memory-Usage | GPU-Util  Compute M. |\n",
      "|                                         |                      |               MIG M. |\n",
      "|=========================================+======================+======================|\n",
      "|   0  NVIDIA A10                     On  | 00000000:81:00.0 Off |                    0 |\n",
      "|  0%   36C    P0              62W / 150W |  17624MiB / 23028MiB |      8%      Default |\n",
      "|                                         |                      |                  N/A |\n",
      "+-----------------------------------------+----------------------+----------------------+\n",
      "                                                                                         \n",
      "+---------------------------------------------------------------------------------------+\n",
      "| Processes:                                                                            |\n",
      "|  GPU   GI   CI        PID   Type   Process name                            GPU Memory |\n",
      "|        ID   ID                                                             Usage      |\n",
      "|=======================================================================================|\n",
      "|    0   N/A  N/A     21221      C   python                                    17612MiB |\n",
      "+---------------------------------------------------------------------------------------+\n"
     ]
    }
   ],
   "source": [
    "!nvidia-smi"
   ]
  },
  {
   "cell_type": "code",
   "execution_count": 21,
   "id": "27ae7c39",
   "metadata": {},
   "outputs": [
    {
     "name": "stdout",
     "output_type": "stream",
     "text": [
      "Top record from predictions.csv:\n",
      "       filename  10370003_label  111975006_label  164889003_label  \\\n",
      "0    E03065.mat               1                0                1   \n",
      "1    E03604.mat               1                0                1   \n",
      "2   HR15478.mat               1                0                1   \n",
      "3     A3309.mat               1                0                1   \n",
      "4     A2844.mat               1                0                1   \n",
      "5    E08660.mat               1                0                1   \n",
      "6   HR13646.mat               1                0                1   \n",
      "7   HR13474.mat               1                0                1   \n",
      "8     Q0903.mat               1                0                1   \n",
      "9     Q2567.mat               1                0                1   \n",
      "10    A2606.mat               1                0                1   \n",
      "11    A3498.mat               1                0                1   \n",
      "12   E07597.mat               1                0                1   \n",
      "13  HR07524.mat               1                0                1   \n",
      "14    A6850.mat               1                0                1   \n",
      "15  HR09036.mat               1                0                1   \n",
      "16   E03086.mat               1                0                1   \n",
      "17  HR15004.mat               1                0                1   \n",
      "18  HR21689.mat               1                0                1   \n",
      "19   E08166.mat               1                0                1   \n",
      "\n",
      "    164890007_label  164909002_label  164917005_label  164934002_label  \\\n",
      "0                 1                0                0                1   \n",
      "1                 1                0                0                1   \n",
      "2                 1                1                0                1   \n",
      "3                 1                0                0                1   \n",
      "4                 1                0                0                1   \n",
      "5                 1                0                0                1   \n",
      "6                 1                0                0                1   \n",
      "7                 1                0                0                1   \n",
      "8                 1                0                0                1   \n",
      "9                 1                0                0                1   \n",
      "10                1                0                0                1   \n",
      "11                1                0                0                1   \n",
      "12                1                0                0                1   \n",
      "13                1                0                0                1   \n",
      "14                1                0                0                1   \n",
      "15                1                0                0                1   \n",
      "16                1                0                0                1   \n",
      "17                1                0                0                1   \n",
      "18                1                0                0                1   \n",
      "19                1                0                0                1   \n",
      "\n",
      "    164947007_label  251146004_label  ...  426783006_score  427084000_score  \\\n",
      "0                 0                1  ...              1.0              1.0   \n",
      "1                 0                0  ...              1.0              1.0   \n",
      "2                 0                1  ...              1.0              1.0   \n",
      "3                 0                0  ...              1.0              1.0   \n",
      "4                 0                1  ...              1.0              1.0   \n",
      "5                 0                1  ...              1.0              1.0   \n",
      "6                 0                0  ...              1.0              1.0   \n",
      "7                 0                1  ...              1.0              1.0   \n",
      "8                 0                1  ...              1.0              1.0   \n",
      "9                 0                1  ...              1.0              1.0   \n",
      "10                0                1  ...              1.0              1.0   \n",
      "11                0                1  ...              1.0              1.0   \n",
      "12                0                1  ...              1.0              1.0   \n",
      "13                0                1  ...              1.0              1.0   \n",
      "14                0                1  ...              1.0              1.0   \n",
      "15                0                0  ...              1.0              1.0   \n",
      "16                0                1  ...              1.0              1.0   \n",
      "17                0                0  ...              1.0              1.0   \n",
      "18                0                1  ...              1.0              1.0   \n",
      "19                0                1  ...              1.0              1.0   \n",
      "\n",
      "    427172004_score  427393009_score  445118002_score  47665007_score  \\\n",
      "0               0.0              1.0              0.0             1.0   \n",
      "1               0.0              1.0              0.0             0.0   \n",
      "2               0.0              1.0              0.0             1.0   \n",
      "3               0.0              1.0              0.0             1.0   \n",
      "4               0.0              1.0              0.0             1.0   \n",
      "5               0.0              1.0              0.0             1.0   \n",
      "6               0.0              1.0              0.0             1.0   \n",
      "7               0.0              1.0              0.0             0.0   \n",
      "8               0.0              1.0              0.0             1.0   \n",
      "9               0.0              1.0              0.0             1.0   \n",
      "10              0.0              1.0              0.0             1.0   \n",
      "11              0.0              1.0              0.0             1.0   \n",
      "12              0.0              1.0              0.0             1.0   \n",
      "13              0.0              1.0              0.0             1.0   \n",
      "14              0.0              1.0              0.0             1.0   \n",
      "15              0.0              1.0              0.0             1.0   \n",
      "16              0.0              1.0              0.0             1.0   \n",
      "17              0.0              1.0              0.0             0.0   \n",
      "18              0.0              1.0              0.0             1.0   \n",
      "19              0.0              1.0              0.0             1.0   \n",
      "\n",
      "    59931005_score  698252002_score  713426002_score  713427006_score  \n",
      "0     0.000000e+00     1.000000e+00              0.0     1.000000e+00  \n",
      "1     1.000000e+00     1.000000e+00              0.0     1.000000e+00  \n",
      "2     0.000000e+00     1.000000e+00              0.0     1.000000e+00  \n",
      "3     0.000000e+00     5.000000e-01              0.0     1.000000e+00  \n",
      "4     1.000000e+00     1.000000e+00              0.0     1.000000e+00  \n",
      "5     0.000000e+00     1.000000e+00              0.0     1.000000e+00  \n",
      "6     0.000000e+00     1.000000e+00              0.0     1.000000e+00  \n",
      "7     0.000000e+00     1.000000e+00              0.0     0.000000e+00  \n",
      "8     0.000000e+00     1.000000e+00              0.0     1.000000e+00  \n",
      "9     0.000000e+00     5.000000e-01              0.0     1.000000e+00  \n",
      "10    0.000000e+00     1.000000e+00              0.0     1.000000e+00  \n",
      "11    5.740646e-34     2.096321e-09              0.0     1.000000e+00  \n",
      "12    1.000000e+00     1.000000e+00              0.0     0.000000e+00  \n",
      "13    1.184940e-17     1.000000e+00              0.0     2.248694e-13  \n",
      "14    0.000000e+00     8.000000e-01              0.0     8.000000e-01  \n",
      "15    0.000000e+00     1.000000e+00              0.0     1.000000e+00  \n",
      "16    0.000000e+00     1.000000e+00              0.0     1.000000e+00  \n",
      "17    1.000000e+00     0.000000e+00              0.0     3.271038e-05  \n",
      "18    0.000000e+00     1.000000e+00              0.0     1.000000e+00  \n",
      "19    0.000000e+00     1.000000e+00              0.0     1.000000e+00  \n",
      "\n",
      "[20 rows x 49 columns]\n"
     ]
    }
   ],
   "source": [
    "import pandas as pd\n",
    "# Get top record from predictions.csv\n",
    "top_record = pd.read_csv('predictions.csv', header=0, nrows=20)\n",
    "print(\"Top record from predictions.csv:\")\n",
    "print(top_record)"
   ]
  },
  {
   "cell_type": "code",
   "execution_count": 63,
   "id": "210905d7",
   "metadata": {},
   "outputs": [],
   "source": [
    "from collections import defaultdict\n",
    "record_dict = defaultdict(dict)\n",
    "record_dict1 = defaultdict(lambda:defaultdict(dict))"
   ]
  },
  {
   "cell_type": "code",
   "execution_count": 64,
   "id": "2df9f9ac",
   "metadata": {},
   "outputs": [
    {
     "data": {
      "text/plain": [
       "defaultdict(<function __main__.<lambda>()>,\n",
       "            {'E03065.mat': defaultdict(dict,\n",
       "                         {'10370003': {'label': 1, 'score': 1.0},\n",
       "                          '111975006': {'label': 0, 'score': 0.0},\n",
       "                          '164889003': {'label': 1, 'score': 1.0},\n",
       "                          '164890007': {'label': 1, 'score': 1.0},\n",
       "                          '164909002': {'label': 0, 'score': 0.0},\n",
       "                          '164917005': {'label': 0, 'score': 0.0},\n",
       "                          '164934002': {'label': 1, 'score': 1.0},\n",
       "                          '164947007': {'label': 0, 'score': 0.0},\n",
       "                          '251146004': {'label': 1, 'score': 1.0},\n",
       "                          '270492004': {'label': 0, 'score': 2.5726672e-36},\n",
       "                          '284470004': {'label': 1, 'score': 1.0},\n",
       "                          '39732003': {'label': 0, 'score': 1.9047508e-24},\n",
       "                          '426177001': {'label': 1, 'score': 1.0},\n",
       "                          '426627000': {'label': 0, 'score': 0.0},\n",
       "                          '426783006': {'label': 1, 'score': 1.0},\n",
       "                          '427084000': {'label': 1, 'score': 1.0},\n",
       "                          '427172004': {'label': 0, 'score': 0.0},\n",
       "                          '427393009': {'label': 1, 'score': 1.0},\n",
       "                          '445118002': {'label': 0, 'score': 0.0},\n",
       "                          '47665007': {'label': 1, 'score': 1.0},\n",
       "                          '59931005': {'label': 0, 'score': 0.0},\n",
       "                          '698252002': {'label': 1, 'score': 1.0},\n",
       "                          '713426002': {'label': 0, 'score': 0.0},\n",
       "                          '713427006': {'label': 1, 'score': 1.0}}),\n",
       "             'E03604.mat': defaultdict(dict,\n",
       "                         {'10370003': {'label': 1, 'score': 1.0},\n",
       "                          '111975006': {'label': 0, 'score': 0.0},\n",
       "                          '164889003': {'label': 1, 'score': 1.0},\n",
       "                          '164890007': {'label': 1, 'score': 1.0},\n",
       "                          '164909002': {'label': 0, 'score': 0.0},\n",
       "                          '164917005': {'label': 0, 'score': 3.3284255e-15},\n",
       "                          '164934002': {'label': 1, 'score': 1.0},\n",
       "                          '164947007': {'label': 0, 'score': 0.0},\n",
       "                          '251146004': {'label': 0, 'score': 0.0},\n",
       "                          '270492004': {'label': 1, 'score': 1.0},\n",
       "                          '284470004': {'label': 1, 'score': 1.0},\n",
       "                          '39732003': {'label': 0, 'score': 0.0},\n",
       "                          '426177001': {'label': 1, 'score': 1.0},\n",
       "                          '426627000': {'label': 1, 'score': 1.0},\n",
       "                          '426783006': {'label': 1, 'score': 1.0},\n",
       "                          '427084000': {'label': 1, 'score': 1.0},\n",
       "                          '427172004': {'label': 0, 'score': 0.0},\n",
       "                          '427393009': {'label': 1, 'score': 1.0},\n",
       "                          '445118002': {'label': 0, 'score': 0.0},\n",
       "                          '47665007': {'label': 0, 'score': 0.0},\n",
       "                          '59931005': {'label': 1, 'score': 1.0},\n",
       "                          '698252002': {'label': 1, 'score': 1.0},\n",
       "                          '713426002': {'label': 0, 'score': 0.0},\n",
       "                          '713427006': {'label': 1, 'score': 1.0}}),\n",
       "             'HR15478.mat': defaultdict(dict,\n",
       "                         {'10370003': {'label': 1, 'score': 1.0},\n",
       "                          '111975006': {'label': 0, 'score': 0.0},\n",
       "                          '164889003': {'label': 1, 'score': 1.0},\n",
       "                          '164890007': {'label': 1, 'score': 1.0},\n",
       "                          '164909002': {'label': 1, 'score': 1.0},\n",
       "                          '164917005': {'label': 0, 'score': 0.0},\n",
       "                          '164934002': {'label': 1, 'score': 1.0},\n",
       "                          '164947007': {'label': 0, 'score': 0.0},\n",
       "                          '251146004': {'label': 1, 'score': 1.0},\n",
       "                          '270492004': {'label': 1, 'score': 1.0},\n",
       "                          '284470004': {'label': 1, 'score': 1.0},\n",
       "                          '39732003': {'label': 1, 'score': 1.0},\n",
       "                          '426177001': {'label': 1, 'score': 1.0},\n",
       "                          '426627000': {'label': 0, 'score': 0.0},\n",
       "                          '426783006': {'label': 1, 'score': 1.0},\n",
       "                          '427084000': {'label': 1, 'score': 1.0},\n",
       "                          '427172004': {'label': 0, 'score': 0.0},\n",
       "                          '427393009': {'label': 1, 'score': 1.0},\n",
       "                          '445118002': {'label': 0, 'score': 0.0},\n",
       "                          '47665007': {'label': 1, 'score': 1.0},\n",
       "                          '59931005': {'label': 0, 'score': 0.0},\n",
       "                          '698252002': {'label': 1, 'score': 1.0},\n",
       "                          '713426002': {'label': 0, 'score': 0.0},\n",
       "                          '713427006': {'label': 1, 'score': 1.0}}),\n",
       "             'A3309.mat': defaultdict(dict,\n",
       "                         {'10370003': {'label': 1, 'score': 1.0},\n",
       "                          '111975006': {'label': 0, 'score': 0.0},\n",
       "                          '164889003': {'label': 1, 'score': 1.0},\n",
       "                          '164890007': {'label': 1, 'score': 1.0},\n",
       "                          '164909002': {'label': 0, 'score': 0.0},\n",
       "                          '164917005': {'label': 0, 'score': 0.0},\n",
       "                          '164934002': {'label': 1, 'score': 1.0},\n",
       "                          '164947007': {'label': 0, 'score': 0.0},\n",
       "                          '251146004': {'label': 0, 'score': 0.0},\n",
       "                          '270492004': {'label': 0, 'score': 0.0},\n",
       "                          '284470004': {'label': 1, 'score': 1.0},\n",
       "                          '39732003': {'label': 1, 'score': 0.5},\n",
       "                          '426177001': {'label': 1, 'score': 0.5},\n",
       "                          '426627000': {'label': 0, 'score': 0.0},\n",
       "                          '426783006': {'label': 1, 'score': 1.0},\n",
       "                          '427084000': {'label': 1, 'score': 1.0},\n",
       "                          '427172004': {'label': 0, 'score': 0.0},\n",
       "                          '427393009': {'label': 1, 'score': 1.0},\n",
       "                          '445118002': {'label': 0, 'score': 0.0},\n",
       "                          '47665007': {'label': 1, 'score': 1.0},\n",
       "                          '59931005': {'label': 0, 'score': 0.0},\n",
       "                          '698252002': {'label': 1, 'score': 0.5},\n",
       "                          '713426002': {'label': 0, 'score': 0.0},\n",
       "                          '713427006': {'label': 1, 'score': 1.0}}),\n",
       "             'A2844.mat': defaultdict(dict,\n",
       "                         {'10370003': {'label': 1, 'score': 1.0},\n",
       "                          '111975006': {'label': 0, 'score': 0.0},\n",
       "                          '164889003': {'label': 1, 'score': 1.0},\n",
       "                          '164890007': {'label': 1, 'score': 1.0},\n",
       "                          '164909002': {'label': 0, 'score': 0.0},\n",
       "                          '164917005': {'label': 0, 'score': 0.0},\n",
       "                          '164934002': {'label': 1, 'score': 1.0},\n",
       "                          '164947007': {'label': 0, 'score': 0.0},\n",
       "                          '251146004': {'label': 1, 'score': 1.0},\n",
       "                          '270492004': {'label': 0, 'score': 0.0},\n",
       "                          '284470004': {'label': 1, 'score': 1.0},\n",
       "                          '39732003': {'label': 1, 'score': 1.0},\n",
       "                          '426177001': {'label': 1, 'score': 1.0},\n",
       "                          '426627000': {'label': 0, 'score': 0.0},\n",
       "                          '426783006': {'label': 1, 'score': 1.0},\n",
       "                          '427084000': {'label': 1, 'score': 1.0},\n",
       "                          '427172004': {'label': 0, 'score': 0.0},\n",
       "                          '427393009': {'label': 1, 'score': 1.0},\n",
       "                          '445118002': {'label': 0, 'score': 0.0},\n",
       "                          '47665007': {'label': 1, 'score': 1.0},\n",
       "                          '59931005': {'label': 1, 'score': 1.0},\n",
       "                          '698252002': {'label': 1, 'score': 1.0},\n",
       "                          '713426002': {'label': 0, 'score': 0.0},\n",
       "                          '713427006': {'label': 1, 'score': 1.0}}),\n",
       "             'E08660.mat': defaultdict(dict,\n",
       "                         {'10370003': {'label': 1, 'score': 1.0},\n",
       "                          '111975006': {'label': 0, 'score': 0.0},\n",
       "                          '164889003': {'label': 1, 'score': 1.0},\n",
       "                          '164890007': {'label': 1, 'score': 1.0},\n",
       "                          '164909002': {'label': 0, 'score': 0.0},\n",
       "                          '164917005': {'label': 0, 'score': 0.0},\n",
       "                          '164934002': {'label': 1, 'score': 1.0},\n",
       "                          '164947007': {'label': 0, 'score': 0.0},\n",
       "                          '251146004': {'label': 1, 'score': 1.0},\n",
       "                          '270492004': {'label': 1, 'score': 1.0},\n",
       "                          '284470004': {'label': 1, 'score': 1.0},\n",
       "                          '39732003': {'label': 1, 'score': 1.0},\n",
       "                          '426177001': {'label': 1, 'score': 1.0},\n",
       "                          '426627000': {'label': 0, 'score': 0.0},\n",
       "                          '426783006': {'label': 1, 'score': 1.0},\n",
       "                          '427084000': {'label': 1, 'score': 1.0},\n",
       "                          '427172004': {'label': 0, 'score': 0.0},\n",
       "                          '427393009': {'label': 1, 'score': 1.0},\n",
       "                          '445118002': {'label': 0, 'score': 0.0},\n",
       "                          '47665007': {'label': 1, 'score': 1.0},\n",
       "                          '59931005': {'label': 0, 'score': 0.0},\n",
       "                          '698252002': {'label': 1, 'score': 1.0},\n",
       "                          '713426002': {'label': 0, 'score': 0.0},\n",
       "                          '713427006': {'label': 1, 'score': 1.0}}),\n",
       "             'HR13646.mat': defaultdict(dict,\n",
       "                         {'10370003': {'label': 1, 'score': 1.0},\n",
       "                          '111975006': {'label': 0, 'score': 0.0},\n",
       "                          '164889003': {'label': 1, 'score': 1.0},\n",
       "                          '164890007': {'label': 1, 'score': 1.0},\n",
       "                          '164909002': {'label': 0, 'score': 0.0},\n",
       "                          '164917005': {'label': 0, 'score': 0.0},\n",
       "                          '164934002': {'label': 1, 'score': 1.0},\n",
       "                          '164947007': {'label': 0, 'score': 0.0},\n",
       "                          '251146004': {'label': 0, 'score': 1.1757149e-38},\n",
       "                          '270492004': {'label': 0, 'score': 0.0},\n",
       "                          '284470004': {'label': 0, 'score': 0.0},\n",
       "                          '39732003': {'label': 1, 'score': 1.0},\n",
       "                          '426177001': {'label': 1, 'score': 1.0},\n",
       "                          '426627000': {'label': 0, 'score': 0.0},\n",
       "                          '426783006': {'label': 1, 'score': 1.0},\n",
       "                          '427084000': {'label': 1, 'score': 1.0},\n",
       "                          '427172004': {'label': 0, 'score': 0.0},\n",
       "                          '427393009': {'label': 1, 'score': 1.0},\n",
       "                          '445118002': {'label': 0, 'score': 0.0},\n",
       "                          '47665007': {'label': 1, 'score': 1.0},\n",
       "                          '59931005': {'label': 0, 'score': 0.0},\n",
       "                          '698252002': {'label': 1, 'score': 1.0},\n",
       "                          '713426002': {'label': 0, 'score': 0.0},\n",
       "                          '713427006': {'label': 1, 'score': 1.0}}),\n",
       "             'HR13474.mat': defaultdict(dict,\n",
       "                         {'10370003': {'label': 1, 'score': 1.0},\n",
       "                          '111975006': {'label': 0, 'score': 0.0},\n",
       "                          '164889003': {'label': 1, 'score': 1.0},\n",
       "                          '164890007': {'label': 1, 'score': 1.0},\n",
       "                          '164909002': {'label': 0, 'score': 0.0},\n",
       "                          '164917005': {'label': 0, 'score': 0.0},\n",
       "                          '164934002': {'label': 1, 'score': 1.0},\n",
       "                          '164947007': {'label': 0, 'score': 0.0},\n",
       "                          '251146004': {'label': 1, 'score': 1.0},\n",
       "                          '270492004': {'label': 1, 'score': 1.0},\n",
       "                          '284470004': {'label': 0, 'score': 0.0},\n",
       "                          '39732003': {'label': 1, 'score': 0.99999964},\n",
       "                          '426177001': {'label': 1, 'score': 1.0},\n",
       "                          '426627000': {'label': 0, 'score': 0.0},\n",
       "                          '426783006': {'label': 1, 'score': 1.0},\n",
       "                          '427084000': {'label': 1, 'score': 1.0},\n",
       "                          '427172004': {'label': 0, 'score': 0.0},\n",
       "                          '427393009': {'label': 1, 'score': 1.0},\n",
       "                          '445118002': {'label': 0, 'score': 0.0},\n",
       "                          '47665007': {'label': 0, 'score': 0.0},\n",
       "                          '59931005': {'label': 0, 'score': 0.0},\n",
       "                          '698252002': {'label': 1, 'score': 1.0},\n",
       "                          '713426002': {'label': 0, 'score': 0.0},\n",
       "                          '713427006': {'label': 0, 'score': 0.0}}),\n",
       "             'Q0903.mat': defaultdict(dict,\n",
       "                         {'10370003': {'label': 1, 'score': 1.0},\n",
       "                          '111975006': {'label': 0, 'score': 0.0},\n",
       "                          '164889003': {'label': 1, 'score': 1.0},\n",
       "                          '164890007': {'label': 1, 'score': 1.0},\n",
       "                          '164909002': {'label': 0, 'score': 0.0},\n",
       "                          '164917005': {'label': 0, 'score': 0.0},\n",
       "                          '164934002': {'label': 1, 'score': 1.0},\n",
       "                          '164947007': {'label': 0, 'score': 0.0},\n",
       "                          '251146004': {'label': 1, 'score': 1.0},\n",
       "                          '270492004': {'label': 0, 'score': 0.0},\n",
       "                          '284470004': {'label': 1, 'score': 1.0},\n",
       "                          '39732003': {'label': 1, 'score': 1.0},\n",
       "                          '426177001': {'label': 1, 'score': 1.0},\n",
       "                          '426627000': {'label': 0, 'score': 0.0},\n",
       "                          '426783006': {'label': 1, 'score': 1.0},\n",
       "                          '427084000': {'label': 1, 'score': 1.0},\n",
       "                          '427172004': {'label': 0, 'score': 0.0},\n",
       "                          '427393009': {'label': 1, 'score': 1.0},\n",
       "                          '445118002': {'label': 0, 'score': 0.0},\n",
       "                          '47665007': {'label': 1, 'score': 1.0},\n",
       "                          '59931005': {'label': 0, 'score': 0.0},\n",
       "                          '698252002': {'label': 1, 'score': 1.0},\n",
       "                          '713426002': {'label': 0, 'score': 0.0},\n",
       "                          '713427006': {'label': 1, 'score': 1.0}}),\n",
       "             'Q2567.mat': defaultdict(dict,\n",
       "                         {'10370003': {'label': 1, 'score': 1.0},\n",
       "                          '111975006': {'label': 0, 'score': 0.0},\n",
       "                          '164889003': {'label': 1, 'score': 1.0},\n",
       "                          '164890007': {'label': 1, 'score': 1.0},\n",
       "                          '164909002': {'label': 0, 'score': 0.0},\n",
       "                          '164917005': {'label': 0, 'score': 0.0},\n",
       "                          '164934002': {'label': 1, 'score': 1.0},\n",
       "                          '164947007': {'label': 0, 'score': 0.0},\n",
       "                          '251146004': {'label': 1, 'score': 1.0},\n",
       "                          '270492004': {'label': 1, 'score': 1.0},\n",
       "                          '284470004': {'label': 1, 'score': 1.0},\n",
       "                          '39732003': {'label': 1, 'score': 1.0},\n",
       "                          '426177001': {'label': 1, 'score': 0.5000002},\n",
       "                          '426627000': {'label': 1, 'score': 0.5},\n",
       "                          '426783006': {'label': 1, 'score': 1.0},\n",
       "                          '427084000': {'label': 1, 'score': 1.0},\n",
       "                          '427172004': {'label': 0, 'score': 0.0},\n",
       "                          '427393009': {'label': 1, 'score': 1.0},\n",
       "                          '445118002': {'label': 0, 'score': 0.0},\n",
       "                          '47665007': {'label': 1, 'score': 1.0},\n",
       "                          '59931005': {'label': 0, 'score': 0.0},\n",
       "                          '698252002': {'label': 1, 'score': 0.5},\n",
       "                          '713426002': {'label': 0, 'score': 0.0},\n",
       "                          '713427006': {'label': 1, 'score': 1.0}}),\n",
       "             'A2606.mat': defaultdict(dict,\n",
       "                         {'10370003': {'label': 1, 'score': 1.0},\n",
       "                          '111975006': {'label': 0, 'score': 0.0},\n",
       "                          '164889003': {'label': 1, 'score': 1.0},\n",
       "                          '164890007': {'label': 1, 'score': 1.0},\n",
       "                          '164909002': {'label': 0, 'score': 0.0},\n",
       "                          '164917005': {'label': 0, 'score': 0.0},\n",
       "                          '164934002': {'label': 1, 'score': 1.0},\n",
       "                          '164947007': {'label': 0, 'score': 0.0},\n",
       "                          '251146004': {'label': 1, 'score': 1.0},\n",
       "                          '270492004': {'label': 0, 'score': 0.0},\n",
       "                          '284470004': {'label': 1, 'score': 1.0},\n",
       "                          '39732003': {'label': 1, 'score': 1.0},\n",
       "                          '426177001': {'label': 1, 'score': 1.0},\n",
       "                          '426627000': {'label': 0, 'score': 0.0},\n",
       "                          '426783006': {'label': 1, 'score': 1.0},\n",
       "                          '427084000': {'label': 1, 'score': 1.0},\n",
       "                          '427172004': {'label': 0, 'score': 0.0},\n",
       "                          '427393009': {'label': 1, 'score': 1.0},\n",
       "                          '445118002': {'label': 0, 'score': 0.0},\n",
       "                          '47665007': {'label': 1, 'score': 1.0},\n",
       "                          '59931005': {'label': 0, 'score': 0.0},\n",
       "                          '698252002': {'label': 1, 'score': 1.0},\n",
       "                          '713426002': {'label': 0, 'score': 0.0},\n",
       "                          '713427006': {'label': 1, 'score': 1.0}}),\n",
       "             'A3498.mat': defaultdict(dict,\n",
       "                         {'10370003': {'label': 1, 'score': 1.0},\n",
       "                          '111975006': {'label': 0, 'score': 0.0},\n",
       "                          '164889003': {'label': 1, 'score': 1.0},\n",
       "                          '164890007': {'label': 1, 'score': 1.0},\n",
       "                          '164909002': {'label': 0, 'score': 0.0},\n",
       "                          '164917005': {'label': 0, 'score': 0.0},\n",
       "                          '164934002': {'label': 1, 'score': 1.0},\n",
       "                          '164947007': {'label': 0, 'score': 0.0},\n",
       "                          '251146004': {'label': 1, 'score': 1.0},\n",
       "                          '270492004': {'label': 1, 'score': 1.0},\n",
       "                          '284470004': {'label': 0, 'score': 0.0},\n",
       "                          '39732003': {'label': 1, 'score': 1.0},\n",
       "                          '426177001': {'label': 1, 'score': 1.0},\n",
       "                          '426627000': {'label': 0, 'score': 0.0},\n",
       "                          '426783006': {'label': 1, 'score': 1.0},\n",
       "                          '427084000': {'label': 1, 'score': 1.0},\n",
       "                          '427172004': {'label': 0, 'score': 0.0},\n",
       "                          '427393009': {'label': 1, 'score': 1.0},\n",
       "                          '445118002': {'label': 0, 'score': 0.0},\n",
       "                          '47665007': {'label': 1, 'score': 1.0},\n",
       "                          '59931005': {'label': 0, 'score': 5.740646e-34},\n",
       "                          '698252002': {'label': 0, 'score': 2.0963213e-09},\n",
       "                          '713426002': {'label': 0, 'score': 0.0},\n",
       "                          '713427006': {'label': 1, 'score': 1.0}}),\n",
       "             'E07597.mat': defaultdict(dict,\n",
       "                         {'10370003': {'label': 1, 'score': 1.0},\n",
       "                          '111975006': {'label': 0, 'score': 0.0},\n",
       "                          '164889003': {'label': 1, 'score': 1.0},\n",
       "                          '164890007': {'label': 1, 'score': 1.0},\n",
       "                          '164909002': {'label': 0, 'score': 0.0},\n",
       "                          '164917005': {'label': 0, 'score': 0.0},\n",
       "                          '164934002': {'label': 1, 'score': 1.0},\n",
       "                          '164947007': {'label': 0, 'score': 0.0},\n",
       "                          '251146004': {'label': 1, 'score': 1.0},\n",
       "                          '270492004': {'label': 1, 'score': 1.0},\n",
       "                          '284470004': {'label': 0, 'score': 2.0233874e-15},\n",
       "                          '39732003': {'label': 1, 'score': 1.0},\n",
       "                          '426177001': {'label': 1, 'score': 1.0},\n",
       "                          '426627000': {'label': 0, 'score': 0.0},\n",
       "                          '426783006': {'label': 1, 'score': 1.0},\n",
       "                          '427084000': {'label': 1, 'score': 1.0},\n",
       "                          '427172004': {'label': 0, 'score': 0.0},\n",
       "                          '427393009': {'label': 1, 'score': 1.0},\n",
       "                          '445118002': {'label': 0, 'score': 0.0},\n",
       "                          '47665007': {'label': 1, 'score': 1.0},\n",
       "                          '59931005': {'label': 1, 'score': 1.0},\n",
       "                          '698252002': {'label': 1, 'score': 1.0},\n",
       "                          '713426002': {'label': 0, 'score': 0.0},\n",
       "                          '713427006': {'label': 0, 'score': 0.0}}),\n",
       "             'HR07524.mat': defaultdict(dict,\n",
       "                         {'10370003': {'label': 1, 'score': 1.0},\n",
       "                          '111975006': {'label': 0, 'score': 0.0},\n",
       "                          '164889003': {'label': 1, 'score': 1.0},\n",
       "                          '164890007': {'label': 1, 'score': 1.0},\n",
       "                          '164909002': {'label': 0, 'score': 0.0},\n",
       "                          '164917005': {'label': 0, 'score': 0.0},\n",
       "                          '164934002': {'label': 1, 'score': 1.0},\n",
       "                          '164947007': {'label': 0, 'score': 0.0},\n",
       "                          '251146004': {'label': 1, 'score': 1.0},\n",
       "                          '270492004': {'label': 1, 'score': 1.0},\n",
       "                          '284470004': {'label': 1, 'score': 1.0},\n",
       "                          '39732003': {'label': 1, 'score': 1.0},\n",
       "                          '426177001': {'label': 1, 'score': 1.0},\n",
       "                          '426627000': {'label': 0, 'score': 0.0},\n",
       "                          '426783006': {'label': 1, 'score': 1.0},\n",
       "                          '427084000': {'label': 1, 'score': 1.0},\n",
       "                          '427172004': {'label': 0, 'score': 0.0},\n",
       "                          '427393009': {'label': 1, 'score': 1.0},\n",
       "                          '445118002': {'label': 0, 'score': 0.0},\n",
       "                          '47665007': {'label': 1, 'score': 1.0},\n",
       "                          '59931005': {'label': 0, 'score': 1.1849398e-17},\n",
       "                          '698252002': {'label': 1, 'score': 1.0},\n",
       "                          '713426002': {'label': 0, 'score': 0.0},\n",
       "                          '713427006': {'label': 0, 'score': 2.2486939e-13}}),\n",
       "             'A6850.mat': defaultdict(dict,\n",
       "                         {'10370003': {'label': 1, 'score': 1.0},\n",
       "                          '111975006': {'label': 0, 'score': 0.0},\n",
       "                          '164889003': {'label': 1, 'score': 1.0},\n",
       "                          '164890007': {'label': 1, 'score': 1.0},\n",
       "                          '164909002': {'label': 0, 'score': 0.2},\n",
       "                          '164917005': {'label': 0, 'score': 0.0},\n",
       "                          '164934002': {'label': 1, 'score': 1.0},\n",
       "                          '164947007': {'label': 0, 'score': 0.0},\n",
       "                          '251146004': {'label': 1, 'score': 1.0},\n",
       "                          '270492004': {'label': 1, 'score': 0.4},\n",
       "                          '284470004': {'label': 1, 'score': 0.8},\n",
       "                          '39732003': {'label': 1, 'score': 1.0},\n",
       "                          '426177001': {'label': 1, 'score': 1.0},\n",
       "                          '426627000': {'label': 0, 'score': 0.0},\n",
       "                          '426783006': {'label': 1, 'score': 1.0},\n",
       "                          '427084000': {'label': 1, 'score': 1.0},\n",
       "                          '427172004': {'label': 0, 'score': 0.0},\n",
       "                          '427393009': {'label': 1, 'score': 1.0},\n",
       "                          '445118002': {'label': 0, 'score': 0.0},\n",
       "                          '47665007': {'label': 1, 'score': 1.0},\n",
       "                          '59931005': {'label': 0, 'score': 0.0},\n",
       "                          '698252002': {'label': 1, 'score': 0.8},\n",
       "                          '713426002': {'label': 0, 'score': 0.0},\n",
       "                          '713427006': {'label': 1, 'score': 0.8}}),\n",
       "             'HR09036.mat': defaultdict(dict,\n",
       "                         {'10370003': {'label': 1, 'score': 1.0},\n",
       "                          '111975006': {'label': 0, 'score': 0.0},\n",
       "                          '164889003': {'label': 1, 'score': 1.0},\n",
       "                          '164890007': {'label': 1, 'score': 1.0},\n",
       "                          '164909002': {'label': 0, 'score': 0.0},\n",
       "                          '164917005': {'label': 0, 'score': 0.0},\n",
       "                          '164934002': {'label': 1, 'score': 1.0},\n",
       "                          '164947007': {'label': 0, 'score': 0.0},\n",
       "                          '251146004': {'label': 0, 'score': 0.0},\n",
       "                          '270492004': {'label': 0, 'score': 0.0},\n",
       "                          '284470004': {'label': 0, 'score': 0.0},\n",
       "                          '39732003': {'label': 1, 'score': 1.0},\n",
       "                          '426177001': {'label': 1, 'score': 1.0},\n",
       "                          '426627000': {'label': 0, 'score': 0.0},\n",
       "                          '426783006': {'label': 1, 'score': 1.0},\n",
       "                          '427084000': {'label': 1, 'score': 1.0},\n",
       "                          '427172004': {'label': 0, 'score': 0.0},\n",
       "                          '427393009': {'label': 1, 'score': 1.0},\n",
       "                          '445118002': {'label': 0, 'score': 0.0},\n",
       "                          '47665007': {'label': 1, 'score': 1.0},\n",
       "                          '59931005': {'label': 0, 'score': 0.0},\n",
       "                          '698252002': {'label': 1, 'score': 1.0},\n",
       "                          '713426002': {'label': 0, 'score': 0.0},\n",
       "                          '713427006': {'label': 1, 'score': 1.0}}),\n",
       "             'E03086.mat': defaultdict(dict,\n",
       "                         {'10370003': {'label': 1, 'score': 1.0},\n",
       "                          '111975006': {'label': 0, 'score': 0.0},\n",
       "                          '164889003': {'label': 1, 'score': 1.0},\n",
       "                          '164890007': {'label': 1, 'score': 1.0},\n",
       "                          '164909002': {'label': 0, 'score': 0.0},\n",
       "                          '164917005': {'label': 0, 'score': 0.0},\n",
       "                          '164934002': {'label': 1, 'score': 1.0},\n",
       "                          '164947007': {'label': 0, 'score': 0.0},\n",
       "                          '251146004': {'label': 1, 'score': 1.0},\n",
       "                          '270492004': {'label': 0, 'score': 0.0},\n",
       "                          '284470004': {'label': 0, 'score': 0.0},\n",
       "                          '39732003': {'label': 1, 'score': 1.0},\n",
       "                          '426177001': {'label': 1, 'score': 1.0},\n",
       "                          '426627000': {'label': 0, 'score': 0.0},\n",
       "                          '426783006': {'label': 1, 'score': 1.0},\n",
       "                          '427084000': {'label': 1, 'score': 1.0},\n",
       "                          '427172004': {'label': 0, 'score': 0.0},\n",
       "                          '427393009': {'label': 1, 'score': 1.0},\n",
       "                          '445118002': {'label': 0, 'score': 0.0},\n",
       "                          '47665007': {'label': 1, 'score': 1.0},\n",
       "                          '59931005': {'label': 0, 'score': 0.0},\n",
       "                          '698252002': {'label': 1, 'score': 1.0},\n",
       "                          '713426002': {'label': 0, 'score': 0.0},\n",
       "                          '713427006': {'label': 1, 'score': 1.0}}),\n",
       "             'HR15004.mat': defaultdict(dict,\n",
       "                         {'10370003': {'label': 1, 'score': 1.0},\n",
       "                          '111975006': {'label': 0, 'score': 0.0},\n",
       "                          '164889003': {'label': 1, 'score': 1.0},\n",
       "                          '164890007': {'label': 1, 'score': 1.0},\n",
       "                          '164909002': {'label': 0, 'score': 0.0},\n",
       "                          '164917005': {'label': 0, 'score': 0.0},\n",
       "                          '164934002': {'label': 1, 'score': 1.0},\n",
       "                          '164947007': {'label': 0, 'score': 0.0},\n",
       "                          '251146004': {'label': 0, 'score': 0.0},\n",
       "                          '270492004': {'label': 1, 'score': 1.0},\n",
       "                          '284470004': {'label': 1, 'score': 1.0},\n",
       "                          '39732003': {'label': 1, 'score': 1.0},\n",
       "                          '426177001': {'label': 1, 'score': 1.0},\n",
       "                          '426627000': {'label': 1, 'score': 1.0},\n",
       "                          '426783006': {'label': 1, 'score': 1.0},\n",
       "                          '427084000': {'label': 1, 'score': 1.0},\n",
       "                          '427172004': {'label': 0, 'score': 0.0},\n",
       "                          '427393009': {'label': 1, 'score': 1.0},\n",
       "                          '445118002': {'label': 0, 'score': 0.0},\n",
       "                          '47665007': {'label': 0, 'score': 0.0},\n",
       "                          '59931005': {'label': 1, 'score': 1.0},\n",
       "                          '698252002': {'label': 0, 'score': 0.0},\n",
       "                          '713426002': {'label': 0, 'score': 0.0},\n",
       "                          '713427006': {'label': 0, 'score': 3.2710377e-05}}),\n",
       "             'HR21689.mat': defaultdict(dict,\n",
       "                         {'10370003': {'label': 1, 'score': 1.0},\n",
       "                          '111975006': {'label': 0, 'score': 0.0},\n",
       "                          '164889003': {'label': 1, 'score': 1.0},\n",
       "                          '164890007': {'label': 1, 'score': 1.0},\n",
       "                          '164909002': {'label': 0, 'score': 0.0},\n",
       "                          '164917005': {'label': 0, 'score': 0.0},\n",
       "                          '164934002': {'label': 1, 'score': 1.0},\n",
       "                          '164947007': {'label': 0, 'score': 0.0},\n",
       "                          '251146004': {'label': 1, 'score': 1.0},\n",
       "                          '270492004': {'label': 0, 'score': 0.0},\n",
       "                          '284470004': {'label': 0, 'score': 0.0},\n",
       "                          '39732003': {'label': 1, 'score': 1.0},\n",
       "                          '426177001': {'label': 1, 'score': 1.0},\n",
       "                          '426627000': {'label': 0, 'score': 0.0},\n",
       "                          '426783006': {'label': 1, 'score': 1.0},\n",
       "                          '427084000': {'label': 1, 'score': 1.0},\n",
       "                          '427172004': {'label': 0, 'score': 0.0},\n",
       "                          '427393009': {'label': 1, 'score': 1.0},\n",
       "                          '445118002': {'label': 0, 'score': 0.0},\n",
       "                          '47665007': {'label': 1, 'score': 1.0},\n",
       "                          '59931005': {'label': 0, 'score': 0.0},\n",
       "                          '698252002': {'label': 1, 'score': 1.0},\n",
       "                          '713426002': {'label': 0, 'score': 0.0},\n",
       "                          '713427006': {'label': 1, 'score': 1.0}}),\n",
       "             'E08166.mat': defaultdict(dict,\n",
       "                         {'10370003': {'label': 1, 'score': 1.0},\n",
       "                          '111975006': {'label': 0, 'score': 0.0},\n",
       "                          '164889003': {'label': 1, 'score': 1.0},\n",
       "                          '164890007': {'label': 1, 'score': 1.0},\n",
       "                          '164909002': {'label': 0, 'score': 0.0},\n",
       "                          '164917005': {'label': 0, 'score': 0.0},\n",
       "                          '164934002': {'label': 1, 'score': 1.0},\n",
       "                          '164947007': {'label': 0, 'score': 0.0},\n",
       "                          '251146004': {'label': 1, 'score': 1.0},\n",
       "                          '270492004': {'label': 0, 'score': 0.0},\n",
       "                          '284470004': {'label': 1, 'score': 1.0},\n",
       "                          '39732003': {'label': 1, 'score': 1.0},\n",
       "                          '426177001': {'label': 1, 'score': 1.0},\n",
       "                          '426627000': {'label': 0, 'score': 0.0},\n",
       "                          '426783006': {'label': 1, 'score': 1.0},\n",
       "                          '427084000': {'label': 1, 'score': 1.0},\n",
       "                          '427172004': {'label': 0, 'score': 0.0},\n",
       "                          '427393009': {'label': 1, 'score': 1.0},\n",
       "                          '445118002': {'label': 0, 'score': 0.0},\n",
       "                          '47665007': {'label': 1, 'score': 1.0},\n",
       "                          '59931005': {'label': 0, 'score': 0.0},\n",
       "                          '698252002': {'label': 1, 'score': 1.0},\n",
       "                          '713426002': {'label': 0, 'score': 0.0},\n",
       "                          '713427006': {'label': 1, 'score': 1.0}})})"
      ]
     },
     "execution_count": 64,
     "metadata": {},
     "output_type": "execute_result"
    }
   ],
   "source": [
    "for _, row in top_record.iterrows():\n",
    "    filename = row['filename']\n",
    "    for key, value in row.items():\n",
    "        if key != 'filename':\n",
    "            record_key = key.split('_')\n",
    "            record_dict1[filename][record_key[0]][record_key[1]] = value\n",
    "    # record_dict1[filename] = row\n",
    "\n",
    "record_dict1"
   ]
  },
  {
   "cell_type": "code",
   "execution_count": null,
   "id": "21075d47",
   "metadata": {},
   "outputs": [
    {
     "data": {
      "text/plain": [
       "defaultdict(dict,\n",
       "            {'filename': 'E03065.mat',\n",
       "             '10370003': {'label': 1, 'score': 1.0, 'strength': 1.0},\n",
       "             '111975006': {'label': 0, 'score': 0.0, 'strength': 1.0},\n",
       "             '164889003': {'label': 1, 'score': 1.0, 'strength': 1.0},\n",
       "             '164890007': {'label': 1, 'score': 1.0, 'strength': 1.0},\n",
       "             '164909002': {'label': 0, 'score': 0.0, 'strength': 1.0},\n",
       "             '164917005': {'label': 0, 'score': 0.0, 'strength': 1.0},\n",
       "             '164934002': {'label': 1, 'score': 1.0, 'strength': 1.0},\n",
       "             '164947007': {'label': 0, 'score': 0.0, 'strength': 1.0},\n",
       "             '251146004': {'label': 1, 'score': 1.0, 'strength': 1.0},\n",
       "             '270492004': {'label': 0,\n",
       "              'score': 2.5726672e-36,\n",
       "              'strength': 1.0},\n",
       "             '284470004': {'label': 1, 'score': 1.0, 'strength': 1.0},\n",
       "             '39732003': {'label': 0, 'score': 1.9047508e-24, 'strength': 1.0},\n",
       "             '426177001': {'label': 1,\n",
       "              'score': 1.0,\n",
       "              'strength': 7.999999999890242e-07},\n",
       "             '426627000': {'label': 0, 'score': 0.0, 'strength': 0.0},\n",
       "             '426783006': {'label': 1, 'score': 1.0, 'strength': 1.0},\n",
       "             '427084000': {'label': 1, 'score': 1.0, 'strength': 1.0},\n",
       "             '427172004': {'label': 0, 'score': 0.0, 'strength': 1.0},\n",
       "             '427393009': {'label': 1, 'score': 1.0, 'strength': 1.0},\n",
       "             '445118002': {'label': 0, 'score': 0.0, 'strength': 1.0},\n",
       "             '47665007': {'label': 1, 'score': 1.0, 'strength': 1.0},\n",
       "             '59931005': {'label': 0, 'score': 0.0, 'strength': 1.0},\n",
       "             '698252002': {'label': 1, 'score': 1.0, 'strength': 0.0},\n",
       "             '713426002': {'label': 0, 'score': 0.0, 'strength': 1.0},\n",
       "             '713427006': {'label': 1, 'score': 1.0, 'strength': 1.0}})"
      ]
     },
     "execution_count": 45,
     "metadata": {},
     "output_type": "execute_result"
    }
   ],
   "source": [
    "for key, value in top_record.iloc[0].items():\n",
    "    if key != 'filename':\n",
    "        record_key = key.split('_')\n",
    "        record_dict[record_key[0]][record_key[1]] = value\n",
    "    else:\n",
    "        record_dict[key] = value\n",
    "\n",
    "record_dict"
   ]
  },
  {
   "cell_type": "markdown",
   "id": "ca3e3c8c",
   "metadata": {},
   "source": [
    "Good enough metric"
   ]
  },
  {
   "cell_type": "code",
   "execution_count": 50,
   "id": "2659ea97",
   "metadata": {},
   "outputs": [],
   "source": [
    "from math import log, tanh\n",
    "for key, value in record_dict.items():\n",
    "    if key != 'filename':\n",
    "        try:\n",
    "            label = value.get('label')\n",
    "            score = value.get('score')\n",
    "            score = max(min(score, 1 - 1e-15), 1e-15)\n",
    "            log_odds = log(score / (1 - score))\n",
    "            record_dict[key][\"strength\"] = tanh(log_odds) if label == 1 else tanh(-log_odds)\n",
    "        except KeyError:\n",
    "            print(f\"{key}: {value}\")"
   ]
  },
  {
   "cell_type": "code",
   "execution_count": 51,
   "id": "31cb74b3",
   "metadata": {},
   "outputs": [
    {
     "data": {
      "text/plain": [
       "defaultdict(dict,\n",
       "            {'filename': 'E03065.mat',\n",
       "             '10370003': {'label': 1, 'score': 1.0, 'strength': 1.0},\n",
       "             '111975006': {'label': 0, 'score': 0.0, 'strength': 1.0},\n",
       "             '164889003': {'label': 1, 'score': 1.0, 'strength': 1.0},\n",
       "             '164890007': {'label': 1, 'score': 1.0, 'strength': 1.0},\n",
       "             '164909002': {'label': 0, 'score': 0.0, 'strength': 1.0},\n",
       "             '164917005': {'label': 0, 'score': 0.0, 'strength': 1.0},\n",
       "             '164934002': {'label': 1, 'score': 1.0, 'strength': 1.0},\n",
       "             '164947007': {'label': 0, 'score': 0.0, 'strength': 1.0},\n",
       "             '251146004': {'label': 1, 'score': 1.0, 'strength': 1.0},\n",
       "             '270492004': {'label': 0,\n",
       "              'score': 2.5726672e-36,\n",
       "              'strength': 1.0},\n",
       "             '284470004': {'label': 1, 'score': 1.0, 'strength': 1.0},\n",
       "             '39732003': {'label': 0, 'score': 1.9047508e-24, 'strength': 1.0},\n",
       "             '426177001': {'label': 1, 'score': 1.0, 'strength': 1.0},\n",
       "             '426627000': {'label': 0, 'score': 0.0, 'strength': 1.0},\n",
       "             '426783006': {'label': 1, 'score': 1.0, 'strength': 1.0},\n",
       "             '427084000': {'label': 1, 'score': 1.0, 'strength': 1.0},\n",
       "             '427172004': {'label': 0, 'score': 0.0, 'strength': 1.0},\n",
       "             '427393009': {'label': 1, 'score': 1.0, 'strength': 1.0},\n",
       "             '445118002': {'label': 0, 'score': 0.0, 'strength': 1.0},\n",
       "             '47665007': {'label': 1, 'score': 1.0, 'strength': 1.0},\n",
       "             '59931005': {'label': 0, 'score': 0.0, 'strength': 1.0},\n",
       "             '698252002': {'label': 1, 'score': 1.0, 'strength': 1.0},\n",
       "             '713426002': {'label': 0, 'score': 0.0, 'strength': 1.0},\n",
       "             '713427006': {'label': 1, 'score': 1.0, 'strength': 1.0}})"
      ]
     },
     "execution_count": 51,
     "metadata": {},
     "output_type": "execute_result"
    }
   ],
   "source": [
    "record_dict"
   ]
  },
  {
   "cell_type": "code",
   "execution_count": 36,
   "id": "da174d35",
   "metadata": {},
   "outputs": [],
   "source": [
    "from owlready2 import *\n",
    "from owlready2.pymedtermino2 import *\n",
    "from owlready2.pymedtermino2.umls import *\n",
    "\n",
    "default_world.set_backend(filename=\"pym.sqlite3\")"
   ]
  },
  {
   "cell_type": "code",
   "execution_count": 49,
   "id": "20ca476b",
   "metadata": {},
   "outputs": [
    {
     "name": "stdout",
     "output_type": "stream",
     "text": [
      "Importing UMLS from umls-2024AA-metathesaurus-full.zip with Python version 3.11.7 and Owlready version 2-0.47...\n",
      "  Parsing 2024AA/META/MRRANK.RRF as MRRANK\n",
      "  Parsing 2024AA/META/MRCONSO.RRF as MRCONSO\n",
      "  Parsing 2024AA/META/MRDEF.RRF as MRDEF\n",
      "  Parsing 2024AA/META/MRREL.RRF as MRREL\n",
      "  Parsing 2024AA/META/MRSAT.RRF as MRSAT\n",
      "Breaking ORIG cycles...\n",
      "    SNOMEDCT_US : 0 cycles found: \n",
      "    SRC : 0 cycles found: \n",
      "Finalizing only properties and restrictions...\n",
      "Finalizing CUI - ORIG mapping...\n",
      "FTS Indexing...\n"
     ]
    }
   ],
   "source": [
    "import_umls(\"umls-2024AA-metathesaurus-full.zip\", terminologies=[\"SNOMEDCT_US\"])\n",
    "default_world.save()"
   ]
  },
  {
   "cell_type": "code",
   "execution_count": 50,
   "id": "69221931",
   "metadata": {},
   "outputs": [],
   "source": [
    "PYM = get_ontology(\"http://PYM/\").load()\n",
    "SNOMEDCT = PYM[\"SNOMEDCT_US\"]"
   ]
  },
  {
   "cell_type": "code",
   "execution_count": 51,
   "id": "f21543eb",
   "metadata": {},
   "outputs": [],
   "source": [
    "concept = SNOMEDCT[164917005]"
   ]
  },
  {
   "cell_type": "code",
   "execution_count": 52,
   "id": "1811b64a",
   "metadata": {},
   "outputs": [
    {
     "data": {
      "text/plain": [
       "SNOMEDCT_US[\"164917005\"] # EKG: Q wave abnormal"
      ]
     },
     "execution_count": 52,
     "metadata": {},
     "output_type": "execute_result"
    }
   ],
   "source": [
    "concept"
   ]
  },
  {
   "cell_type": "code",
   "execution_count": 53,
   "id": "46e27a42",
   "metadata": {},
   "outputs": [
    {
     "data": {
      "text/plain": [
       "'164917005'"
      ]
     },
     "execution_count": 53,
     "metadata": {},
     "output_type": "execute_result"
    }
   ],
   "source": [
    "concept.name"
   ]
  },
  {
   "cell_type": "code",
   "execution_count": null,
   "id": "b5e9772b",
   "metadata": {},
   "outputs": [
    {
     "data": {
      "text/plain": [
       "'Q wave abnormal'"
      ]
     },
     "execution_count": 66,
     "metadata": {},
     "output_type": "execute_result"
    }
   ],
   "source": [
    "concept.label.first().split(\":\")[1].strip()"
   ]
  },
  {
   "cell_type": "code",
   "execution_count": 55,
   "id": "2a5ffe30",
   "metadata": {},
   "outputs": [
    {
     "data": {
      "text/plain": [
       "[locstr('ECG: Q wave abnormal', 'en'),\n",
       " locstr('Electrocardiographic Q wave abnormal', 'en'),\n",
       " locstr('Electrocardiographic Q wave abnormal (finding)', 'en')]"
      ]
     },
     "execution_count": 55,
     "metadata": {},
     "output_type": "execute_result"
    }
   ],
   "source": [
    "concept.synonyms"
   ]
  },
  {
   "cell_type": "code",
   "execution_count": 67,
   "id": "ab25677a",
   "metadata": {},
   "outputs": [
    {
     "data": {
      "text/plain": [
       "PYM[\"SNOMEDCT_US\"] # US Edition of SNOMED CT"
      ]
     },
     "execution_count": 67,
     "metadata": {},
     "output_type": "execute_result"
    }
   ],
   "source": [
    "concept.terminology"
   ]
  },
  {
   "cell_type": "code",
   "execution_count": 68,
   "id": "8254b214",
   "metadata": {},
   "outputs": [
    {
     "data": {
      "text/plain": [
       "[SNOMEDCT_US[\"164917005\"] # EKG: Q wave abnormal,\n",
       " SNOMEDCT_US[\"102594003\"] # Electrocardiogram abnormal,\n",
       " SNOMEDCT_US[\"301120008\"] # Electrocardiogram finding,\n",
       " SNOMEDCT_US[\"441742003\"] # Evaluation finding,\n",
       " SNOMEDCT_US[\"127325009\"] # Procedure related finding,\n",
       " SNOMEDCT_US[\"404684003\"] # Clinical finding,\n",
       " SNOMEDCT_US[\"138875005\"] # SNOMED CT Concept,\n",
       " SNOMEDCT_US[\"442618008\"] # Abnormal finding on evaluation procedure,\n",
       " SNOMEDCT_US[\"365412003\"] # Q wave - finding,\n",
       " SNOMEDCT_US[\"365408009\"] # ECG waveform - finding]"
      ]
     },
     "execution_count": 68,
     "metadata": {},
     "output_type": "execute_result"
    }
   ],
   "source": [
    "concept.ancestor_concepts()"
   ]
  },
  {
   "cell_type": "code",
   "execution_count": 69,
   "id": "abeb0e3e",
   "metadata": {},
   "outputs": [
    {
     "data": {
      "text/plain": [
       "[SNOMEDCT_US[\"164917005\"] # EKG: Q wave abnormal\n",
       "]"
      ]
     },
     "execution_count": 69,
     "metadata": {},
     "output_type": "execute_result"
    }
   ],
   "source": [
    "concept.descendant_concepts()"
   ]
  },
  {
   "cell_type": "code",
   "execution_count": 71,
   "id": "2480c2aa",
   "metadata": {},
   "outputs": [
    {
     "data": {
      "text/plain": [
       "['INDIRECT_get_properties',\n",
       " '__children',\n",
       " '__class__',\n",
       " '__classcell__',\n",
       " '__delattr__',\n",
       " '__dict__',\n",
       " '__dir__',\n",
       " '__doc__',\n",
       " '__eq__',\n",
       " '__format__',\n",
       " '__ge__',\n",
       " '__getattr__',\n",
       " '__getattribute__',\n",
       " '__getstate__',\n",
       " '__gt__',\n",
       " '__hash__',\n",
       " '__init__',\n",
       " '__init_subclass__',\n",
       " '__label',\n",
       " '__le__',\n",
       " '__lt__',\n",
       " '__module__',\n",
       " '__ne__',\n",
       " '__new__',\n",
       " '__parents',\n",
       " '__reduce__',\n",
       " '__reduce_ex__',\n",
       " '__repr__',\n",
       " '__setattr__',\n",
       " '__sizeof__',\n",
       " '__str__',\n",
       " '__subclasshook__',\n",
       " '__synonyms',\n",
       " '__terminology',\n",
       " '__weakref__',\n",
       " '_equivalent_to',\n",
       " '_get_instance_possible_relations',\n",
       " '_get_is_instance_of',\n",
       " '_instance_equivalent_to_changed',\n",
       " '_instance_is_a_changed',\n",
       " '_name',\n",
       " '_set_is_instance_of',\n",
       " 'differents',\n",
       " 'entity_class',\n",
       " 'generate_default_name',\n",
       " 'get_equivalent_to',\n",
       " 'get_inverse_properties',\n",
       " 'get_iri',\n",
       " 'get_name',\n",
       " 'get_properties',\n",
       " 'iri',\n",
       " 'is_a',\n",
       " 'is_instance_of',\n",
       " 'name',\n",
       " 'namespace',\n",
       " 'reload',\n",
       " 'set_equivalent_to',\n",
       " 'set_iri',\n",
       " 'set_name',\n",
       " 'storid']"
      ]
     },
     "execution_count": 71,
     "metadata": {},
     "output_type": "execute_result"
    }
   ],
   "source": [
    "dir(concept)"
   ]
  },
  {
   "cell_type": "code",
   "execution_count": 73,
   "id": "7f47c1a5",
   "metadata": {},
   "outputs": [
    {
     "data": {
      "text/plain": [
       "SRC.snomedct_us1"
      ]
     },
     "execution_count": 73,
     "metadata": {},
     "output_type": "execute_result"
    }
   ],
   "source": [
    "concept.__terminology()"
   ]
  },
  {
   "cell_type": "code",
   "execution_count": 77,
   "id": "660bc423",
   "metadata": {},
   "outputs": [
    {
     "data": {
      "text/plain": [
       "get_ontology(\"http://PYM/\").get_namespace(\"http://PYM/SNOMEDCT_US/\")"
      ]
     },
     "execution_count": 77,
     "metadata": {},
     "output_type": "execute_result"
    }
   ],
   "source": [
    "concept.namespace"
   ]
  },
  {
   "cell_type": "code",
   "execution_count": 83,
   "id": "27692aab",
   "metadata": {},
   "outputs": [
    {
     "data": {
      "text/plain": [
       "{PYM.has_interpretation,\n",
       " PYM.ctv3id,\n",
       " PYM.groups,\n",
       " PYM.synonyms,\n",
       " PYM.definition_status_id,\n",
       " PYM.subset_member,\n",
       " PYM.interprets,\n",
       " PYM.term_type,\n",
       " PYM.terminology,\n",
       " PYM.type_id,\n",
       " rdf-schema.label,\n",
       " PYM.case_significance_id,\n",
       " PYM.active,\n",
       " PYM.effective_time}"
      ]
     },
     "execution_count": 83,
     "metadata": {},
     "output_type": "execute_result"
    }
   ],
   "source": [
    "concept.get_class_properties()"
   ]
  },
  {
   "cell_type": "code",
   "execution_count": 118,
   "id": "92d6411d",
   "metadata": {},
   "outputs": [
    {
     "data": {
      "text/plain": [
       "'Electrocardiographic procedure'"
      ]
     },
     "execution_count": 118,
     "metadata": {},
     "output_type": "execute_result"
    }
   ],
   "source": [
    "list(concept.interprets)[0].label.first().split(\":\")[0].strip()"
   ]
  },
  {
   "cell_type": "code",
   "execution_count": 102,
   "id": "76a24551",
   "metadata": {},
   "outputs": [
    {
     "data": {
      "text/plain": [
       "['PT', 'SY', 'FN']"
      ]
     },
     "execution_count": 102,
     "metadata": {},
     "output_type": "execute_result"
    }
   ],
   "source": [
    "concept.term_type"
   ]
  },
  {
   "cell_type": "code",
   "execution_count": 104,
   "id": "bd9d7c3c",
   "metadata": {},
   "outputs": [
    {
     "data": {
      "text/plain": [
       "['900000000000074008']"
      ]
     },
     "execution_count": 104,
     "metadata": {},
     "output_type": "execute_result"
    }
   ],
   "source": [
    "concept.definition_status_id"
   ]
  },
  {
   "cell_type": "code",
   "execution_count": 106,
   "id": "d3d1eb85",
   "metadata": {},
   "outputs": [
    {
     "data": {
      "text/plain": [
       "[<Group 129964_1> # interprets=Electrocardiographic procedure ; has_interpretation=Abnormal,\n",
       " <Group 129964_2> # interprets=Q wave feature]"
      ]
     },
     "execution_count": 106,
     "metadata": {},
     "output_type": "execute_result"
    }
   ],
   "source": [
    "concept.groups"
   ]
  },
  {
   "cell_type": "code",
   "execution_count": 107,
   "id": "62cd41ad",
   "metadata": {},
   "outputs": [
    {
     "data": {
      "text/plain": [
       "[locstr('EKG: Q wave abnormal', 'en')]"
      ]
     },
     "execution_count": 107,
     "metadata": {},
     "output_type": "execute_result"
    }
   ],
   "source": [
    "concept.label"
   ]
  },
  {
   "cell_type": "code",
   "execution_count": 119,
   "id": "5cb3d4c2",
   "metadata": {},
   "outputs": [
    {
     "ename": "AttributeError",
     "evalue": "'fsn' property is not defined.",
     "output_type": "error",
     "traceback": [
      "\u001b[0;31m---------------------------------------------------------------------------\u001b[0m",
      "\u001b[0;31mAttributeError\u001b[0m                            Traceback (most recent call last)",
      "Cell \u001b[0;32mIn[119], line 1\u001b[0m\n\u001b[0;32m----> 1\u001b[0m fsn \u001b[38;5;241m=\u001b[39m concept\u001b[38;5;241m.\u001b[39mfsn[\u001b[38;5;241m0\u001b[39m]\u001b[38;5;241m.\u001b[39mname\n",
      "File \u001b[0;32m~/.local/lib/python3.11/site-packages/owlready2/pymedtermino2/model.py:222\u001b[0m, in \u001b[0;36mMetaConcept.__getattr__\u001b[0;34m(Class, attr)\u001b[0m\n\u001b[1;32m    219\u001b[0m   \u001b[38;5;28mtype\u001b[39m\u001b[38;5;241m.\u001b[39m\u001b[38;5;21m__setattr__\u001b[39m(Class, \u001b[38;5;124m\"\u001b[39m\u001b[38;5;124m__terminology\u001b[39m\u001b[38;5;124m\"\u001b[39m, r)\n\u001b[1;32m    220\u001b[0m   \u001b[38;5;28;01mreturn\u001b[39;00m r\n\u001b[0;32m--> 222\u001b[0m \u001b[38;5;28;01mreturn\u001b[39;00m ThingClass\u001b[38;5;241m.\u001b[39m\u001b[38;5;21m__getattr__\u001b[39m(Class, attr)\n",
      "File \u001b[0;32m~/.local/lib/python3.11/site-packages/owlready2/entity.py:611\u001b[0m, in \u001b[0;36mThingClass.__getattr__\u001b[0;34m(Class, attr)\u001b[0m\n\u001b[1;32m    609\u001b[0m \u001b[38;5;28;01melse\u001b[39;00m:\n\u001b[1;32m    610\u001b[0m   Prop \u001b[38;5;241m=\u001b[39m Class\u001b[38;5;241m.\u001b[39mnamespace\u001b[38;5;241m.\u001b[39mworld\u001b[38;5;241m.\u001b[39m_props\u001b[38;5;241m.\u001b[39mget(attr)\n\u001b[0;32m--> 611\u001b[0m   \u001b[38;5;28;01mif\u001b[39;00m \u001b[38;5;129;01mnot\u001b[39;00m Prop: \u001b[38;5;28;01mraise\u001b[39;00m \u001b[38;5;167;01mAttributeError\u001b[39;00m(\u001b[38;5;124m\"\u001b[39m\u001b[38;5;124m'\u001b[39m\u001b[38;5;132;01m%s\u001b[39;00m\u001b[38;5;124m'\u001b[39m\u001b[38;5;124m property is not defined.\u001b[39m\u001b[38;5;124m\"\u001b[39m \u001b[38;5;241m%\u001b[39m attr)\n\u001b[1;32m    612\u001b[0m   \u001b[38;5;28;01mif\u001b[39;00m issubclass_python(Prop, AnnotationProperty):\n\u001b[1;32m    613\u001b[0m     attr \u001b[38;5;241m=\u001b[39m \u001b[38;5;124m\"\u001b[39m\u001b[38;5;124m__\u001b[39m\u001b[38;5;132;01m%s\u001b[39;00m\u001b[38;5;124m\"\u001b[39m \u001b[38;5;241m%\u001b[39m attr \u001b[38;5;66;03m# Do NOT cache as such in __dict__, to avoid inheriting annotations\u001b[39;00m\n",
      "\u001b[0;31mAttributeError\u001b[0m: 'fsn' property is not defined."
     ]
    }
   ],
   "source": [
    "fsn = concept.fsn[0].name"
   ]
  },
  {
   "cell_type": "code",
   "execution_count": 124,
   "id": "be38aaac",
   "metadata": {},
   "outputs": [
    {
     "data": {
      "text/plain": [
       "{PYM.ctv3id,\n",
       " rdf-schema.label,\n",
       " PYM.synonyms,\n",
       " PYM.definition_status_id,\n",
       " PYM.subset_member,\n",
       " PYM.term_type,\n",
       " PYM.terminology,\n",
       " PYM.type_id,\n",
       " PYM.case_significance_id,\n",
       " PYM.active,\n",
       " PYM.effective_time}"
      ]
     },
     "execution_count": 124,
     "metadata": {},
     "output_type": "execute_result"
    }
   ],
   "source": [
    "concept.get_properties(concept)"
   ]
  },
  {
   "cell_type": "code",
   "execution_count": 140,
   "id": "96392949",
   "metadata": {},
   "outputs": [
    {
     "name": "stdout",
     "output_type": "stream",
     "text": [
      "PYM.effective_time\n",
      "PYM.effective_time: 20020131\n",
      "PYM.active\n",
      "PYM.active: 1\n",
      "PYM.case_significance_id\n",
      "PYM.case_significance_id: 900000000000017005\n",
      "PYM.case_significance_id: 900000000000020002\n",
      "PYM.type_id\n",
      "PYM.type_id: 900000000000013009\n",
      "PYM.type_id: 900000000000003001\n",
      "PYM.terminology\n",
      "PYM.terminology: PYM[\"SNOMEDCT_US\"] # US Edition of SNOMED CT\n",
      "\n",
      "PYM.term_type\n",
      "PYM.term_type: PT\n",
      "PYM.term_type: SY\n",
      "PYM.term_type: FN\n",
      "PYM.subset_member\n",
      "PYM.subset_member: 900000000000508004~ACCEPTABILITYID~900000000000548007\n",
      "PYM.subset_member: 900000000000509007~ACCEPTABILITYID~900000000000549004\n",
      "PYM.subset_member: 900000000000509007~ACCEPTABILITYID~900000000000548007\n",
      "PYM.subset_member: 900000000000508004~ACCEPTABILITYID~900000000000549004\n",
      "PYM.subset_member: 900000000000497000~MAPTARGET~32B2.\n",
      "PYM.subset_member: 6011000124106~MAPGROUP~1\n",
      "PYM.subset_member: 6011000124106~MAPCATEGORYID~447637006\n",
      "PYM.subset_member: 6011000124106~MAPPRIORITY~1\n",
      "PYM.subset_member: 6011000124106~MAPADVICE~ALWAYS R94.31\n",
      "PYM.subset_member: 6011000124106~CORRELATIONID~447561005\n",
      "PYM.subset_member: 6011000124106~MAPRULE~TRUE\n",
      "PYM.subset_member: 6011000124106~MAPTARGET~R94.31\n",
      "PYM.subset_member: 447562003~MAPGROUP~1\n",
      "PYM.subset_member: 447562003~CORRELATIONID~447561005\n",
      "PYM.subset_member: 447562003~MAPTARGET~R94.3\n",
      "PYM.subset_member: 447562003~MAPADVICE~ALWAYS R94.3\n",
      "PYM.subset_member: 447562003~MAPCATEGORYID~447637006\n",
      "PYM.subset_member: 447562003~MAPRULE~TRUE\n",
      "PYM.subset_member: 447562003~MAPPRIORITY~1\n",
      "PYM.definition_status_id\n",
      "PYM.definition_status_id: 900000000000074008\n",
      "PYM.synonyms\n",
      "PYM.synonyms: ECG: Q wave abnormal\n",
      "PYM.synonyms: Electrocardiographic Q wave abnormal\n",
      "PYM.synonyms: Electrocardiographic Q wave abnormal (finding)\n",
      "rdf-schema.label\n",
      "rdf-schema.label: EKG: Q wave abnormal\n",
      "PYM.ctv3id\n",
      "PYM.ctv3id: 32B2.\n"
     ]
    }
   ],
   "source": [
    "for rel in concept.get_properties(concept):\n",
    "    print(rel)\n",
    "    for value in rel[concept]:\n",
    "        print(f\"{rel}: {value}\")"
   ]
  },
  {
   "cell_type": "code",
   "execution_count": 128,
   "id": "8c6154a9",
   "metadata": {},
   "outputs": [
    {
     "name": "stdout",
     "output_type": "stream",
     "text": [
      "Defaulting to user installation because normal site-packages is not writeable\n",
      "Collecting wikipedia\n",
      "  Downloading wikipedia-1.4.0.tar.gz (27 kB)\n",
      "  Preparing metadata (setup.py) ... \u001b[?25ldone\n",
      "\u001b[?25hRequirement already satisfied: beautifulsoup4 in /apps/cent7/anaconda/2024.02/lib/python3.11/site-packages (from wikipedia) (4.12.2)\n",
      "Requirement already satisfied: requests<3.0.0,>=2.0.0 in /home/kmallick/.local/lib/python3.11/site-packages (from wikipedia) (2.32.3)\n",
      "Requirement already satisfied: charset-normalizer<4,>=2 in /apps/cent7/anaconda/2024.02/lib/python3.11/site-packages (from requests<3.0.0,>=2.0.0->wikipedia) (2.0.4)\n",
      "Requirement already satisfied: idna<4,>=2.5 in /apps/cent7/anaconda/2024.02/lib/python3.11/site-packages (from requests<3.0.0,>=2.0.0->wikipedia) (3.4)\n",
      "Requirement already satisfied: urllib3<3,>=1.21.1 in /apps/cent7/anaconda/2024.02/lib/python3.11/site-packages (from requests<3.0.0,>=2.0.0->wikipedia) (2.0.7)\n",
      "Requirement already satisfied: certifi>=2017.4.17 in /apps/cent7/anaconda/2024.02/lib/python3.11/site-packages (from requests<3.0.0,>=2.0.0->wikipedia) (2024.2.2)\n",
      "Requirement already satisfied: soupsieve>1.2 in /apps/cent7/anaconda/2024.02/lib/python3.11/site-packages (from beautifulsoup4->wikipedia) (2.5)\n",
      "Building wheels for collected packages: wikipedia\n",
      "  Building wheel for wikipedia (setup.py) ... \u001b[?25ldone\n",
      "\u001b[?25h  Created wheel for wikipedia: filename=wikipedia-1.4.0-py3-none-any.whl size=11678 sha256=ba21422284e30e45a352ad125294ad86195dab4de5500fac6fbcd63c3515d957\n",
      "  Stored in directory: /home/kmallick/.cache/pip/wheels/8f/ab/cb/45ccc40522d3a1c41e1d2ad53b8f33a62f394011ec38cd71c6\n",
      "Successfully built wikipedia\n",
      "Installing collected packages: wikipedia\n",
      "Successfully installed wikipedia-1.4.0\n"
     ]
    }
   ],
   "source": [
    "!pip install wikipedia"
   ]
  },
  {
   "cell_type": "code",
   "execution_count": 129,
   "id": "c259f0d1",
   "metadata": {},
   "outputs": [],
   "source": [
    "import wikipedia"
   ]
  },
  {
   "cell_type": "code",
   "execution_count": 141,
   "id": "36d09265",
   "metadata": {},
   "outputs": [
    {
     "data": {
      "text/plain": [
       "['20020131']"
      ]
     },
     "execution_count": 141,
     "metadata": {},
     "output_type": "execute_result"
    }
   ],
   "source": [
    "PYM.effective_time[concept]"
   ]
  },
  {
   "cell_type": "code",
   "execution_count": 144,
   "id": "a4eecefa",
   "metadata": {},
   "outputs": [],
   "source": [
    "summary = wikipedia.summary(concept.label.first().split(\":\")[1].strip())"
   ]
  },
  {
   "cell_type": "code",
   "execution_count": 134,
   "id": "83328255",
   "metadata": {},
   "outputs": [
    {
     "data": {
      "text/plain": [
       "'The QRS complex is the combination of three of the graphical deflections seen on a typical electrocardiogram (ECG or EKG). It is usually the central and most visually obvious part of the tracing. It corresponds to the depolarization of the right and left ventricles of the heart and contraction of the large ventricular muscles.\\nIn adults, the QRS complex normally lasts 80 to 100 ms; in children it may be shorter. The Q, R, and S waves occur in rapid succession, do not all appear in all leads, and reflect a single event and thus are usually considered together. A Q wave is any downward deflection immediately following the P wave. An R wave follows as an upward deflection, and the S wave is any downward deflection after the R wave. The T wave follows the S wave, and in some cases, an additional U wave follows the T wave.\\nTo measure the QRS interval start at the end of the PR interval (or beginning of the Q wave) to the end of the S wave. Normally this interval is 0.08 to 0.10 seconds. When the duration is longer it is considered a wide QRS complex.'"
      ]
     },
     "execution_count": 134,
     "metadata": {},
     "output_type": "execute_result"
    }
   ],
   "source": [
    "summary"
   ]
  }
 ],
 "metadata": {
  "kernelspec": {
   "display_name": "base",
   "language": "python",
   "name": "python3"
  },
  "language_info": {
   "codemirror_mode": {
    "name": "ipython",
    "version": 3
   },
   "file_extension": ".py",
   "mimetype": "text/x-python",
   "name": "python",
   "nbconvert_exporter": "python",
   "pygments_lexer": "ipython3",
   "version": "3.11.7"
  }
 },
 "nbformat": 4,
 "nbformat_minor": 5
}

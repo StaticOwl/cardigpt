{
 "cells": [
  {
   "cell_type": "code",
   "execution_count": 2,
   "id": "f097e9d2-baa1-4170-9e41-e283357894a7",
   "metadata": {},
   "outputs": [
    {
     "name": "stdout",
     "output_type": "stream",
     "text": [
      "Defaulting to user installation because normal site-packages is not writeable\n",
      "Collecting scikit-fuzzy\n",
      "  Downloading scikit_fuzzy-0.5.0-py2.py3-none-any.whl.metadata (2.6 kB)\n",
      "Downloading scikit_fuzzy-0.5.0-py2.py3-none-any.whl (920 kB)\n",
      "\u001b[2K   \u001b[90m━━━━━━━━━━━━━━━━━━━━━━━━━━━━━━━━━━━━━━━━\u001b[0m \u001b[32m920.8/920.8 kB\u001b[0m \u001b[31m11.3 MB/s\u001b[0m eta \u001b[36m0:00:00\u001b[0ma \u001b[36m0:00:01\u001b[0m\n",
      "\u001b[?25hInstalling collected packages: scikit-fuzzy\n",
      "Successfully installed scikit-fuzzy-0.5.0\n"
     ]
    }
   ],
   "source": [
    "!pip install scikit-fuzzy"
   ]
  },
  {
   "cell_type": "code",
   "execution_count": 5,
   "id": "b09fd85f-6138-4751-9fda-da8546607052",
   "metadata": {},
   "outputs": [],
   "source": [
    "from skfuzzy import control as ctrl\n",
    "import numpy as np\n",
    "import skfuzzy as fuzz\n",
    "\n",
    "condition_severity = ctrl.Antecedent(np.arange(0, 101, 1), 'condition_severity')\n",
    "symptom_relevance = ctrl.Antecedent(np.arange(0, 101, 1), 'symptom_relevance')\n",
    "recommendation = ctrl.Consequent(np.arange(0, 101, 1), 'recommendation')\n",
    "\n",
    "condition_severity['low'] = fuzz.trapmf(condition_severity.universe, [0, 0, 30, 50])\n",
    "condition_severity['medium'] = fuzz.trimf(condition_severity.universe, [30, 50, 70])\n",
    "condition_severity['high'] = fuzz.trapmf(condition_severity.universe, [50, 70, 100, 100])\n",
    "\n",
    "symptom_relevance['low'] = fuzz.trapmf(symptom_relevance.universe, [0, 0, 30, 50])\n",
    "symptom_relevance['medium'] = fuzz.trimf(symptom_relevance.universe, [30, 50, 70])\n",
    "symptom_relevance['high'] = fuzz.trapmf(symptom_relevance.universe, [50, 70, 100, 100])\n",
    "\n",
    "recommendation['routine'] = fuzz.trapmf(recommendation.universe, [0, 0, 30, 50])\n",
    "recommendation['priority'] = fuzz.trimf(recommendation.universe, [30, 50, 70])\n",
    "recommendation['urgent'] = fuzz.trapmf(recommendation.universe, [50, 70, 100, 100])\n",
    "\n",
    "rule1 = ctrl.Rule(condition_severity['high'] & symptom_relevance['high'], recommendation['urgent'])\n",
    "rule2 = ctrl.Rule(condition_severity['medium'] & symptom_relevance['medium'], recommendation['priority'])\n",
    "rule3 = ctrl.Rule(condition_severity['low'] & symptom_relevance['low'], recommendation['routine'])\n",
    "\n",
    "recommendation_ctrl = ctrl.ControlSystem([rule1, rule2, rule3])\n",
    "\n",
    "\n"
   ]
  },
  {
   "cell_type": "code",
   "execution_count": 9,
   "id": "9e0eb02e-2dc5-496b-9628-4f7b2ab727ea",
   "metadata": {},
   "outputs": [
    {
     "name": "stdout",
     "output_type": "stream",
     "text": [
      "79.58333333333333\n"
     ]
    }
   ],
   "source": [
    "recommendation_sim = ctrl.ControlSystemSimulation(recommendation_ctrl)\n",
    "recommendation_sim.input['condition_severity'] = 80\n",
    "recommendation_sim.input['symptom_relevance'] = 70\n",
    "recommendation_sim.compute()\n",
    "\n",
    "print(recommendation_sim.output['recommendation'])"
   ]
  },
  {
   "cell_type": "code",
   "execution_count": 13,
   "id": "b89a0137-a8e6-4375-9493-0c64d3423c54",
   "metadata": {},
   "outputs": [
    {
     "name": "stdout",
     "output_type": "stream",
     "text": [
      "Presence of attributes across .hea files:\n",
      "Dx: 38788 files\n",
      "Rx: 0 files\n",
      "Hx: 0 files\n",
      "Sx: 0 files\n",
      "Total .hea files processed: 38788\n"
     ]
    }
   ],
   "source": [
    "import os\n",
    "\n",
    "# Define the path where .hea files are stored\n",
    "hea_files_directory = '../pred_res/input_data/train'\n",
    "attribute_counts = {\"Dx\": 0, \"Rx\": 0, \"Hx\": 0, \"Sx\": 0}\n",
    "\n",
    "# Loop through all .hea files in the directory\n",
    "for filename in os.listdir(hea_files_directory):\n",
    "    if filename.endswith('.hea'):\n",
    "        # Open and read the file\n",
    "        with open(os.path.join(hea_files_directory, filename), 'r') as file:\n",
    "            content = file.read()\n",
    "            \n",
    "            # Check for the presence of each attribute\n",
    "            if \"#Dx: Unknown\" not in content:\n",
    "                attribute_counts[\"Dx\"] += 1\n",
    "            if \"#Rx: Unknown\" not in content:\n",
    "                attribute_counts[\"Rx\"] += 1\n",
    "            if \"#Hx: Unknown\" not in content:\n",
    "                attribute_counts[\"Hx\"] += 1\n",
    "            if \"#Sx: Unknown\" not in content:\n",
    "                attribute_counts[\"Sx\"] += 1\n",
    "\n",
    "# Print the count of files with each attribute\n",
    "print(\"Presence of attributes across .hea files:\")\n",
    "for attribute, count in attribute_counts.items():\n",
    "    print(f\"{attribute}: {count} files\")\n",
    "\n",
    "# Optional: Print total files processed for context\n",
    "total_files = len([f for f in os.listdir(hea_files_directory) if f.endswith('.hea')])\n",
    "print(f\"Total .hea files processed: {total_files}\")"
   ]
  },
  {
   "cell_type": "code",
   "execution_count": 14,
   "id": "8e763124-45f9-4d32-bef1-b80badec721e",
   "metadata": {},
   "outputs": [
    {
     "name": "stdout",
     "output_type": "stream",
     "text": [
      "Sun Oct 27 01:46:43 2024       \n",
      "+---------------------------------------------------------------------------------------+\n",
      "| NVIDIA-SMI 545.23.08              Driver Version: 545.23.08    CUDA Version: 12.3     |\n",
      "|-----------------------------------------+----------------------+----------------------+\n",
      "| GPU  Name                 Persistence-M | Bus-Id        Disp.A | Volatile Uncorr. ECC |\n",
      "| Fan  Temp   Perf          Pwr:Usage/Cap |         Memory-Usage | GPU-Util  Compute M. |\n",
      "|                                         |                      |               MIG M. |\n",
      "|=========================================+======================+======================|\n",
      "|   0  NVIDIA A10                     On  | 00000000:81:00.0 Off |                    0 |\n",
      "|  0%   36C    P0              62W / 150W |  17624MiB / 23028MiB |      8%      Default |\n",
      "|                                         |                      |                  N/A |\n",
      "+-----------------------------------------+----------------------+----------------------+\n",
      "                                                                                         \n",
      "+---------------------------------------------------------------------------------------+\n",
      "| Processes:                                                                            |\n",
      "|  GPU   GI   CI        PID   Type   Process name                            GPU Memory |\n",
      "|        ID   ID                                                             Usage      |\n",
      "|=======================================================================================|\n",
      "|    0   N/A  N/A     21221      C   python                                    17612MiB |\n",
      "+---------------------------------------------------------------------------------------+\n"
     ]
    }
   ],
   "source": [
    "!nvidia-smi"
   ]
  }
 ],
 "metadata": {
  "kernelspec": {
   "display_name": "Python 3.11 (Anaconda 2024.02)",
   "language": "python",
   "name": "anaconda-2024.02-py311"
  },
  "language_info": {
   "codemirror_mode": {
    "name": "ipython",
    "version": 3
   },
   "file_extension": ".py",
   "mimetype": "text/x-python",
   "name": "python",
   "nbconvert_exporter": "python",
   "pygments_lexer": "ipython3",
   "version": "3.11.7"
  }
 },
 "nbformat": 4,
 "nbformat_minor": 5
}
